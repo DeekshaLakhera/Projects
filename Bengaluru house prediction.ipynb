{
 "cells": [
  {
   "cell_type": "markdown",
   "id": "11012e72",
   "metadata": {},
   "source": [
    "#### Importing Important Libraries"
   ]
  },
  {
   "cell_type": "code",
   "execution_count": 312,
   "id": "66adfabf",
   "metadata": {},
   "outputs": [],
   "source": [
    "import pandas as pd\n",
    "import numpy as np\n",
    "\n",
    "import matplotlib.pyplot as plt\n",
    "import seaborn as sns\n",
    "\n",
    "from sklearn.model_selection import train_test_split, cross_val_score, GridSearchCV\n",
    "from sklearn.preprocessing import StandardScaler,MinMaxScaler,LabelEncoder,OneHotEncoder\n",
    "\n",
    "from sklearn.decomposition import PCA\n",
    "\n",
    "from sklearn.linear_model import LinearRegression\n",
    "from sklearn.svm import SVR\n",
    "from sklearn.tree import DecisionTreeRegressor\n",
    "from sklearn.neighbors import KNeighborsRegressor\n",
    "from sklearn.ensemble import RandomForestRegressor\n",
    "from sklearn.naive_bayes import GaussianNB\n",
    "\n",
    "from sklearn.metrics import r2_score, mean_absolute_error,mean_squared_error"
   ]
  },
  {
   "cell_type": "markdown",
   "id": "7a0dec93",
   "metadata": {},
   "source": [
    "#### Importing Dataset"
   ]
  },
  {
   "cell_type": "code",
   "execution_count": 313,
   "id": "1ad3e8bb",
   "metadata": {},
   "outputs": [],
   "source": [
    "df=pd.read_csv(r'E:/ML/EDA Datasets/Bengaluru_House_Data.csv')"
   ]
  },
  {
   "cell_type": "markdown",
   "id": "669e07bc",
   "metadata": {},
   "source": [
    "##### Top5 rows"
   ]
  },
  {
   "cell_type": "code",
   "execution_count": 314,
   "id": "467ef1e7",
   "metadata": {},
   "outputs": [
    {
     "data": {
      "text/html": [
       "<div>\n",
       "<style scoped>\n",
       "    .dataframe tbody tr th:only-of-type {\n",
       "        vertical-align: middle;\n",
       "    }\n",
       "\n",
       "    .dataframe tbody tr th {\n",
       "        vertical-align: top;\n",
       "    }\n",
       "\n",
       "    .dataframe thead th {\n",
       "        text-align: right;\n",
       "    }\n",
       "</style>\n",
       "<table border=\"1\" class=\"dataframe\">\n",
       "  <thead>\n",
       "    <tr style=\"text-align: right;\">\n",
       "      <th></th>\n",
       "      <th>area_type</th>\n",
       "      <th>availability</th>\n",
       "      <th>location</th>\n",
       "      <th>size</th>\n",
       "      <th>society</th>\n",
       "      <th>total_sqft</th>\n",
       "      <th>bath</th>\n",
       "      <th>balcony</th>\n",
       "      <th>price</th>\n",
       "    </tr>\n",
       "  </thead>\n",
       "  <tbody>\n",
       "    <tr>\n",
       "      <th>0</th>\n",
       "      <td>Super built-up  Area</td>\n",
       "      <td>19-Dec</td>\n",
       "      <td>Electronic City Phase II</td>\n",
       "      <td>2 BHK</td>\n",
       "      <td>Coomee</td>\n",
       "      <td>1056</td>\n",
       "      <td>2.0</td>\n",
       "      <td>1.0</td>\n",
       "      <td>39.07</td>\n",
       "    </tr>\n",
       "    <tr>\n",
       "      <th>1</th>\n",
       "      <td>Plot  Area</td>\n",
       "      <td>Ready To Move</td>\n",
       "      <td>Chikka Tirupathi</td>\n",
       "      <td>4 Bedroom</td>\n",
       "      <td>Theanmp</td>\n",
       "      <td>2600</td>\n",
       "      <td>5.0</td>\n",
       "      <td>3.0</td>\n",
       "      <td>120.00</td>\n",
       "    </tr>\n",
       "    <tr>\n",
       "      <th>2</th>\n",
       "      <td>Built-up  Area</td>\n",
       "      <td>Ready To Move</td>\n",
       "      <td>Uttarahalli</td>\n",
       "      <td>3 BHK</td>\n",
       "      <td>NaN</td>\n",
       "      <td>1440</td>\n",
       "      <td>2.0</td>\n",
       "      <td>3.0</td>\n",
       "      <td>62.00</td>\n",
       "    </tr>\n",
       "    <tr>\n",
       "      <th>3</th>\n",
       "      <td>Super built-up  Area</td>\n",
       "      <td>Ready To Move</td>\n",
       "      <td>Lingadheeranahalli</td>\n",
       "      <td>3 BHK</td>\n",
       "      <td>Soiewre</td>\n",
       "      <td>1521</td>\n",
       "      <td>3.0</td>\n",
       "      <td>1.0</td>\n",
       "      <td>95.00</td>\n",
       "    </tr>\n",
       "    <tr>\n",
       "      <th>4</th>\n",
       "      <td>Super built-up  Area</td>\n",
       "      <td>Ready To Move</td>\n",
       "      <td>Kothanur</td>\n",
       "      <td>2 BHK</td>\n",
       "      <td>NaN</td>\n",
       "      <td>1200</td>\n",
       "      <td>2.0</td>\n",
       "      <td>1.0</td>\n",
       "      <td>51.00</td>\n",
       "    </tr>\n",
       "  </tbody>\n",
       "</table>\n",
       "</div>"
      ],
      "text/plain": [
       "              area_type   availability                  location       size  \\\n",
       "0  Super built-up  Area         19-Dec  Electronic City Phase II      2 BHK   \n",
       "1            Plot  Area  Ready To Move          Chikka Tirupathi  4 Bedroom   \n",
       "2        Built-up  Area  Ready To Move               Uttarahalli      3 BHK   \n",
       "3  Super built-up  Area  Ready To Move        Lingadheeranahalli      3 BHK   \n",
       "4  Super built-up  Area  Ready To Move                  Kothanur      2 BHK   \n",
       "\n",
       "   society total_sqft  bath  balcony   price  \n",
       "0  Coomee        1056   2.0      1.0   39.07  \n",
       "1  Theanmp       2600   5.0      3.0  120.00  \n",
       "2      NaN       1440   2.0      3.0   62.00  \n",
       "3  Soiewre       1521   3.0      1.0   95.00  \n",
       "4      NaN       1200   2.0      1.0   51.00  "
      ]
     },
     "execution_count": 314,
     "metadata": {},
     "output_type": "execute_result"
    }
   ],
   "source": [
    "df.head()"
   ]
  },
  {
   "cell_type": "markdown",
   "id": "572e68c8",
   "metadata": {},
   "source": [
    "##### Shape of Dataset"
   ]
  },
  {
   "cell_type": "code",
   "execution_count": 203,
   "id": "362308a3",
   "metadata": {},
   "outputs": [
    {
     "data": {
      "text/plain": [
       "(13320, 9)"
      ]
     },
     "execution_count": 203,
     "metadata": {},
     "output_type": "execute_result"
    }
   ],
   "source": [
    "df.shape"
   ]
  },
  {
   "cell_type": "markdown",
   "id": "8cc6896c",
   "metadata": {},
   "source": [
    "##### Info"
   ]
  },
  {
   "cell_type": "code",
   "execution_count": 315,
   "id": "719ac04d",
   "metadata": {},
   "outputs": [
    {
     "name": "stdout",
     "output_type": "stream",
     "text": [
      "<class 'pandas.core.frame.DataFrame'>\n",
      "RangeIndex: 13320 entries, 0 to 13319\n",
      "Data columns (total 9 columns):\n",
      " #   Column        Non-Null Count  Dtype  \n",
      "---  ------        --------------  -----  \n",
      " 0   area_type     13320 non-null  object \n",
      " 1   availability  13320 non-null  object \n",
      " 2   location      13319 non-null  object \n",
      " 3   size          13304 non-null  object \n",
      " 4   society       7818 non-null   object \n",
      " 5   total_sqft    13320 non-null  object \n",
      " 6   bath          13247 non-null  float64\n",
      " 7   balcony       12711 non-null  float64\n",
      " 8   price         13320 non-null  float64\n",
      "dtypes: float64(3), object(6)\n",
      "memory usage: 936.7+ KB\n"
     ]
    }
   ],
   "source": [
    "df.info()"
   ]
  },
  {
   "cell_type": "markdown",
   "id": "e8e3cdc0",
   "metadata": {},
   "source": [
    "##### Checking For Null Values"
   ]
  },
  {
   "cell_type": "code",
   "execution_count": 316,
   "id": "3fe9e722",
   "metadata": {},
   "outputs": [
    {
     "data": {
      "text/plain": [
       "area_type          0\n",
       "availability       0\n",
       "location           1\n",
       "size              16\n",
       "society         5502\n",
       "total_sqft         0\n",
       "bath              73\n",
       "balcony          609\n",
       "price              0\n",
       "dtype: int64"
      ]
     },
     "execution_count": 316,
     "metadata": {},
     "output_type": "execute_result"
    }
   ],
   "source": [
    "df.isnull().sum()"
   ]
  },
  {
   "cell_type": "code",
   "execution_count": 317,
   "id": "7c178b7e",
   "metadata": {},
   "outputs": [
    {
     "data": {
      "text/plain": [
       "area_type       0.000000\n",
       "availability    0.000000\n",
       "location        0.000075\n",
       "size            0.001201\n",
       "society         0.413063\n",
       "total_sqft      0.000000\n",
       "bath            0.005480\n",
       "balcony         0.045721\n",
       "price           0.000000\n",
       "dtype: float64"
      ]
     },
     "execution_count": 317,
     "metadata": {},
     "output_type": "execute_result"
    }
   ],
   "source": [
    "df.isnull().mean()"
   ]
  },
  {
   "cell_type": "markdown",
   "id": "07624196",
   "metadata": {},
   "source": [
    "##### Imputation\n",
    "Filling Nan Values"
   ]
  },
  {
   "cell_type": "markdown",
   "id": "ba4c1c0a",
   "metadata": {},
   "source": [
    "##### Location and size"
   ]
  },
  {
   "cell_type": "raw",
   "id": "eb4c2c0f",
   "metadata": {},
   "source": [
    "filling nan value with mode of the column"
   ]
  },
  {
   "cell_type": "code",
   "execution_count": 318,
   "id": "743223f8",
   "metadata": {},
   "outputs": [
    {
     "data": {
      "text/plain": [
       "'Whitefield'"
      ]
     },
     "execution_count": 318,
     "metadata": {},
     "output_type": "execute_result"
    }
   ],
   "source": [
    "df['location'].mode()[0]"
   ]
  },
  {
   "cell_type": "code",
   "execution_count": 319,
   "id": "e53859e5",
   "metadata": {},
   "outputs": [],
   "source": [
    "df['location'].fillna(df['location'].mode()[0],inplace=True)"
   ]
  },
  {
   "cell_type": "code",
   "execution_count": 320,
   "id": "56a2a08c",
   "metadata": {},
   "outputs": [],
   "source": [
    "df['size'].fillna(df['size'].mode()[0],inplace=True)"
   ]
  },
  {
   "cell_type": "markdown",
   "id": "fbcc27eb",
   "metadata": {},
   "source": [
    "##### balcony"
   ]
  },
  {
   "cell_type": "raw",
   "id": "3cf1a918",
   "metadata": {},
   "source": [
    "filling nan value with the median"
   ]
  },
  {
   "cell_type": "code",
   "execution_count": 321,
   "id": "d4ad04ea",
   "metadata": {},
   "outputs": [],
   "source": [
    "df['balcony'].fillna(df['balcony'].median(),inplace=True)"
   ]
  },
  {
   "cell_type": "markdown",
   "id": "d53ee3f5",
   "metadata": {},
   "source": [
    "##### Data preprocessing"
   ]
  },
  {
   "cell_type": "code",
   "execution_count": 323,
   "id": "17a76f25",
   "metadata": {},
   "outputs": [],
   "source": [
    "months=['Jan','Feb','Mar','Apr','May','Jun','Jul','Aug','Sep','Oct','Nov','Dec']\n",
    "# def date(i):\n",
    "#     if i[:2].isnumeric()==True:\n",
    "#         i=i[:2]\n",
    "#     else:\n",
    "#         i='RTM'\n",
    "#     return i\n",
    "\n",
    "def month(m):\n",
    "    if m[3:6] in months:\n",
    "        m=m[3:6]\n",
    "    else:\n",
    "        m='RTM'\n",
    "    return m\n",
    "    "
   ]
  },
  {
   "cell_type": "code",
   "execution_count": 324,
   "id": "095eaf32",
   "metadata": {},
   "outputs": [],
   "source": [
    "# df['Date']=df['availability'].apply(date)"
   ]
  },
  {
   "cell_type": "code",
   "execution_count": 325,
   "id": "e419a7df",
   "metadata": {},
   "outputs": [],
   "source": [
    "import datetime\n",
    "df['month']=df['availability'].apply(month)\n",
    "def mntnum(m):\n",
    "    if m in months:\n",
    "        i=m\n",
    "        return datetime.datetime.strptime(i,'%b').month\n",
    "    else:\n",
    "        return 0"
   ]
  },
  {
   "cell_type": "code",
   "execution_count": 326,
   "id": "56b43176",
   "metadata": {},
   "outputs": [],
   "source": [
    "df['Monthnum']=df['month'].apply(mntnum)"
   ]
  },
  {
   "cell_type": "code",
   "execution_count": 327,
   "id": "4f0fe12d",
   "metadata": {},
   "outputs": [
    {
     "data": {
      "text/html": [
       "<div>\n",
       "<style scoped>\n",
       "    .dataframe tbody tr th:only-of-type {\n",
       "        vertical-align: middle;\n",
       "    }\n",
       "\n",
       "    .dataframe tbody tr th {\n",
       "        vertical-align: top;\n",
       "    }\n",
       "\n",
       "    .dataframe thead th {\n",
       "        text-align: right;\n",
       "    }\n",
       "</style>\n",
       "<table border=\"1\" class=\"dataframe\">\n",
       "  <thead>\n",
       "    <tr style=\"text-align: right;\">\n",
       "      <th></th>\n",
       "      <th>area_type</th>\n",
       "      <th>availability</th>\n",
       "      <th>location</th>\n",
       "      <th>size</th>\n",
       "      <th>society</th>\n",
       "      <th>total_sqft</th>\n",
       "      <th>bath</th>\n",
       "      <th>balcony</th>\n",
       "      <th>price</th>\n",
       "      <th>month</th>\n",
       "      <th>Monthnum</th>\n",
       "    </tr>\n",
       "  </thead>\n",
       "  <tbody>\n",
       "    <tr>\n",
       "      <th>0</th>\n",
       "      <td>Super built-up  Area</td>\n",
       "      <td>19-Dec</td>\n",
       "      <td>Electronic City Phase II</td>\n",
       "      <td>2 BHK</td>\n",
       "      <td>Coomee</td>\n",
       "      <td>1056</td>\n",
       "      <td>2.0</td>\n",
       "      <td>1.0</td>\n",
       "      <td>39.07</td>\n",
       "      <td>Dec</td>\n",
       "      <td>12</td>\n",
       "    </tr>\n",
       "    <tr>\n",
       "      <th>1</th>\n",
       "      <td>Plot  Area</td>\n",
       "      <td>Ready To Move</td>\n",
       "      <td>Chikka Tirupathi</td>\n",
       "      <td>4 Bedroom</td>\n",
       "      <td>Theanmp</td>\n",
       "      <td>2600</td>\n",
       "      <td>5.0</td>\n",
       "      <td>3.0</td>\n",
       "      <td>120.00</td>\n",
       "      <td>RTM</td>\n",
       "      <td>0</td>\n",
       "    </tr>\n",
       "    <tr>\n",
       "      <th>2</th>\n",
       "      <td>Built-up  Area</td>\n",
       "      <td>Ready To Move</td>\n",
       "      <td>Uttarahalli</td>\n",
       "      <td>3 BHK</td>\n",
       "      <td>NaN</td>\n",
       "      <td>1440</td>\n",
       "      <td>2.0</td>\n",
       "      <td>3.0</td>\n",
       "      <td>62.00</td>\n",
       "      <td>RTM</td>\n",
       "      <td>0</td>\n",
       "    </tr>\n",
       "    <tr>\n",
       "      <th>3</th>\n",
       "      <td>Super built-up  Area</td>\n",
       "      <td>Ready To Move</td>\n",
       "      <td>Lingadheeranahalli</td>\n",
       "      <td>3 BHK</td>\n",
       "      <td>Soiewre</td>\n",
       "      <td>1521</td>\n",
       "      <td>3.0</td>\n",
       "      <td>1.0</td>\n",
       "      <td>95.00</td>\n",
       "      <td>RTM</td>\n",
       "      <td>0</td>\n",
       "    </tr>\n",
       "    <tr>\n",
       "      <th>4</th>\n",
       "      <td>Super built-up  Area</td>\n",
       "      <td>Ready To Move</td>\n",
       "      <td>Kothanur</td>\n",
       "      <td>2 BHK</td>\n",
       "      <td>NaN</td>\n",
       "      <td>1200</td>\n",
       "      <td>2.0</td>\n",
       "      <td>1.0</td>\n",
       "      <td>51.00</td>\n",
       "      <td>RTM</td>\n",
       "      <td>0</td>\n",
       "    </tr>\n",
       "  </tbody>\n",
       "</table>\n",
       "</div>"
      ],
      "text/plain": [
       "              area_type   availability                  location       size  \\\n",
       "0  Super built-up  Area         19-Dec  Electronic City Phase II      2 BHK   \n",
       "1            Plot  Area  Ready To Move          Chikka Tirupathi  4 Bedroom   \n",
       "2        Built-up  Area  Ready To Move               Uttarahalli      3 BHK   \n",
       "3  Super built-up  Area  Ready To Move        Lingadheeranahalli      3 BHK   \n",
       "4  Super built-up  Area  Ready To Move                  Kothanur      2 BHK   \n",
       "\n",
       "   society total_sqft  bath  balcony   price month  Monthnum  \n",
       "0  Coomee        1056   2.0      1.0   39.07   Dec        12  \n",
       "1  Theanmp       2600   5.0      3.0  120.00   RTM         0  \n",
       "2      NaN       1440   2.0      3.0   62.00   RTM         0  \n",
       "3  Soiewre       1521   3.0      1.0   95.00   RTM         0  \n",
       "4      NaN       1200   2.0      1.0   51.00   RTM         0  "
      ]
     },
     "execution_count": 327,
     "metadata": {},
     "output_type": "execute_result"
    }
   ],
   "source": [
    "df.head()"
   ]
  },
  {
   "cell_type": "code",
   "execution_count": 328,
   "id": "5092dbac",
   "metadata": {},
   "outputs": [
    {
     "data": {
      "text/plain": [
       "2 BHK         5215\n",
       "3 BHK         4310\n",
       "4 Bedroom      826\n",
       "4 BHK          591\n",
       "3 Bedroom      547\n",
       "1 BHK          538\n",
       "2 Bedroom      329\n",
       "5 Bedroom      297\n",
       "6 Bedroom      191\n",
       "1 Bedroom      105\n",
       "8 Bedroom       84\n",
       "7 Bedroom       83\n",
       "5 BHK           59\n",
       "9 Bedroom       46\n",
       "6 BHK           30\n",
       "7 BHK           17\n",
       "1 RK            13\n",
       "10 Bedroom      12\n",
       "9 BHK            8\n",
       "8 BHK            5\n",
       "11 BHK           2\n",
       "11 Bedroom       2\n",
       "10 BHK           2\n",
       "43 Bedroom       1\n",
       "12 Bedroom       1\n",
       "16 BHK           1\n",
       "13 BHK           1\n",
       "19 BHK           1\n",
       "14 BHK           1\n",
       "27 BHK           1\n",
       "18 Bedroom       1\n",
       "Name: size, dtype: int64"
      ]
     },
     "execution_count": 328,
     "metadata": {},
     "output_type": "execute_result"
    }
   ],
   "source": [
    "df['size'].value_counts()"
   ]
  },
  {
   "cell_type": "code",
   "execution_count": 329,
   "id": "d95606f7",
   "metadata": {},
   "outputs": [],
   "source": [
    "def bhk(b):\n",
    "    if 'Bedroom' in b:\n",
    "        return b.replace('Bedroom','BHK')\n",
    "    else:\n",
    "        return b\n",
    "    "
   ]
  },
  {
   "cell_type": "code",
   "execution_count": 330,
   "id": "fc2635b2",
   "metadata": {},
   "outputs": [],
   "source": [
    "df['size']=df['size'].apply(bhk)"
   ]
  },
  {
   "cell_type": "code",
   "execution_count": 331,
   "id": "42aafa7f",
   "metadata": {},
   "outputs": [
    {
     "data": {
      "text/plain": [
       "array(['2 BHK', '4 BHK', '3 BHK', '6 BHK', '1 BHK', '1 RK', '8 BHK',\n",
       "       '7 BHK', '5 BHK', '11 BHK', '9 BHK', '27 BHK', '10 BHK', '19 BHK',\n",
       "       '16 BHK', '43 BHK', '14 BHK', '12 BHK', '13 BHK', '18 BHK'],\n",
       "      dtype=object)"
      ]
     },
     "execution_count": 331,
     "metadata": {},
     "output_type": "execute_result"
    }
   ],
   "source": [
    "df['size'].unique()"
   ]
  },
  {
   "cell_type": "code",
   "execution_count": 332,
   "id": "10f6644e",
   "metadata": {},
   "outputs": [],
   "source": [
    "df['Bedrooms']=df['size'].apply(lambda x:x[0])"
   ]
  },
  {
   "cell_type": "code",
   "execution_count": 333,
   "id": "ea67a862",
   "metadata": {},
   "outputs": [
    {
     "data": {
      "text/html": [
       "<div>\n",
       "<style scoped>\n",
       "    .dataframe tbody tr th:only-of-type {\n",
       "        vertical-align: middle;\n",
       "    }\n",
       "\n",
       "    .dataframe tbody tr th {\n",
       "        vertical-align: top;\n",
       "    }\n",
       "\n",
       "    .dataframe thead th {\n",
       "        text-align: right;\n",
       "    }\n",
       "</style>\n",
       "<table border=\"1\" class=\"dataframe\">\n",
       "  <thead>\n",
       "    <tr style=\"text-align: right;\">\n",
       "      <th></th>\n",
       "      <th>area_type</th>\n",
       "      <th>availability</th>\n",
       "      <th>location</th>\n",
       "      <th>size</th>\n",
       "      <th>society</th>\n",
       "      <th>total_sqft</th>\n",
       "      <th>bath</th>\n",
       "      <th>balcony</th>\n",
       "      <th>price</th>\n",
       "      <th>month</th>\n",
       "      <th>Monthnum</th>\n",
       "      <th>Bedrooms</th>\n",
       "    </tr>\n",
       "  </thead>\n",
       "  <tbody>\n",
       "    <tr>\n",
       "      <th>0</th>\n",
       "      <td>Super built-up  Area</td>\n",
       "      <td>19-Dec</td>\n",
       "      <td>Electronic City Phase II</td>\n",
       "      <td>2 BHK</td>\n",
       "      <td>Coomee</td>\n",
       "      <td>1056</td>\n",
       "      <td>2.0</td>\n",
       "      <td>1.0</td>\n",
       "      <td>39.07</td>\n",
       "      <td>Dec</td>\n",
       "      <td>12</td>\n",
       "      <td>2</td>\n",
       "    </tr>\n",
       "    <tr>\n",
       "      <th>1</th>\n",
       "      <td>Plot  Area</td>\n",
       "      <td>Ready To Move</td>\n",
       "      <td>Chikka Tirupathi</td>\n",
       "      <td>4 BHK</td>\n",
       "      <td>Theanmp</td>\n",
       "      <td>2600</td>\n",
       "      <td>5.0</td>\n",
       "      <td>3.0</td>\n",
       "      <td>120.00</td>\n",
       "      <td>RTM</td>\n",
       "      <td>0</td>\n",
       "      <td>4</td>\n",
       "    </tr>\n",
       "    <tr>\n",
       "      <th>2</th>\n",
       "      <td>Built-up  Area</td>\n",
       "      <td>Ready To Move</td>\n",
       "      <td>Uttarahalli</td>\n",
       "      <td>3 BHK</td>\n",
       "      <td>NaN</td>\n",
       "      <td>1440</td>\n",
       "      <td>2.0</td>\n",
       "      <td>3.0</td>\n",
       "      <td>62.00</td>\n",
       "      <td>RTM</td>\n",
       "      <td>0</td>\n",
       "      <td>3</td>\n",
       "    </tr>\n",
       "    <tr>\n",
       "      <th>3</th>\n",
       "      <td>Super built-up  Area</td>\n",
       "      <td>Ready To Move</td>\n",
       "      <td>Lingadheeranahalli</td>\n",
       "      <td>3 BHK</td>\n",
       "      <td>Soiewre</td>\n",
       "      <td>1521</td>\n",
       "      <td>3.0</td>\n",
       "      <td>1.0</td>\n",
       "      <td>95.00</td>\n",
       "      <td>RTM</td>\n",
       "      <td>0</td>\n",
       "      <td>3</td>\n",
       "    </tr>\n",
       "    <tr>\n",
       "      <th>4</th>\n",
       "      <td>Super built-up  Area</td>\n",
       "      <td>Ready To Move</td>\n",
       "      <td>Kothanur</td>\n",
       "      <td>2 BHK</td>\n",
       "      <td>NaN</td>\n",
       "      <td>1200</td>\n",
       "      <td>2.0</td>\n",
       "      <td>1.0</td>\n",
       "      <td>51.00</td>\n",
       "      <td>RTM</td>\n",
       "      <td>0</td>\n",
       "      <td>2</td>\n",
       "    </tr>\n",
       "  </tbody>\n",
       "</table>\n",
       "</div>"
      ],
      "text/plain": [
       "              area_type   availability                  location   size  \\\n",
       "0  Super built-up  Area         19-Dec  Electronic City Phase II  2 BHK   \n",
       "1            Plot  Area  Ready To Move          Chikka Tirupathi  4 BHK   \n",
       "2        Built-up  Area  Ready To Move               Uttarahalli  3 BHK   \n",
       "3  Super built-up  Area  Ready To Move        Lingadheeranahalli  3 BHK   \n",
       "4  Super built-up  Area  Ready To Move                  Kothanur  2 BHK   \n",
       "\n",
       "   society total_sqft  bath  balcony   price month  Monthnum Bedrooms  \n",
       "0  Coomee        1056   2.0      1.0   39.07   Dec        12        2  \n",
       "1  Theanmp       2600   5.0      3.0  120.00   RTM         0        4  \n",
       "2      NaN       1440   2.0      3.0   62.00   RTM         0        3  \n",
       "3  Soiewre       1521   3.0      1.0   95.00   RTM         0        3  \n",
       "4      NaN       1200   2.0      1.0   51.00   RTM         0        2  "
      ]
     },
     "execution_count": 333,
     "metadata": {},
     "output_type": "execute_result"
    }
   ],
   "source": [
    "df.head()"
   ]
  },
  {
   "cell_type": "code",
   "execution_count": 334,
   "id": "545b97ea",
   "metadata": {},
   "outputs": [],
   "source": [
    "df['location']=df['location'].apply(lambda x: x.strip())\n",
    "locations=df['location'].value_counts()"
   ]
  },
  {
   "cell_type": "code",
   "execution_count": 335,
   "id": "17efdd4a",
   "metadata": {},
   "outputs": [
    {
     "data": {
      "text/plain": [
       "Whitefield              542\n",
       "Sarjapur  Road          399\n",
       "Electronic City         304\n",
       "Kanakpura Road          273\n",
       "Thanisandra             237\n",
       "                       ... \n",
       "Venkateshpuram            1\n",
       "Indira Nagar Stage 2      1\n",
       "Banaswadi,                1\n",
       "Ganganahalli              1\n",
       "Air View Colony           1\n",
       "Name: location, Length: 1294, dtype: int64"
      ]
     },
     "execution_count": 335,
     "metadata": {},
     "output_type": "execute_result"
    }
   ],
   "source": [
    "df['location'].value_counts()"
   ]
  },
  {
   "cell_type": "code",
   "execution_count": 336,
   "id": "0fcde93c",
   "metadata": {},
   "outputs": [],
   "source": [
    "other=locations[locations<=10]"
   ]
  },
  {
   "cell_type": "code",
   "execution_count": 337,
   "id": "137ece4f",
   "metadata": {},
   "outputs": [],
   "source": [
    "df['location']=df['location'].apply(lambda x: 'other' if x in other else x)"
   ]
  },
  {
   "cell_type": "code",
   "execution_count": 338,
   "id": "140dbba6",
   "metadata": {},
   "outputs": [
    {
     "data": {
      "text/plain": [
       "other                        2885\n",
       "Whitefield                    542\n",
       "Sarjapur  Road                399\n",
       "Electronic City               304\n",
       "Kanakpura Road                273\n",
       "                             ... \n",
       "2nd Phase Judicial Layout      11\n",
       "Thyagaraja Nagar               11\n",
       "Nehru Nagar                    11\n",
       "LB Shastri Nagar               11\n",
       "HAL 2nd Stage                  11\n",
       "Name: location, Length: 242, dtype: int64"
      ]
     },
     "execution_count": 338,
     "metadata": {},
     "output_type": "execute_result"
    }
   ],
   "source": [
    "df['location'].value_counts()"
   ]
  },
  {
   "cell_type": "code",
   "execution_count": 339,
   "id": "1f546ad3",
   "metadata": {},
   "outputs": [
    {
     "data": {
      "text/plain": [
       "array(['1056', '2600', '1440', ..., '1133 - 1384', '774', '4689'],\n",
       "      dtype=object)"
      ]
     },
     "execution_count": 339,
     "metadata": {},
     "output_type": "execute_result"
    }
   ],
   "source": [
    "df['total_sqft'].unique()"
   ]
  },
  {
   "cell_type": "code",
   "execution_count": 340,
   "id": "98ea3661",
   "metadata": {},
   "outputs": [],
   "source": [
    "def fun(i):\n",
    "    if ' - ' in i:\n",
    "        j=i.split(' - ')\n",
    "        return (float(j[0]) + float(j[1]))/2\n",
    "    try:\n",
    "        return float(i)\n",
    "    except:\n",
    "        None"
   ]
  },
  {
   "cell_type": "code",
   "execution_count": 341,
   "id": "0f71ec2e",
   "metadata": {},
   "outputs": [],
   "source": [
    "df['total_sqft']=df['total_sqft'].apply(fun)"
   ]
  },
  {
   "cell_type": "code",
   "execution_count": 342,
   "id": "0c42dd9f",
   "metadata": {},
   "outputs": [],
   "source": [
    "df['Bedrooms']=df['Bedrooms'].astype('int')\n",
    "df['per_sqrft']=df['total_sqft']/df['Bedrooms']"
   ]
  },
  {
   "cell_type": "code",
   "execution_count": 343,
   "id": "c579ccb3",
   "metadata": {},
   "outputs": [],
   "source": [
    "df['price_per_sqrft']=df['price']*100000/df['total_sqft']"
   ]
  },
  {
   "cell_type": "code",
   "execution_count": 344,
   "id": "65313d56",
   "metadata": {},
   "outputs": [
    {
     "data": {
      "text/html": [
       "<div>\n",
       "<style scoped>\n",
       "    .dataframe tbody tr th:only-of-type {\n",
       "        vertical-align: middle;\n",
       "    }\n",
       "\n",
       "    .dataframe tbody tr th {\n",
       "        vertical-align: top;\n",
       "    }\n",
       "\n",
       "    .dataframe thead th {\n",
       "        text-align: right;\n",
       "    }\n",
       "</style>\n",
       "<table border=\"1\" class=\"dataframe\">\n",
       "  <thead>\n",
       "    <tr style=\"text-align: right;\">\n",
       "      <th></th>\n",
       "      <th>total_sqft</th>\n",
       "      <th>bath</th>\n",
       "      <th>balcony</th>\n",
       "      <th>price</th>\n",
       "      <th>Monthnum</th>\n",
       "      <th>Bedrooms</th>\n",
       "      <th>per_sqrft</th>\n",
       "      <th>price_per_sqrft</th>\n",
       "    </tr>\n",
       "  </thead>\n",
       "  <tbody>\n",
       "    <tr>\n",
       "      <th>count</th>\n",
       "      <td>13274.000000</td>\n",
       "      <td>13247.000000</td>\n",
       "      <td>13320.000000</td>\n",
       "      <td>13320.000000</td>\n",
       "      <td>13320.000000</td>\n",
       "      <td>13320.000000</td>\n",
       "      <td>13274.000000</td>\n",
       "      <td>1.327400e+04</td>\n",
       "    </tr>\n",
       "    <tr>\n",
       "      <th>mean</th>\n",
       "      <td>1559.626694</td>\n",
       "      <td>2.692610</td>\n",
       "      <td>1.603378</td>\n",
       "      <td>112.565627</td>\n",
       "      <td>1.488589</td>\n",
       "      <td>2.779054</td>\n",
       "      <td>581.103776</td>\n",
       "      <td>7.907501e+03</td>\n",
       "    </tr>\n",
       "    <tr>\n",
       "      <th>std</th>\n",
       "      <td>1238.405258</td>\n",
       "      <td>1.341458</td>\n",
       "      <td>0.803067</td>\n",
       "      <td>148.971674</td>\n",
       "      <td>3.357139</td>\n",
       "      <td>1.169434</td>\n",
       "      <td>427.535606</td>\n",
       "      <td>1.064296e+05</td>\n",
       "    </tr>\n",
       "    <tr>\n",
       "      <th>min</th>\n",
       "      <td>1.000000</td>\n",
       "      <td>1.000000</td>\n",
       "      <td>0.000000</td>\n",
       "      <td>8.000000</td>\n",
       "      <td>0.000000</td>\n",
       "      <td>1.000000</td>\n",
       "      <td>0.250000</td>\n",
       "      <td>2.678298e+02</td>\n",
       "    </tr>\n",
       "    <tr>\n",
       "      <th>25%</th>\n",
       "      <td>1100.000000</td>\n",
       "      <td>2.000000</td>\n",
       "      <td>1.000000</td>\n",
       "      <td>50.000000</td>\n",
       "      <td>0.000000</td>\n",
       "      <td>2.000000</td>\n",
       "      <td>475.000000</td>\n",
       "      <td>4.266865e+03</td>\n",
       "    </tr>\n",
       "    <tr>\n",
       "      <th>50%</th>\n",
       "      <td>1276.000000</td>\n",
       "      <td>2.000000</td>\n",
       "      <td>2.000000</td>\n",
       "      <td>72.000000</td>\n",
       "      <td>0.000000</td>\n",
       "      <td>3.000000</td>\n",
       "      <td>553.166667</td>\n",
       "      <td>5.434306e+03</td>\n",
       "    </tr>\n",
       "    <tr>\n",
       "      <th>75%</th>\n",
       "      <td>1680.000000</td>\n",
       "      <td>3.000000</td>\n",
       "      <td>2.000000</td>\n",
       "      <td>120.000000</td>\n",
       "      <td>0.000000</td>\n",
       "      <td>3.000000</td>\n",
       "      <td>625.500000</td>\n",
       "      <td>7.311746e+03</td>\n",
       "    </tr>\n",
       "    <tr>\n",
       "      <th>max</th>\n",
       "      <td>52272.000000</td>\n",
       "      <td>40.000000</td>\n",
       "      <td>3.000000</td>\n",
       "      <td>3600.000000</td>\n",
       "      <td>12.000000</td>\n",
       "      <td>9.000000</td>\n",
       "      <td>26136.000000</td>\n",
       "      <td>1.200000e+07</td>\n",
       "    </tr>\n",
       "  </tbody>\n",
       "</table>\n",
       "</div>"
      ],
      "text/plain": [
       "         total_sqft          bath       balcony         price      Monthnum  \\\n",
       "count  13274.000000  13247.000000  13320.000000  13320.000000  13320.000000   \n",
       "mean    1559.626694      2.692610      1.603378    112.565627      1.488589   \n",
       "std     1238.405258      1.341458      0.803067    148.971674      3.357139   \n",
       "min        1.000000      1.000000      0.000000      8.000000      0.000000   \n",
       "25%     1100.000000      2.000000      1.000000     50.000000      0.000000   \n",
       "50%     1276.000000      2.000000      2.000000     72.000000      0.000000   \n",
       "75%     1680.000000      3.000000      2.000000    120.000000      0.000000   \n",
       "max    52272.000000     40.000000      3.000000   3600.000000     12.000000   \n",
       "\n",
       "           Bedrooms     per_sqrft  price_per_sqrft  \n",
       "count  13320.000000  13274.000000     1.327400e+04  \n",
       "mean       2.779054    581.103776     7.907501e+03  \n",
       "std        1.169434    427.535606     1.064296e+05  \n",
       "min        1.000000      0.250000     2.678298e+02  \n",
       "25%        2.000000    475.000000     4.266865e+03  \n",
       "50%        3.000000    553.166667     5.434306e+03  \n",
       "75%        3.000000    625.500000     7.311746e+03  \n",
       "max        9.000000  26136.000000     1.200000e+07  "
      ]
     },
     "execution_count": 344,
     "metadata": {},
     "output_type": "execute_result"
    }
   ],
   "source": [
    "df.describe()"
   ]
  },
  {
   "cell_type": "markdown",
   "id": "dcceec73",
   "metadata": {},
   "source": [
    "#### OUTLIER Removal"
   ]
  },
  {
   "cell_type": "raw",
   "id": "3e0fe83b",
   "metadata": {},
   "source": [
    "min(per_sqft)=0.25 which is an outlier\n",
    "min(total_sqft)=1"
   ]
  },
  {
   "cell_type": "raw",
   "id": "cc5e3a9d",
   "metadata": {},
   "source": [
    "flat per_sqft<300 not acceptable\n",
    "we will remove that flats"
   ]
  },
  {
   "cell_type": "code",
   "execution_count": 345,
   "id": "69022fa4",
   "metadata": {},
   "outputs": [],
   "source": [
    "df=df[df['per_sqrft']>=300]"
   ]
  },
  {
   "cell_type": "code",
   "execution_count": 346,
   "id": "4ec8acce",
   "metadata": {},
   "outputs": [
    {
     "data": {
      "text/plain": [
       "(12546, 14)"
      ]
     },
     "execution_count": 346,
     "metadata": {},
     "output_type": "execute_result"
    }
   ],
   "source": [
    "df.shape"
   ]
  },
  {
   "cell_type": "raw",
   "id": "671995dc",
   "metadata": {},
   "source": [
    "We keep only those flates which are near price_per_sqrft's std"
   ]
  },
  {
   "cell_type": "code",
   "execution_count": 350,
   "id": "cccad1ba",
   "metadata": {},
   "outputs": [
    {
     "data": {
      "text/html": [
       "<div>\n",
       "<style scoped>\n",
       "    .dataframe tbody tr th:only-of-type {\n",
       "        vertical-align: middle;\n",
       "    }\n",
       "\n",
       "    .dataframe tbody tr th {\n",
       "        vertical-align: top;\n",
       "    }\n",
       "\n",
       "    .dataframe thead th {\n",
       "        text-align: right;\n",
       "    }\n",
       "</style>\n",
       "<table border=\"1\" class=\"dataframe\">\n",
       "  <thead>\n",
       "    <tr style=\"text-align: right;\">\n",
       "      <th></th>\n",
       "      <th>total_sqft</th>\n",
       "      <th>bath</th>\n",
       "      <th>balcony</th>\n",
       "      <th>price</th>\n",
       "      <th>Monthnum</th>\n",
       "      <th>Bedrooms</th>\n",
       "      <th>per_sqrft</th>\n",
       "      <th>price_per_sqrft</th>\n",
       "    </tr>\n",
       "  </thead>\n",
       "  <tbody>\n",
       "    <tr>\n",
       "      <th>count</th>\n",
       "      <td>4415.000000</td>\n",
       "      <td>4415.000000</td>\n",
       "      <td>4415.000000</td>\n",
       "      <td>4415.000000</td>\n",
       "      <td>4415.000000</td>\n",
       "      <td>4415.000000</td>\n",
       "      <td>4415.000000</td>\n",
       "      <td>4415.000000</td>\n",
       "    </tr>\n",
       "    <tr>\n",
       "      <th>mean</th>\n",
       "      <td>1442.893022</td>\n",
       "      <td>2.402265</td>\n",
       "      <td>1.641676</td>\n",
       "      <td>82.847558</td>\n",
       "      <td>1.719819</td>\n",
       "      <td>2.488109</td>\n",
       "      <td>578.218807</td>\n",
       "      <td>5466.208092</td>\n",
       "    </tr>\n",
       "    <tr>\n",
       "      <th>std</th>\n",
       "      <td>614.709971</td>\n",
       "      <td>0.786090</td>\n",
       "      <td>0.756655</td>\n",
       "      <td>58.918081</td>\n",
       "      <td>3.567728</td>\n",
       "      <td>0.673319</td>\n",
       "      <td>147.731712</td>\n",
       "      <td>1712.911045</td>\n",
       "    </tr>\n",
       "    <tr>\n",
       "      <th>min</th>\n",
       "      <td>350.000000</td>\n",
       "      <td>1.000000</td>\n",
       "      <td>0.000000</td>\n",
       "      <td>10.000000</td>\n",
       "      <td>0.000000</td>\n",
       "      <td>1.000000</td>\n",
       "      <td>303.000000</td>\n",
       "      <td>2444.444444</td>\n",
       "    </tr>\n",
       "    <tr>\n",
       "      <th>25%</th>\n",
       "      <td>1121.750000</td>\n",
       "      <td>2.000000</td>\n",
       "      <td>1.000000</td>\n",
       "      <td>51.000000</td>\n",
       "      <td>0.000000</td>\n",
       "      <td>2.000000</td>\n",
       "      <td>500.000000</td>\n",
       "      <td>4444.444444</td>\n",
       "    </tr>\n",
       "    <tr>\n",
       "      <th>50%</th>\n",
       "      <td>1300.000000</td>\n",
       "      <td>2.000000</td>\n",
       "      <td>2.000000</td>\n",
       "      <td>69.000000</td>\n",
       "      <td>0.000000</td>\n",
       "      <td>2.000000</td>\n",
       "      <td>564.333333</td>\n",
       "      <td>5238.319962</td>\n",
       "    </tr>\n",
       "    <tr>\n",
       "      <th>75%</th>\n",
       "      <td>1620.000000</td>\n",
       "      <td>3.000000</td>\n",
       "      <td>2.000000</td>\n",
       "      <td>95.000000</td>\n",
       "      <td>0.000000</td>\n",
       "      <td>3.000000</td>\n",
       "      <td>626.666667</td>\n",
       "      <td>6168.205291</td>\n",
       "    </tr>\n",
       "    <tr>\n",
       "      <th>max</th>\n",
       "      <td>14000.000000</td>\n",
       "      <td>9.000000</td>\n",
       "      <td>3.000000</td>\n",
       "      <td>800.000000</td>\n",
       "      <td>12.000000</td>\n",
       "      <td>5.000000</td>\n",
       "      <td>5000.000000</td>\n",
       "      <td>20645.161290</td>\n",
       "    </tr>\n",
       "  </tbody>\n",
       "</table>\n",
       "</div>"
      ],
      "text/plain": [
       "         total_sqft         bath      balcony        price     Monthnum  \\\n",
       "count   4415.000000  4415.000000  4415.000000  4415.000000  4415.000000   \n",
       "mean    1442.893022     2.402265     1.641676    82.847558     1.719819   \n",
       "std      614.709971     0.786090     0.756655    58.918081     3.567728   \n",
       "min      350.000000     1.000000     0.000000    10.000000     0.000000   \n",
       "25%     1121.750000     2.000000     1.000000    51.000000     0.000000   \n",
       "50%     1300.000000     2.000000     2.000000    69.000000     0.000000   \n",
       "75%     1620.000000     3.000000     2.000000    95.000000     0.000000   \n",
       "max    14000.000000     9.000000     3.000000   800.000000    12.000000   \n",
       "\n",
       "          Bedrooms    per_sqrft  price_per_sqrft  \n",
       "count  4415.000000  4415.000000      4415.000000  \n",
       "mean      2.488109   578.218807      5466.208092  \n",
       "std       0.673319   147.731712      1712.911045  \n",
       "min       1.000000   303.000000      2444.444444  \n",
       "25%       2.000000   500.000000      4444.444444  \n",
       "50%       2.000000   564.333333      5238.319962  \n",
       "75%       3.000000   626.666667      6168.205291  \n",
       "max       5.000000  5000.000000     20645.161290  "
      ]
     },
     "execution_count": 350,
     "metadata": {},
     "output_type": "execute_result"
    }
   ],
   "source": [
    "def outlier_removepps(df):\n",
    "    df_out = pd.DataFrame()\n",
    "    for key, subdf in df.groupby('location'):\n",
    "        m = np.mean(subdf.price_per_sqrft)\n",
    "        st = np.std(subdf.price_per_sqrft)\n",
    "        reduced_df = subdf[(subdf.price_per_sqrft>(m-st)) & (subdf.price_per_sqrft<=(m+st))]\n",
    "        df_out = pd.concat([df_out,reduced_df],ignore_index=True)\n",
    "    return df_out\n",
    "df = outlier_removepps(df)\n",
    "df.describe()"
   ]
  },
  {
   "cell_type": "code",
   "execution_count": 351,
   "id": "9dd1d67f",
   "metadata": {},
   "outputs": [],
   "source": [
    "df.dropna(inplace=True)"
   ]
  },
  {
   "cell_type": "code",
   "execution_count": 352,
   "id": "42a6caf5",
   "metadata": {},
   "outputs": [
    {
     "data": {
      "text/html": [
       "<div>\n",
       "<style scoped>\n",
       "    .dataframe tbody tr th:only-of-type {\n",
       "        vertical-align: middle;\n",
       "    }\n",
       "\n",
       "    .dataframe tbody tr th {\n",
       "        vertical-align: top;\n",
       "    }\n",
       "\n",
       "    .dataframe thead th {\n",
       "        text-align: right;\n",
       "    }\n",
       "</style>\n",
       "<table border=\"1\" class=\"dataframe\">\n",
       "  <thead>\n",
       "    <tr style=\"text-align: right;\">\n",
       "      <th></th>\n",
       "      <th>area_type</th>\n",
       "      <th>availability</th>\n",
       "      <th>location</th>\n",
       "      <th>size</th>\n",
       "      <th>society</th>\n",
       "      <th>total_sqft</th>\n",
       "      <th>bath</th>\n",
       "      <th>balcony</th>\n",
       "      <th>price</th>\n",
       "      <th>month</th>\n",
       "      <th>Monthnum</th>\n",
       "      <th>Bedrooms</th>\n",
       "      <th>per_sqrft</th>\n",
       "      <th>price_per_sqrft</th>\n",
       "    </tr>\n",
       "  </thead>\n",
       "  <tbody>\n",
       "    <tr>\n",
       "      <th>0</th>\n",
       "      <td>Super built-up  Area</td>\n",
       "      <td>Ready To Move</td>\n",
       "      <td>1st Phase JP Nagar</td>\n",
       "      <td>4 BHK</td>\n",
       "      <td>Prhtsok</td>\n",
       "      <td>2825.0</td>\n",
       "      <td>4.0</td>\n",
       "      <td>3.0</td>\n",
       "      <td>250.0</td>\n",
       "      <td>RTM</td>\n",
       "      <td>0</td>\n",
       "      <td>4</td>\n",
       "      <td>706.250000</td>\n",
       "      <td>8849.557522</td>\n",
       "    </tr>\n",
       "    <tr>\n",
       "      <th>1</th>\n",
       "      <td>Super built-up  Area</td>\n",
       "      <td>Ready To Move</td>\n",
       "      <td>1st Phase JP Nagar</td>\n",
       "      <td>3 BHK</td>\n",
       "      <td>Prhtsok</td>\n",
       "      <td>1875.0</td>\n",
       "      <td>3.0</td>\n",
       "      <td>1.0</td>\n",
       "      <td>167.0</td>\n",
       "      <td>RTM</td>\n",
       "      <td>0</td>\n",
       "      <td>3</td>\n",
       "      <td>625.000000</td>\n",
       "      <td>8906.666667</td>\n",
       "    </tr>\n",
       "    <tr>\n",
       "      <th>2</th>\n",
       "      <td>Super built-up  Area</td>\n",
       "      <td>Ready To Move</td>\n",
       "      <td>1st Phase JP Nagar</td>\n",
       "      <td>3 BHK</td>\n",
       "      <td>NCaveun</td>\n",
       "      <td>2024.0</td>\n",
       "      <td>3.0</td>\n",
       "      <td>2.0</td>\n",
       "      <td>157.0</td>\n",
       "      <td>RTM</td>\n",
       "      <td>0</td>\n",
       "      <td>3</td>\n",
       "      <td>674.666667</td>\n",
       "      <td>7756.916996</td>\n",
       "    </tr>\n",
       "    <tr>\n",
       "      <th>3</th>\n",
       "      <td>Super built-up  Area</td>\n",
       "      <td>Ready To Move</td>\n",
       "      <td>1st Phase JP Nagar</td>\n",
       "      <td>2 BHK</td>\n",
       "      <td>NCaveun</td>\n",
       "      <td>1394.0</td>\n",
       "      <td>2.0</td>\n",
       "      <td>1.0</td>\n",
       "      <td>100.0</td>\n",
       "      <td>RTM</td>\n",
       "      <td>0</td>\n",
       "      <td>2</td>\n",
       "      <td>697.000000</td>\n",
       "      <td>7173.601148</td>\n",
       "    </tr>\n",
       "    <tr>\n",
       "      <th>4</th>\n",
       "      <td>Super built-up  Area</td>\n",
       "      <td>18-May</td>\n",
       "      <td>1st Phase JP Nagar</td>\n",
       "      <td>2 BHK</td>\n",
       "      <td>Inntsth</td>\n",
       "      <td>1077.0</td>\n",
       "      <td>2.0</td>\n",
       "      <td>2.0</td>\n",
       "      <td>93.0</td>\n",
       "      <td>May</td>\n",
       "      <td>5</td>\n",
       "      <td>2</td>\n",
       "      <td>538.500000</td>\n",
       "      <td>8635.097493</td>\n",
       "    </tr>\n",
       "  </tbody>\n",
       "</table>\n",
       "</div>"
      ],
      "text/plain": [
       "              area_type   availability            location   size  society  \\\n",
       "0  Super built-up  Area  Ready To Move  1st Phase JP Nagar  4 BHK  Prhtsok   \n",
       "1  Super built-up  Area  Ready To Move  1st Phase JP Nagar  3 BHK  Prhtsok   \n",
       "2  Super built-up  Area  Ready To Move  1st Phase JP Nagar  3 BHK  NCaveun   \n",
       "3  Super built-up  Area  Ready To Move  1st Phase JP Nagar  2 BHK  NCaveun   \n",
       "4  Super built-up  Area         18-May  1st Phase JP Nagar  2 BHK  Inntsth   \n",
       "\n",
       "   total_sqft  bath  balcony  price month  Monthnum  Bedrooms   per_sqrft  \\\n",
       "0      2825.0   4.0      3.0  250.0   RTM         0         4  706.250000   \n",
       "1      1875.0   3.0      1.0  167.0   RTM         0         3  625.000000   \n",
       "2      2024.0   3.0      2.0  157.0   RTM         0         3  674.666667   \n",
       "3      1394.0   2.0      1.0  100.0   RTM         0         2  697.000000   \n",
       "4      1077.0   2.0      2.0   93.0   May         5         2  538.500000   \n",
       "\n",
       "   price_per_sqrft  \n",
       "0      8849.557522  \n",
       "1      8906.666667  \n",
       "2      7756.916996  \n",
       "3      7173.601148  \n",
       "4      8635.097493  "
      ]
     },
     "execution_count": 352,
     "metadata": {},
     "output_type": "execute_result"
    }
   ],
   "source": [
    "df.head()"
   ]
  },
  {
   "cell_type": "code",
   "execution_count": 353,
   "id": "3bb5282c",
   "metadata": {},
   "outputs": [
    {
     "data": {
      "text/plain": [
       "Index(['area_type', 'availability', 'location', 'size', 'society',\n",
       "       'total_sqft', 'bath', 'balcony', 'price', 'month', 'Monthnum',\n",
       "       'Bedrooms', 'per_sqrft', 'price_per_sqrft'],\n",
       "      dtype='object')"
      ]
     },
     "execution_count": 353,
     "metadata": {},
     "output_type": "execute_result"
    }
   ],
   "source": [
    "df.columns"
   ]
  },
  {
   "cell_type": "markdown",
   "id": "8d76f4ed",
   "metadata": {},
   "source": [
    "#### EDA"
   ]
  },
  {
   "cell_type": "code",
   "execution_count": 354,
   "id": "08224d96",
   "metadata": {},
   "outputs": [
    {
     "data": {
      "text/html": [
       "<div>\n",
       "<style scoped>\n",
       "    .dataframe tbody tr th:only-of-type {\n",
       "        vertical-align: middle;\n",
       "    }\n",
       "\n",
       "    .dataframe tbody tr th {\n",
       "        vertical-align: top;\n",
       "    }\n",
       "\n",
       "    .dataframe thead th {\n",
       "        text-align: right;\n",
       "    }\n",
       "</style>\n",
       "<table border=\"1\" class=\"dataframe\">\n",
       "  <thead>\n",
       "    <tr style=\"text-align: right;\">\n",
       "      <th></th>\n",
       "      <th>area_type</th>\n",
       "      <th>availability</th>\n",
       "      <th>location</th>\n",
       "      <th>size</th>\n",
       "      <th>society</th>\n",
       "      <th>total_sqft</th>\n",
       "      <th>bath</th>\n",
       "      <th>balcony</th>\n",
       "      <th>price</th>\n",
       "      <th>month</th>\n",
       "      <th>Monthnum</th>\n",
       "      <th>Bedrooms</th>\n",
       "      <th>per_sqrft</th>\n",
       "      <th>price_per_sqrft</th>\n",
       "    </tr>\n",
       "  </thead>\n",
       "  <tbody>\n",
       "    <tr>\n",
       "      <th>0</th>\n",
       "      <td>Super built-up  Area</td>\n",
       "      <td>Ready To Move</td>\n",
       "      <td>1st Phase JP Nagar</td>\n",
       "      <td>4 BHK</td>\n",
       "      <td>Prhtsok</td>\n",
       "      <td>2825.0</td>\n",
       "      <td>4.0</td>\n",
       "      <td>3.0</td>\n",
       "      <td>250.0</td>\n",
       "      <td>RTM</td>\n",
       "      <td>0</td>\n",
       "      <td>4</td>\n",
       "      <td>706.250000</td>\n",
       "      <td>8849.557522</td>\n",
       "    </tr>\n",
       "    <tr>\n",
       "      <th>1</th>\n",
       "      <td>Super built-up  Area</td>\n",
       "      <td>Ready To Move</td>\n",
       "      <td>1st Phase JP Nagar</td>\n",
       "      <td>3 BHK</td>\n",
       "      <td>Prhtsok</td>\n",
       "      <td>1875.0</td>\n",
       "      <td>3.0</td>\n",
       "      <td>1.0</td>\n",
       "      <td>167.0</td>\n",
       "      <td>RTM</td>\n",
       "      <td>0</td>\n",
       "      <td>3</td>\n",
       "      <td>625.000000</td>\n",
       "      <td>8906.666667</td>\n",
       "    </tr>\n",
       "    <tr>\n",
       "      <th>2</th>\n",
       "      <td>Super built-up  Area</td>\n",
       "      <td>Ready To Move</td>\n",
       "      <td>1st Phase JP Nagar</td>\n",
       "      <td>3 BHK</td>\n",
       "      <td>NCaveun</td>\n",
       "      <td>2024.0</td>\n",
       "      <td>3.0</td>\n",
       "      <td>2.0</td>\n",
       "      <td>157.0</td>\n",
       "      <td>RTM</td>\n",
       "      <td>0</td>\n",
       "      <td>3</td>\n",
       "      <td>674.666667</td>\n",
       "      <td>7756.916996</td>\n",
       "    </tr>\n",
       "    <tr>\n",
       "      <th>3</th>\n",
       "      <td>Super built-up  Area</td>\n",
       "      <td>Ready To Move</td>\n",
       "      <td>1st Phase JP Nagar</td>\n",
       "      <td>2 BHK</td>\n",
       "      <td>NCaveun</td>\n",
       "      <td>1394.0</td>\n",
       "      <td>2.0</td>\n",
       "      <td>1.0</td>\n",
       "      <td>100.0</td>\n",
       "      <td>RTM</td>\n",
       "      <td>0</td>\n",
       "      <td>2</td>\n",
       "      <td>697.000000</td>\n",
       "      <td>7173.601148</td>\n",
       "    </tr>\n",
       "    <tr>\n",
       "      <th>4</th>\n",
       "      <td>Super built-up  Area</td>\n",
       "      <td>18-May</td>\n",
       "      <td>1st Phase JP Nagar</td>\n",
       "      <td>2 BHK</td>\n",
       "      <td>Inntsth</td>\n",
       "      <td>1077.0</td>\n",
       "      <td>2.0</td>\n",
       "      <td>2.0</td>\n",
       "      <td>93.0</td>\n",
       "      <td>May</td>\n",
       "      <td>5</td>\n",
       "      <td>2</td>\n",
       "      <td>538.500000</td>\n",
       "      <td>8635.097493</td>\n",
       "    </tr>\n",
       "  </tbody>\n",
       "</table>\n",
       "</div>"
      ],
      "text/plain": [
       "              area_type   availability            location   size  society  \\\n",
       "0  Super built-up  Area  Ready To Move  1st Phase JP Nagar  4 BHK  Prhtsok   \n",
       "1  Super built-up  Area  Ready To Move  1st Phase JP Nagar  3 BHK  Prhtsok   \n",
       "2  Super built-up  Area  Ready To Move  1st Phase JP Nagar  3 BHK  NCaveun   \n",
       "3  Super built-up  Area  Ready To Move  1st Phase JP Nagar  2 BHK  NCaveun   \n",
       "4  Super built-up  Area         18-May  1st Phase JP Nagar  2 BHK  Inntsth   \n",
       "\n",
       "   total_sqft  bath  balcony  price month  Monthnum  Bedrooms   per_sqrft  \\\n",
       "0      2825.0   4.0      3.0  250.0   RTM         0         4  706.250000   \n",
       "1      1875.0   3.0      1.0  167.0   RTM         0         3  625.000000   \n",
       "2      2024.0   3.0      2.0  157.0   RTM         0         3  674.666667   \n",
       "3      1394.0   2.0      1.0  100.0   RTM         0         2  697.000000   \n",
       "4      1077.0   2.0      2.0   93.0   May         5         2  538.500000   \n",
       "\n",
       "   price_per_sqrft  \n",
       "0      8849.557522  \n",
       "1      8906.666667  \n",
       "2      7756.916996  \n",
       "3      7173.601148  \n",
       "4      8635.097493  "
      ]
     },
     "execution_count": 354,
     "metadata": {},
     "output_type": "execute_result"
    }
   ],
   "source": [
    "df.head()"
   ]
  },
  {
   "cell_type": "raw",
   "id": "d73b377c",
   "metadata": {},
   "source": [
    "Which location has maximum number of flates available"
   ]
  },
  {
   "cell_type": "code",
   "execution_count": 355,
   "id": "31e9a299",
   "metadata": {},
   "outputs": [
    {
     "data": {
      "text/plain": [
       "<AxesSubplot:>"
      ]
     },
     "execution_count": 355,
     "metadata": {},
     "output_type": "execute_result"
    },
    {
     "data": {
      "image/png": "[encoded data removed]",
      "text/plain": [
       "<Figure size 1224x360 with 1 Axes>"
      ]
     },
     "metadata": {
      "needs_background": "light"
     },
     "output_type": "display_data"
    }
   ],
   "source": [
    "# sns.barplot(df['location'].value_counts()[:10])\n",
    "plt.figure(figsize=(17,5))\n",
    "sns.barplot(x=df['location'].value_counts()[1:11].keys(),y=df['location'].value_counts()[1:11].values)"
   ]
  },
  {
   "cell_type": "code",
   "execution_count": 356,
   "id": "6d917089",
   "metadata": {},
   "outputs": [],
   "source": [
    "# total available area_type\n",
    "# which type of area is maximum"
   ]
  },
  {
   "cell_type": "code",
   "execution_count": 357,
   "id": "3c07f270",
   "metadata": {},
   "outputs": [
    {
     "name": "stderr",
     "output_type": "stream",
     "text": [
      "E:\\anaconda3\\lib\\site-packages\\seaborn\\_decorators.py:36: FutureWarning: Pass the following variable as a keyword arg: x. From version 0.12, the only valid positional argument will be `data`, and passing other arguments without an explicit keyword will result in an error or misinterpretation.\n",
      "  warnings.warn(\n"
     ]
    },
    {
     "data": {
      "text/plain": [
       "<AxesSubplot:xlabel='area_type', ylabel='count'>"
      ]
     },
     "execution_count": 357,
     "metadata": {},
     "output_type": "execute_result"
    },
    {
     "data": {
      "image/png": "[encoded data removed]",
      "text/plain": [
       "<Figure size 432x288 with 1 Axes>"
      ]
     },
     "metadata": {
      "needs_background": "light"
     },
     "output_type": "display_data"
    }
   ],
   "source": [
    "sns.countplot(df['area_type'])"
   ]
  },
  {
   "cell_type": "code",
   "execution_count": 358,
   "id": "161d10a9",
   "metadata": {},
   "outputs": [],
   "source": [
    "# no of flats avalilable in each month or available right now"
   ]
  },
  {
   "cell_type": "code",
   "execution_count": 359,
   "id": "e8faf3ea",
   "metadata": {},
   "outputs": [
    {
     "name": "stderr",
     "output_type": "stream",
     "text": [
      "E:\\anaconda3\\lib\\site-packages\\seaborn\\_decorators.py:36: FutureWarning: Pass the following variable as a keyword arg: x. From version 0.12, the only valid positional argument will be `data`, and passing other arguments without an explicit keyword will result in an error or misinterpretation.\n",
      "  warnings.warn(\n"
     ]
    },
    {
     "data": {
      "text/plain": [
       "<AxesSubplot:xlabel='month', ylabel='count'>"
      ]
     },
     "execution_count": 359,
     "metadata": {},
     "output_type": "execute_result"
    },
    {
     "data": {
      "image/png": "[encoded data removed]",
      "text/plain": [
       "<Figure size 432x288 with 1 Axes>"
      ]
     },
     "metadata": {
      "needs_background": "light"
     },
     "output_type": "display_data"
    }
   ],
   "source": [
    "sns.countplot(df['month'])"
   ]
  },
  {
   "cell_type": "code",
   "execution_count": 360,
   "id": "ea539037",
   "metadata": {},
   "outputs": [
    {
     "data": {
      "text/plain": [
       "location\n",
       "Cunningham Road       684.800000\n",
       "Benson Town           510.000000\n",
       "Konanakunte           375.000000\n",
       "Rajaji Nagar          307.058824\n",
       "Sarakki Nagar         302.500000\n",
       "                         ...    \n",
       "Kereguddadahalli       33.300000\n",
       "Vishwapriya Layout     33.000000\n",
       "Kammasandra            28.434444\n",
       "Chandapura             24.584352\n",
       "Attibele               19.492727\n",
       "Name: price, Length: 212, dtype: float64"
      ]
     },
     "execution_count": 360,
     "metadata": {},
     "output_type": "execute_result"
    }
   ],
   "source": [
    "df.groupby('location')['price'].mean().sort_values(ascending=False)"
   ]
  },
  {
   "cell_type": "raw",
   "id": "03403635",
   "metadata": {},
   "source": [
    "From above we can see that most priced flates are on Cunningham Road, Benson Town, Sarakki Nagar "
   ]
  },
  {
   "cell_type": "code",
   "execution_count": 361,
   "id": "1ce81902",
   "metadata": {},
   "outputs": [
    {
     "data": {
      "text/plain": [
       "location\n",
       "Cunningham Road              19565.962714\n",
       "Benson Town                  15815.115824\n",
       "Rajaji Nagar                 14125.190603\n",
       "Malleshwaram                 12699.834816\n",
       "Sarakki Nagar                12094.943826\n",
       "                                 ...     \n",
       "Sarjapura - Attibele Road     3165.243109\n",
       "Banashankari Stage V          3150.318008\n",
       "Kammasandra                   3138.451771\n",
       "Attibele                      2738.979918\n",
       "Chandapura                    2607.086333\n",
       "Name: price_per_sqrft, Length: 212, dtype: float64"
      ]
     },
     "execution_count": 361,
     "metadata": {},
     "output_type": "execute_result"
    }
   ],
   "source": [
    "df.groupby('location')['price_per_sqrft'].mean().sort_values(ascending=False)"
   ]
  },
  {
   "cell_type": "raw",
   "id": "ef9a011f",
   "metadata": {},
   "source": [
    "per_sqrft price is maximum in HAL 2nd Stage , Cunningham Road, Giri Nagar"
   ]
  },
  {
   "cell_type": "markdown",
   "id": "5c6890d3",
   "metadata": {},
   "source": [
    "##### removing unnecessary columns"
   ]
  },
  {
   "cell_type": "code",
   "execution_count": 362,
   "id": "c6b95e84",
   "metadata": {},
   "outputs": [],
   "source": [
    "df.drop(columns=['area_type','availability','size','society','balcony','month', 'Monthnum'],inplace=True)"
   ]
  },
  {
   "cell_type": "code",
   "execution_count": 363,
   "id": "6251fcda",
   "metadata": {},
   "outputs": [
    {
     "data": {
      "text/html": [
       "<div>\n",
       "<style scoped>\n",
       "    .dataframe tbody tr th:only-of-type {\n",
       "        vertical-align: middle;\n",
       "    }\n",
       "\n",
       "    .dataframe tbody tr th {\n",
       "        vertical-align: top;\n",
       "    }\n",
       "\n",
       "    .dataframe thead th {\n",
       "        text-align: right;\n",
       "    }\n",
       "</style>\n",
       "<table border=\"1\" class=\"dataframe\">\n",
       "  <thead>\n",
       "    <tr style=\"text-align: right;\">\n",
       "      <th></th>\n",
       "      <th>location</th>\n",
       "      <th>total_sqft</th>\n",
       "      <th>bath</th>\n",
       "      <th>price</th>\n",
       "      <th>Bedrooms</th>\n",
       "      <th>per_sqrft</th>\n",
       "      <th>price_per_sqrft</th>\n",
       "    </tr>\n",
       "  </thead>\n",
       "  <tbody>\n",
       "    <tr>\n",
       "      <th>0</th>\n",
       "      <td>1st Phase JP Nagar</td>\n",
       "      <td>2825.0</td>\n",
       "      <td>4.0</td>\n",
       "      <td>250.0</td>\n",
       "      <td>4</td>\n",
       "      <td>706.250000</td>\n",
       "      <td>8849.557522</td>\n",
       "    </tr>\n",
       "    <tr>\n",
       "      <th>1</th>\n",
       "      <td>1st Phase JP Nagar</td>\n",
       "      <td>1875.0</td>\n",
       "      <td>3.0</td>\n",
       "      <td>167.0</td>\n",
       "      <td>3</td>\n",
       "      <td>625.000000</td>\n",
       "      <td>8906.666667</td>\n",
       "    </tr>\n",
       "    <tr>\n",
       "      <th>2</th>\n",
       "      <td>1st Phase JP Nagar</td>\n",
       "      <td>2024.0</td>\n",
       "      <td>3.0</td>\n",
       "      <td>157.0</td>\n",
       "      <td>3</td>\n",
       "      <td>674.666667</td>\n",
       "      <td>7756.916996</td>\n",
       "    </tr>\n",
       "    <tr>\n",
       "      <th>3</th>\n",
       "      <td>1st Phase JP Nagar</td>\n",
       "      <td>1394.0</td>\n",
       "      <td>2.0</td>\n",
       "      <td>100.0</td>\n",
       "      <td>2</td>\n",
       "      <td>697.000000</td>\n",
       "      <td>7173.601148</td>\n",
       "    </tr>\n",
       "    <tr>\n",
       "      <th>4</th>\n",
       "      <td>1st Phase JP Nagar</td>\n",
       "      <td>1077.0</td>\n",
       "      <td>2.0</td>\n",
       "      <td>93.0</td>\n",
       "      <td>2</td>\n",
       "      <td>538.500000</td>\n",
       "      <td>8635.097493</td>\n",
       "    </tr>\n",
       "  </tbody>\n",
       "</table>\n",
       "</div>"
      ],
      "text/plain": [
       "             location  total_sqft  bath  price  Bedrooms   per_sqrft  \\\n",
       "0  1st Phase JP Nagar      2825.0   4.0  250.0         4  706.250000   \n",
       "1  1st Phase JP Nagar      1875.0   3.0  167.0         3  625.000000   \n",
       "2  1st Phase JP Nagar      2024.0   3.0  157.0         3  674.666667   \n",
       "3  1st Phase JP Nagar      1394.0   2.0  100.0         2  697.000000   \n",
       "4  1st Phase JP Nagar      1077.0   2.0   93.0         2  538.500000   \n",
       "\n",
       "   price_per_sqrft  \n",
       "0      8849.557522  \n",
       "1      8906.666667  \n",
       "2      7756.916996  \n",
       "3      7173.601148  \n",
       "4      8635.097493  "
      ]
     },
     "execution_count": 363,
     "metadata": {},
     "output_type": "execute_result"
    }
   ],
   "source": [
    "df.head()"
   ]
  },
  {
   "cell_type": "markdown",
   "id": "c3ddbf07",
   "metadata": {},
   "source": [
    "##### ONE HOT ENCODING"
   ]
  },
  {
   "cell_type": "code",
   "execution_count": 364,
   "id": "5a4d840f",
   "metadata": {},
   "outputs": [],
   "source": [
    "df.reset_index(inplace=True)"
   ]
  },
  {
   "cell_type": "code",
   "execution_count": 365,
   "id": "29df5240",
   "metadata": {},
   "outputs": [],
   "source": [
    "new_df=pd.get_dummies(df)"
   ]
  },
  {
   "cell_type": "code",
   "execution_count": 366,
   "id": "ee9bb656",
   "metadata": {},
   "outputs": [],
   "source": [
    "new_df.drop(columns=['index'],inplace=True)"
   ]
  },
  {
   "cell_type": "code",
   "execution_count": 367,
   "id": "981da453",
   "metadata": {},
   "outputs": [],
   "source": [
    "X=new_df.drop(columns=['price'])\n",
    "Y=new_df.price"
   ]
  },
  {
   "cell_type": "code",
   "execution_count": 368,
   "id": "970dab0e",
   "metadata": {},
   "outputs": [],
   "source": [
    "xtrain,xtest,ytrain,ytest=train_test_split(X,Y,test_size=0.3,random_state=2)"
   ]
  },
  {
   "cell_type": "markdown",
   "id": "4a10578c",
   "metadata": {},
   "source": [
    "#### Model_Building"
   ]
  },
  {
   "cell_type": "markdown",
   "id": "42a1a78b",
   "metadata": {},
   "source": [
    "##### LinearRegression"
   ]
  },
  {
   "cell_type": "code",
   "execution_count": 369,
   "id": "0ecbc207",
   "metadata": {},
   "outputs": [
    {
     "data": {
      "text/plain": [
       "LinearRegression()"
      ]
     },
     "execution_count": 369,
     "metadata": {},
     "output_type": "execute_result"
    }
   ],
   "source": [
    "lr=LinearRegression()\n",
    "lr.fit(xtrain,ytrain)"
   ]
  },
  {
   "cell_type": "code",
   "execution_count": 370,
   "id": "d731b52c",
   "metadata": {},
   "outputs": [],
   "source": [
    "ypred_lr=lr.predict(xtest)"
   ]
  },
  {
   "cell_type": "code",
   "execution_count": 371,
   "id": "4d2901dd",
   "metadata": {},
   "outputs": [
    {
     "data": {
      "text/plain": [
       "-10996177200260.656"
      ]
     },
     "execution_count": 371,
     "metadata": {},
     "output_type": "execute_result"
    }
   ],
   "source": [
    "r2_score(ytest,ypred_lr)"
   ]
  },
  {
   "cell_type": "markdown",
   "id": "eb47847a",
   "metadata": {},
   "source": [
    "##### Support Vector Machine"
   ]
  },
  {
   "cell_type": "code",
   "execution_count": 372,
   "id": "1326b3c6",
   "metadata": {},
   "outputs": [
    {
     "data": {
      "text/plain": [
       "0.6275083143767711"
      ]
     },
     "execution_count": 372,
     "metadata": {},
     "output_type": "execute_result"
    }
   ],
   "source": [
    "svm=SVR()\n",
    "svm.fit(xtrain,ytrain)\n",
    "ypred_svr=svm.predict(xtest)\n",
    "r2_score(ytest,ypred_svr)"
   ]
  },
  {
   "cell_type": "markdown",
   "id": "d23d281e",
   "metadata": {},
   "source": [
    "##### DecisionTreeRegressor"
   ]
  },
  {
   "cell_type": "code",
   "execution_count": 373,
   "id": "eb528417",
   "metadata": {},
   "outputs": [
    {
     "data": {
      "text/plain": [
       "0.9254267240200362"
      ]
     },
     "execution_count": 373,
     "metadata": {},
     "output_type": "execute_result"
    }
   ],
   "source": [
    "dtr=DecisionTreeRegressor()\n",
    "dtr.fit(xtrain,ytrain)\n",
    "ypred_dtr=dtr.predict(xtest)\n",
    "r2_score(ytest,ypred_dtr)"
   ]
  },
  {
   "cell_type": "markdown",
   "id": "075122d9",
   "metadata": {},
   "source": [
    "##### RandomForestRegressor"
   ]
  },
  {
   "cell_type": "code",
   "execution_count": 374,
   "id": "bac5ebf7",
   "metadata": {},
   "outputs": [
    {
     "data": {
      "text/plain": [
       "0.9479631249013042"
      ]
     },
     "execution_count": 374,
     "metadata": {},
     "output_type": "execute_result"
    }
   ],
   "source": [
    "rf=RandomForestRegressor()\n",
    "rf.fit(xtrain,ytrain)\n",
    "ypred_rf=rf.predict(xtest)\n",
    "r2_score(ytest,ypred_rf)"
   ]
  },
  {
   "cell_type": "code",
   "execution_count": 375,
   "id": "647a11af",
   "metadata": {},
   "outputs": [
    {
     "data": {
      "text/plain": [
       "array([48.6316])"
      ]
     },
     "execution_count": 375,
     "metadata": {},
     "output_type": "execute_result"
    }
   ],
   "source": [
    "rf.predict([xtrain.iloc[0].values])"
   ]
  },
  {
   "cell_type": "code",
   "execution_count": 376,
   "id": "ea332903",
   "metadata": {},
   "outputs": [
    {
     "data": {
      "text/plain": [
       "array([0.2132])"
      ]
     },
     "execution_count": 376,
     "metadata": {},
     "output_type": "execute_result"
    }
   ],
   "source": [
    "ytest.iloc[0]-rf.predict([xtest.iloc[0].values])"
   ]
  },
  {
   "cell_type": "code",
   "execution_count": 377,
   "id": "5e23b3c5",
   "metadata": {},
   "outputs": [
    {
     "data": {
      "text/plain": [
       "1.6235286792452832"
      ]
     },
     "execution_count": 377,
     "metadata": {},
     "output_type": "execute_result"
    }
   ],
   "source": [
    "mean_absolute_error(ytest,ypred_rf)"
   ]
  },
  {
   "cell_type": "code",
   "execution_count": 378,
   "id": "4e0bfbd2",
   "metadata": {},
   "outputs": [
    {
     "data": {
      "text/plain": [
       "0.9465979123205791"
      ]
     },
     "execution_count": 378,
     "metadata": {},
     "output_type": "execute_result"
    }
   ],
   "source": [
    "knn=KNeighborsRegressor(n_neighbors=5)\n",
    "knn.fit(xtrain,ytrain)\n",
    "ypred_knn=knn.predict(xtest)\n",
    "r2_score(ytest,ypred_knn)"
   ]
  },
  {
   "cell_type": "markdown",
   "id": "e393bce7",
   "metadata": {},
   "source": [
    "###### As we can see RandomForest is giving best performance"
   ]
  },
  {
   "cell_type": "code",
   "execution_count": null,
   "id": "2a441a32",
   "metadata": {},
   "outputs": [],
   "source": []
  },
  {
   "cell_type": "code",
   "execution_count": null,
   "id": "5f17b107",
   "metadata": {},
   "outputs": [],
   "source": []
  },
  {
   "cell_type": "markdown",
   "id": "a7ad6b4e",
   "metadata": {},
   "source": [
    "#### Using PipeLine"
   ]
  },
  {
   "cell_type": "code",
   "execution_count": 379,
   "id": "68de661b",
   "metadata": {},
   "outputs": [],
   "source": [
    "xx=df.drop(columns=['price','index'])\n",
    "yy=df.price"
   ]
  },
  {
   "cell_type": "code",
   "execution_count": 380,
   "id": "124b0866",
   "metadata": {},
   "outputs": [
    {
     "data": {
      "text/html": [
       "<div>\n",
       "<style scoped>\n",
       "    .dataframe tbody tr th:only-of-type {\n",
       "        vertical-align: middle;\n",
       "    }\n",
       "\n",
       "    .dataframe tbody tr th {\n",
       "        vertical-align: top;\n",
       "    }\n",
       "\n",
       "    .dataframe thead th {\n",
       "        text-align: right;\n",
       "    }\n",
       "</style>\n",
       "<table border=\"1\" class=\"dataframe\">\n",
       "  <thead>\n",
       "    <tr style=\"text-align: right;\">\n",
       "      <th></th>\n",
       "      <th>location</th>\n",
       "      <th>total_sqft</th>\n",
       "      <th>bath</th>\n",
       "      <th>Bedrooms</th>\n",
       "      <th>per_sqrft</th>\n",
       "      <th>price_per_sqrft</th>\n",
       "    </tr>\n",
       "  </thead>\n",
       "  <tbody>\n",
       "    <tr>\n",
       "      <th>0</th>\n",
       "      <td>1st Phase JP Nagar</td>\n",
       "      <td>2825.0</td>\n",
       "      <td>4.0</td>\n",
       "      <td>4</td>\n",
       "      <td>706.250000</td>\n",
       "      <td>8849.557522</td>\n",
       "    </tr>\n",
       "    <tr>\n",
       "      <th>1</th>\n",
       "      <td>1st Phase JP Nagar</td>\n",
       "      <td>1875.0</td>\n",
       "      <td>3.0</td>\n",
       "      <td>3</td>\n",
       "      <td>625.000000</td>\n",
       "      <td>8906.666667</td>\n",
       "    </tr>\n",
       "    <tr>\n",
       "      <th>2</th>\n",
       "      <td>1st Phase JP Nagar</td>\n",
       "      <td>2024.0</td>\n",
       "      <td>3.0</td>\n",
       "      <td>3</td>\n",
       "      <td>674.666667</td>\n",
       "      <td>7756.916996</td>\n",
       "    </tr>\n",
       "    <tr>\n",
       "      <th>3</th>\n",
       "      <td>1st Phase JP Nagar</td>\n",
       "      <td>1394.0</td>\n",
       "      <td>2.0</td>\n",
       "      <td>2</td>\n",
       "      <td>697.000000</td>\n",
       "      <td>7173.601148</td>\n",
       "    </tr>\n",
       "    <tr>\n",
       "      <th>4</th>\n",
       "      <td>1st Phase JP Nagar</td>\n",
       "      <td>1077.0</td>\n",
       "      <td>2.0</td>\n",
       "      <td>2</td>\n",
       "      <td>538.500000</td>\n",
       "      <td>8635.097493</td>\n",
       "    </tr>\n",
       "    <tr>\n",
       "      <th>...</th>\n",
       "      <td>...</td>\n",
       "      <td>...</td>\n",
       "      <td>...</td>\n",
       "      <td>...</td>\n",
       "      <td>...</td>\n",
       "      <td>...</td>\n",
       "    </tr>\n",
       "    <tr>\n",
       "      <th>4410</th>\n",
       "      <td>other</td>\n",
       "      <td>1508.0</td>\n",
       "      <td>3.0</td>\n",
       "      <td>3</td>\n",
       "      <td>502.666667</td>\n",
       "      <td>5106.100796</td>\n",
       "    </tr>\n",
       "    <tr>\n",
       "      <th>4411</th>\n",
       "      <td>other</td>\n",
       "      <td>1095.0</td>\n",
       "      <td>2.0</td>\n",
       "      <td>2</td>\n",
       "      <td>547.500000</td>\n",
       "      <td>5205.479452</td>\n",
       "    </tr>\n",
       "    <tr>\n",
       "      <th>4412</th>\n",
       "      <td>other</td>\n",
       "      <td>1256.0</td>\n",
       "      <td>2.0</td>\n",
       "      <td>2</td>\n",
       "      <td>628.000000</td>\n",
       "      <td>5175.159236</td>\n",
       "    </tr>\n",
       "    <tr>\n",
       "      <th>4413</th>\n",
       "      <td>other</td>\n",
       "      <td>1353.0</td>\n",
       "      <td>2.0</td>\n",
       "      <td>2</td>\n",
       "      <td>676.500000</td>\n",
       "      <td>8130.081301</td>\n",
       "    </tr>\n",
       "    <tr>\n",
       "      <th>4414</th>\n",
       "      <td>other</td>\n",
       "      <td>1440.0</td>\n",
       "      <td>2.0</td>\n",
       "      <td>3</td>\n",
       "      <td>480.000000</td>\n",
       "      <td>4439.583333</td>\n",
       "    </tr>\n",
       "  </tbody>\n",
       "</table>\n",
       "<p>4415 rows × 6 columns</p>\n",
       "</div>"
      ],
      "text/plain": [
       "                location  total_sqft  bath  Bedrooms   per_sqrft  \\\n",
       "0     1st Phase JP Nagar      2825.0   4.0         4  706.250000   \n",
       "1     1st Phase JP Nagar      1875.0   3.0         3  625.000000   \n",
       "2     1st Phase JP Nagar      2024.0   3.0         3  674.666667   \n",
       "3     1st Phase JP Nagar      1394.0   2.0         2  697.000000   \n",
       "4     1st Phase JP Nagar      1077.0   2.0         2  538.500000   \n",
       "...                  ...         ...   ...       ...         ...   \n",
       "4410               other      1508.0   3.0         3  502.666667   \n",
       "4411               other      1095.0   2.0         2  547.500000   \n",
       "4412               other      1256.0   2.0         2  628.000000   \n",
       "4413               other      1353.0   2.0         2  676.500000   \n",
       "4414               other      1440.0   2.0         3  480.000000   \n",
       "\n",
       "      price_per_sqrft  \n",
       "0         8849.557522  \n",
       "1         8906.666667  \n",
       "2         7756.916996  \n",
       "3         7173.601148  \n",
       "4         8635.097493  \n",
       "...               ...  \n",
       "4410      5106.100796  \n",
       "4411      5205.479452  \n",
       "4412      5175.159236  \n",
       "4413      8130.081301  \n",
       "4414      4439.583333  \n",
       "\n",
       "[4415 rows x 6 columns]"
      ]
     },
     "execution_count": 380,
     "metadata": {},
     "output_type": "execute_result"
    }
   ],
   "source": [
    "xx"
   ]
  },
  {
   "cell_type": "code",
   "execution_count": 381,
   "id": "2f985560",
   "metadata": {},
   "outputs": [],
   "source": [
    "from sklearn.compose import ColumnTransformer\n",
    "trf1=ColumnTransformer(transformers=[('location_ohe',OneHotEncoder(),[0])],remainder='passthrough')"
   ]
  },
  {
   "cell_type": "code",
   "execution_count": 382,
   "id": "a88ed70f",
   "metadata": {},
   "outputs": [],
   "source": [
    "trf2=RandomForestRegressor()"
   ]
  },
  {
   "cell_type": "code",
   "execution_count": 383,
   "id": "85e8bf4a",
   "metadata": {},
   "outputs": [],
   "source": [
    "from sklearn.pipeline import make_pipeline\n",
    "pipe=make_pipeline(trf1,trf2)"
   ]
  },
  {
   "cell_type": "code",
   "execution_count": 384,
   "id": "bfb48b0b",
   "metadata": {},
   "outputs": [],
   "source": [
    "xtrain,xtest,ytrain,ytest=train_test_split(xx,yy,test_size=0.3,random_state=42)"
   ]
  },
  {
   "cell_type": "code",
   "execution_count": 385,
   "id": "457d6d17",
   "metadata": {},
   "outputs": [
    {
     "data": {
      "text/plain": [
       "Pipeline(steps=[('columntransformer',\n",
       "                 ColumnTransformer(remainder='passthrough',\n",
       "                                   transformers=[('location_ohe',\n",
       "                                                  OneHotEncoder(), [0])])),\n",
       "                ('randomforestregressor', RandomForestRegressor())])"
      ]
     },
     "execution_count": 385,
     "metadata": {},
     "output_type": "execute_result"
    }
   ],
   "source": [
    "pipe.fit(xtrain,ytrain)"
   ]
  },
  {
   "cell_type": "code",
   "execution_count": 386,
   "id": "5d3ac00c",
   "metadata": {},
   "outputs": [],
   "source": [
    "ypred=pipe.predict(xtrain)"
   ]
  },
  {
   "cell_type": "code",
   "execution_count": 387,
   "id": "7e8521b4",
   "metadata": {},
   "outputs": [
    {
     "data": {
      "text/plain": [
       "0.997101964799075"
      ]
     },
     "execution_count": 387,
     "metadata": {},
     "output_type": "execute_result"
    }
   ],
   "source": [
    "r2_score(ytrain,ypred)"
   ]
  },
  {
   "cell_type": "code",
   "execution_count": 390,
   "id": "8b2713a5",
   "metadata": {},
   "outputs": [
    {
     "data": {
      "text/plain": [
       "0.5011651618122982"
      ]
     },
     "execution_count": 390,
     "metadata": {},
     "output_type": "execute_result"
    }
   ],
   "source": [
    "mean_absolute_error(ytrain,ypred)"
   ]
  },
  {
   "cell_type": "code",
   "execution_count": 391,
   "id": "eb463f6d",
   "metadata": {},
   "outputs": [
    {
     "data": {
      "text/plain": [
       "array([43.2692])"
      ]
     },
     "execution_count": 391,
     "metadata": {},
     "output_type": "execute_result"
    }
   ],
   "source": [
    "pipe.predict([['Electronics City Phase 1',755.0,1.0,1,755.000000,5617.218543]])"
   ]
  },
  {
   "cell_type": "code",
   "execution_count": 393,
   "id": "42c5c7e4",
   "metadata": {},
   "outputs": [
    {
     "data": {
      "text/plain": [
       "Pipeline(steps=[('columntransformer',\n",
       "                 ColumnTransformer(remainder='passthrough',\n",
       "                                   transformers=[('location_ohe',\n",
       "                                                  OneHotEncoder(), [0])])),\n",
       "                ('randomforestregressor', RandomForestRegressor())])"
      ]
     },
     "execution_count": 393,
     "metadata": {},
     "output_type": "execute_result"
    }
   ],
   "source": [
    "pipe.fit(xtest,ytest)"
   ]
  },
  {
   "cell_type": "code",
   "execution_count": 394,
   "id": "859de5de",
   "metadata": {},
   "outputs": [],
   "source": [
    "ypred=pipe.predict(xtest)"
   ]
  },
  {
   "cell_type": "code",
   "execution_count": 395,
   "id": "161f50a0",
   "metadata": {},
   "outputs": [
    {
     "data": {
      "text/plain": [
       "0.9962656913687882"
      ]
     },
     "execution_count": 395,
     "metadata": {},
     "output_type": "execute_result"
    }
   ],
   "source": [
    "r2_score(ytest,ypred)"
   ]
  },
  {
   "cell_type": "code",
   "execution_count": null,
   "id": "2701c252",
   "metadata": {},
   "outputs": [],
   "source": []
  }
 ],
 "metadata": {
  "kernelspec": {
   "display_name": "Python 3",
   "language": "python",
   "name": "python3"
  },
  "language_info": {
   "codemirror_mode": {
    "name": "ipython",
    "version": 3
   },
   "file_extension": ".py",
   "mimetype": "text/x-python",
   "name": "python",
   "nbconvert_exporter": "python",
   "pygments_lexer": "ipython3",
   "version": "3.8.8"
  }
 },
 "nbformat": 4,
 "nbformat_minor": 5
}
