{
 "cells": [
  {
   "cell_type": "code",
   "execution_count": 142,
   "id": "07a0f3da",
   "metadata": {},
   "outputs": [],
   "source": [
    "import pandas as pd\n",
    "from sklearn.model_selection import train_test_split\n",
    "\n",
    "from sklearn.feature_extraction.text import TfidfVectorizer\n",
    "\n",
    "from sklearn.linear_model import PassiveAggressiveClassifier\n",
    "from sklearn.metrics import accuracy_score, confusion_matrix"
   ]
  },
  {
   "cell_type": "code",
   "execution_count": 143,
   "id": "5de5e5b8",
   "metadata": {},
   "outputs": [],
   "source": [
    "df=pd.read_csv(r'E:/ML/Datasets/news.csv')"
   ]
  },
  {
   "cell_type": "code",
   "execution_count": 144,
   "id": "8af9111f",
   "metadata": {},
   "outputs": [
    {
     "data": {
      "text/html": [
       "<div>\n",
       "<style scoped>\n",
       "    .dataframe tbody tr th:only-of-type {\n",
       "        vertical-align: middle;\n",
       "    }\n",
       "\n",
       "    .dataframe tbody tr th {\n",
       "        vertical-align: top;\n",
       "    }\n",
       "\n",
       "    .dataframe thead th {\n",
       "        text-align: right;\n",
       "    }\n",
       "</style>\n",
       "<table border=\"1\" class=\"dataframe\">\n",
       "  <thead>\n",
       "    <tr style=\"text-align: right;\">\n",
       "      <th></th>\n",
       "      <th>Unnamed: 0</th>\n",
       "      <th>title</th>\n",
       "      <th>text</th>\n",
       "      <th>label</th>\n",
       "    </tr>\n",
       "  </thead>\n",
       "  <tbody>\n",
       "    <tr>\n",
       "      <th>0</th>\n",
       "      <td>8476</td>\n",
       "      <td>You Can Smell Hillary’s Fear</td>\n",
       "      <td>Daniel Greenfield, a Shillman Journalism Fello...</td>\n",
       "      <td>FAKE</td>\n",
       "    </tr>\n",
       "    <tr>\n",
       "      <th>1</th>\n",
       "      <td>10294</td>\n",
       "      <td>Watch The Exact Moment Paul Ryan Committed Pol...</td>\n",
       "      <td>Google Pinterest Digg Linkedin Reddit Stumbleu...</td>\n",
       "      <td>FAKE</td>\n",
       "    </tr>\n",
       "    <tr>\n",
       "      <th>2</th>\n",
       "      <td>3608</td>\n",
       "      <td>Kerry to go to Paris in gesture of sympathy</td>\n",
       "      <td>U.S. Secretary of State John F. Kerry said Mon...</td>\n",
       "      <td>REAL</td>\n",
       "    </tr>\n",
       "    <tr>\n",
       "      <th>3</th>\n",
       "      <td>10142</td>\n",
       "      <td>Bernie supporters on Twitter erupt in anger ag...</td>\n",
       "      <td>— Kaydee King (@KaydeeKing) November 9, 2016 T...</td>\n",
       "      <td>FAKE</td>\n",
       "    </tr>\n",
       "    <tr>\n",
       "      <th>4</th>\n",
       "      <td>875</td>\n",
       "      <td>The Battle of New York: Why This Primary Matters</td>\n",
       "      <td>It's primary day in New York and front-runners...</td>\n",
       "      <td>REAL</td>\n",
       "    </tr>\n",
       "  </tbody>\n",
       "</table>\n",
       "</div>"
      ],
      "text/plain": [
       "   Unnamed: 0                                              title  \\\n",
       "0        8476                       You Can Smell Hillary’s Fear   \n",
       "1       10294  Watch The Exact Moment Paul Ryan Committed Pol...   \n",
       "2        3608        Kerry to go to Paris in gesture of sympathy   \n",
       "3       10142  Bernie supporters on Twitter erupt in anger ag...   \n",
       "4         875   The Battle of New York: Why This Primary Matters   \n",
       "\n",
       "                                                text label  \n",
       "0  Daniel Greenfield, a Shillman Journalism Fello...  FAKE  \n",
       "1  Google Pinterest Digg Linkedin Reddit Stumbleu...  FAKE  \n",
       "2  U.S. Secretary of State John F. Kerry said Mon...  REAL  \n",
       "3  — Kaydee King (@KaydeeKing) November 9, 2016 T...  FAKE  \n",
       "4  It's primary day in New York and front-runners...  REAL  "
      ]
     },
     "execution_count": 144,
     "metadata": {},
     "output_type": "execute_result"
    }
   ],
   "source": [
    "df.head()"
   ]
  },
  {
   "cell_type": "code",
   "execution_count": 145,
   "id": "3fbd10c8",
   "metadata": {},
   "outputs": [
    {
     "data": {
      "text/plain": [
       "Unnamed: 0    0\n",
       "title         0\n",
       "text          0\n",
       "label         0\n",
       "dtype: int64"
      ]
     },
     "execution_count": 145,
     "metadata": {},
     "output_type": "execute_result"
    }
   ],
   "source": [
    "df.isnull().sum()"
   ]
  },
  {
   "cell_type": "markdown",
   "id": "4654bddc",
   "metadata": {},
   "source": [
    "#### Text preprocessing"
   ]
  },
  {
   "cell_type": "code",
   "execution_count": 146,
   "id": "ba85b153",
   "metadata": {},
   "outputs": [],
   "source": [
    "#lower case\n",
    "df['text']=df['text'].str.lower()\n",
    "df['title']=df['title'].str.lower()"
   ]
  },
  {
   "cell_type": "code",
   "execution_count": 147,
   "id": "284b68ea",
   "metadata": {},
   "outputs": [
    {
     "data": {
      "text/html": [
       "<div>\n",
       "<style scoped>\n",
       "    .dataframe tbody tr th:only-of-type {\n",
       "        vertical-align: middle;\n",
       "    }\n",
       "\n",
       "    .dataframe tbody tr th {\n",
       "        vertical-align: top;\n",
       "    }\n",
       "\n",
       "    .dataframe thead th {\n",
       "        text-align: right;\n",
       "    }\n",
       "</style>\n",
       "<table border=\"1\" class=\"dataframe\">\n",
       "  <thead>\n",
       "    <tr style=\"text-align: right;\">\n",
       "      <th></th>\n",
       "      <th>Unnamed: 0</th>\n",
       "      <th>title</th>\n",
       "      <th>text</th>\n",
       "      <th>label</th>\n",
       "    </tr>\n",
       "  </thead>\n",
       "  <tbody>\n",
       "    <tr>\n",
       "      <th>0</th>\n",
       "      <td>8476</td>\n",
       "      <td>you can smell hillary’s fear</td>\n",
       "      <td>daniel greenfield, a shillman journalism fello...</td>\n",
       "      <td>FAKE</td>\n",
       "    </tr>\n",
       "    <tr>\n",
       "      <th>1</th>\n",
       "      <td>10294</td>\n",
       "      <td>watch the exact moment paul ryan committed pol...</td>\n",
       "      <td>google pinterest digg linkedin reddit stumbleu...</td>\n",
       "      <td>FAKE</td>\n",
       "    </tr>\n",
       "    <tr>\n",
       "      <th>2</th>\n",
       "      <td>3608</td>\n",
       "      <td>kerry to go to paris in gesture of sympathy</td>\n",
       "      <td>u.s. secretary of state john f. kerry said mon...</td>\n",
       "      <td>REAL</td>\n",
       "    </tr>\n",
       "    <tr>\n",
       "      <th>3</th>\n",
       "      <td>10142</td>\n",
       "      <td>bernie supporters on twitter erupt in anger ag...</td>\n",
       "      <td>— kaydee king (@kaydeeking) november 9, 2016 t...</td>\n",
       "      <td>FAKE</td>\n",
       "    </tr>\n",
       "    <tr>\n",
       "      <th>4</th>\n",
       "      <td>875</td>\n",
       "      <td>the battle of new york: why this primary matters</td>\n",
       "      <td>it's primary day in new york and front-runners...</td>\n",
       "      <td>REAL</td>\n",
       "    </tr>\n",
       "  </tbody>\n",
       "</table>\n",
       "</div>"
      ],
      "text/plain": [
       "   Unnamed: 0                                              title  \\\n",
       "0        8476                       you can smell hillary’s fear   \n",
       "1       10294  watch the exact moment paul ryan committed pol...   \n",
       "2        3608        kerry to go to paris in gesture of sympathy   \n",
       "3       10142  bernie supporters on twitter erupt in anger ag...   \n",
       "4         875   the battle of new york: why this primary matters   \n",
       "\n",
       "                                                text label  \n",
       "0  daniel greenfield, a shillman journalism fello...  FAKE  \n",
       "1  google pinterest digg linkedin reddit stumbleu...  FAKE  \n",
       "2  u.s. secretary of state john f. kerry said mon...  REAL  \n",
       "3  — kaydee king (@kaydeeking) november 9, 2016 t...  FAKE  \n",
       "4  it's primary day in new york and front-runners...  REAL  "
      ]
     },
     "execution_count": 147,
     "metadata": {},
     "output_type": "execute_result"
    }
   ],
   "source": [
    "df.head()"
   ]
  },
  {
   "cell_type": "code",
   "execution_count": 148,
   "id": "4fb6a4e1",
   "metadata": {},
   "outputs": [],
   "source": [
    "# removing \\n\n",
    "df['text']=df['text'].apply(lambda x:x.replace('\\n',''))"
   ]
  },
  {
   "cell_type": "code",
   "execution_count": 149,
   "id": "0098c373",
   "metadata": {},
   "outputs": [
    {
     "data": {
      "text/plain": [
       "'!\"#$%&\\'()*+,-./:;<=>?@[\\\\]^_`{|}~'"
      ]
     },
     "execution_count": 149,
     "metadata": {},
     "output_type": "execute_result"
    }
   ],
   "source": [
    "# remove punctuation\n",
    "#slow technique\n",
    "import string\n",
    "string.punctuation"
   ]
  },
  {
   "cell_type": "code",
   "execution_count": 150,
   "id": "fd0b44c6",
   "metadata": {},
   "outputs": [],
   "source": [
    "punc=string.punctuation"
   ]
  },
  {
   "cell_type": "code",
   "execution_count": 151,
   "id": "80ba6a72",
   "metadata": {},
   "outputs": [],
   "source": [
    "def remove_punc1(text):\n",
    "    for char in punc:\n",
    "        text=text.replace(char,'')\n",
    "    return text"
   ]
  },
  {
   "cell_type": "code",
   "execution_count": 152,
   "id": "b1ffb807",
   "metadata": {},
   "outputs": [
    {
     "data": {
      "text/plain": [
       "0       daniel greenfield a shillman journalism fellow...\n",
       "1       google pinterest digg linkedin reddit stumbleu...\n",
       "2       us secretary of state john f kerry said monday...\n",
       "3       — kaydee king kaydeeking november 9 2016 the l...\n",
       "4       its primary day in new york and frontrunners h...\n",
       "                              ...                        \n",
       "6330    the state department told the republican natio...\n",
       "6331    the ‘p’ in pbs should stand for ‘plutocratic’ ...\n",
       "6332     antitrump protesters are tools of the oligarc...\n",
       "6333    addis ababa ethiopia —president obama convened...\n",
       "6334    jeb bush is suddenly attacking trump heres why...\n",
       "Name: text, Length: 6335, dtype: object"
      ]
     },
     "execution_count": 152,
     "metadata": {},
     "output_type": "execute_result"
    }
   ],
   "source": [
    "df['text'].apply(remove_punc1)"
   ]
  },
  {
   "cell_type": "code",
   "execution_count": 153,
   "id": "4171b39f",
   "metadata": {},
   "outputs": [],
   "source": [
    "# fast technique\n",
    "\n",
    "def remove_punc2(text):\n",
    "    return text.translate(str.maketrans('','',punc))"
   ]
  },
  {
   "cell_type": "code",
   "execution_count": 154,
   "id": "785bd82d",
   "metadata": {},
   "outputs": [],
   "source": [
    "df['text']=df['text'].apply(remove_punc2)"
   ]
  },
  {
   "cell_type": "code",
   "execution_count": 155,
   "id": "7847bf0a",
   "metadata": {},
   "outputs": [],
   "source": [
    "X=df['text']\n",
    "y=df['label']"
   ]
  },
  {
   "cell_type": "code",
   "execution_count": 156,
   "id": "e27c44e5",
   "metadata": {},
   "outputs": [],
   "source": [
    "xtrain,xtest,ytrain,ytest=train_test_split(X,y,test_size=0.2,random_state=42)"
   ]
  },
  {
   "cell_type": "markdown",
   "id": "67d3eb43",
   "metadata": {},
   "source": [
    "#### Vectorization"
   ]
  },
  {
   "cell_type": "code",
   "execution_count": 157,
   "id": "20c4652e",
   "metadata": {},
   "outputs": [],
   "source": [
    "vector=TfidfVectorizer(stop_words='english',max_df=0.7)"
   ]
  },
  {
   "cell_type": "code",
   "execution_count": 158,
   "id": "a0ad97b0",
   "metadata": {},
   "outputs": [],
   "source": [
    "tfidf_xtrain=vector.fit_transform(xtrain)\n",
    "tfidf_xtest=vector.transform(xtest)"
   ]
  },
  {
   "cell_type": "markdown",
   "id": "83a49049",
   "metadata": {},
   "source": [
    "#### RandomForestClassifierndomForestClassifier"
   ]
  },
  {
   "cell_type": "code",
   "execution_count": 159,
   "id": "c1ae4f94",
   "metadata": {},
   "outputs": [
    {
     "data": {
      "text/plain": [
       "RandomForestClassifier()"
      ]
     },
     "execution_count": 159,
     "metadata": {},
     "output_type": "execute_result"
    }
   ],
   "source": [
    "from sklearn.ensemble import RandomForestClassifier\n",
    "rfc=RandomForestClassifier()\n",
    "rfc.fit(tfidf_xtrain,ytrain)"
   ]
  },
  {
   "cell_type": "code",
   "execution_count": 160,
   "id": "19d8baf9",
   "metadata": {},
   "outputs": [],
   "source": [
    "pred=rfc.predict(tfidf_xtest)"
   ]
  },
  {
   "cell_type": "code",
   "execution_count": 161,
   "id": "96999b3c",
   "metadata": {},
   "outputs": [
    {
     "data": {
      "text/plain": [
       "0.909234411996843"
      ]
     },
     "execution_count": 161,
     "metadata": {},
     "output_type": "execute_result"
    }
   ],
   "source": [
    "accuracy_score(ytest,pred)"
   ]
  },
  {
   "cell_type": "markdown",
   "id": "4cec1b0c",
   "metadata": {},
   "source": [
    "#### NaiveBays"
   ]
  },
  {
   "cell_type": "code",
   "execution_count": 162,
   "id": "2cdf8517",
   "metadata": {},
   "outputs": [
    {
     "data": {
      "text/plain": [
       "MultinomialNB()"
      ]
     },
     "execution_count": 162,
     "metadata": {},
     "output_type": "execute_result"
    }
   ],
   "source": [
    "from sklearn.naive_bayes import MultinomialNB\n",
    "mnb=MultinomialNB()\n",
    "mnb.fit(tfidf_xtrain,ytrain)"
   ]
  },
  {
   "cell_type": "code",
   "execution_count": 163,
   "id": "2606e28d",
   "metadata": {},
   "outputs": [],
   "source": [
    "ypre=mnb.predict(tfidf_xtest)"
   ]
  },
  {
   "cell_type": "code",
   "execution_count": 164,
   "id": "64a2e6ba",
   "metadata": {},
   "outputs": [
    {
     "data": {
      "text/plain": [
       "0.8602999210734017"
      ]
     },
     "execution_count": 164,
     "metadata": {},
     "output_type": "execute_result"
    }
   ],
   "source": [
    "accuracy_score(ytest,ypre)"
   ]
  },
  {
   "cell_type": "markdown",
   "id": "549a1c60",
   "metadata": {},
   "source": [
    "#### PassiveAggressiveClassifier"
   ]
  },
  {
   "cell_type": "code",
   "execution_count": 165,
   "id": "f26710cc",
   "metadata": {},
   "outputs": [],
   "source": [
    "pac=PassiveAggressiveClassifier(max_iter=50)\n",
    "pac.fit(tfidf_xtrain,ytrain)\n",
    "ypred=pac.predict(tfidf_xtest)"
   ]
  },
  {
   "cell_type": "code",
   "execution_count": 166,
   "id": "327e6142",
   "metadata": {},
   "outputs": [
    {
     "data": {
      "text/plain": [
       "0.9384372533543804"
      ]
     },
     "execution_count": 166,
     "metadata": {},
     "output_type": "execute_result"
    }
   ],
   "source": [
    "accuracy_score(ytest,ypred)"
   ]
  },
  {
   "cell_type": "code",
   "execution_count": 167,
   "id": "4664af65",
   "metadata": {},
   "outputs": [
    {
     "data": {
      "text/plain": [
       "array([[586,  42],\n",
       "       [ 36, 603]], dtype=int64)"
      ]
     },
     "execution_count": 167,
     "metadata": {},
     "output_type": "execute_result"
    }
   ],
   "source": [
    "confusion_matrix(ytest,ypred)"
   ]
  },
  {
   "cell_type": "code",
   "execution_count": null,
   "id": "b4973c9e",
   "metadata": {},
   "outputs": [],
   "source": []
  }
 ],
 "metadata": {
  "kernelspec": {
   "display_name": "Python 3",
   "language": "python",
   "name": "python3"
  },
  "language_info": {
   "codemirror_mode": {
    "name": "ipython",
    "version": 3
   },
   "file_extension": ".py",
   "mimetype": "text/x-python",
   "name": "python",
   "nbconvert_exporter": "python",
   "pygments_lexer": "ipython3",
   "version": "3.8.8"
  }
 },
 "nbformat": 4,
 "nbformat_minor": 5
}
