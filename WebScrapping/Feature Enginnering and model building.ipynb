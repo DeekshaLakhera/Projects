{
 "cells": [
  {
   "cell_type": "markdown",
   "id": "c449c9ea",
   "metadata": {},
   "source": [
    "### Importing Necesssary Libraries"
   ]
  },
  {
   "cell_type": "code",
   "execution_count": 5,
   "id": "92f6e39b",
   "metadata": {},
   "outputs": [],
   "source": [
    "import numpy as np\n",
    "import pandas as pd\n",
    "import warnings\n",
    "warnings.filterwarnings('ignore')\n",
    "%matplotlib inline"
   ]
  },
  {
   "cell_type": "code",
   "execution_count": 6,
   "id": "b1a382dc",
   "metadata": {},
   "outputs": [],
   "source": [
    "# df = pd.read_csv('PropertyValue.csv')\n",
    "df = pd.read_csv('PropertyValue.csv')"
   ]
  },
  {
   "cell_type": "code",
   "execution_count": 7,
   "id": "4451398c",
   "metadata": {},
   "outputs": [
    {
     "data": {
      "text/html": [
       "<div>\n",
       "<style scoped>\n",
       "    .dataframe tbody tr th:only-of-type {\n",
       "        vertical-align: middle;\n",
       "    }\n",
       "\n",
       "    .dataframe tbody tr th {\n",
       "        vertical-align: top;\n",
       "    }\n",
       "\n",
       "    .dataframe thead th {\n",
       "        text-align: right;\n",
       "    }\n",
       "</style>\n",
       "<table border=\"1\" class=\"dataframe\">\n",
       "  <thead>\n",
       "    <tr style=\"text-align: right;\">\n",
       "      <th></th>\n",
       "      <th>Unnamed: 0</th>\n",
       "      <th>Building</th>\n",
       "      <th>Flat</th>\n",
       "      <th>Area</th>\n",
       "      <th>Location</th>\n",
       "      <th>Connectivity</th>\n",
       "      <th>Price</th>\n",
       "    </tr>\n",
       "  </thead>\n",
       "  <tbody>\n",
       "    <tr>\n",
       "      <th>0</th>\n",
       "      <td>0</td>\n",
       "      <td>Miravet District</td>\n",
       "      <td>2 BHK</td>\n",
       "      <td>842-869 sq.ft. (78-81 sq.m.) Carpet Area</td>\n",
       "      <td>2 BHK Apartment in Ravet</td>\n",
       "      <td>15</td>\n",
       "      <td>₹ 66.67  - 68.81 L</td>\n",
       "    </tr>\n",
       "    <tr>\n",
       "      <th>1</th>\n",
       "      <td>1</td>\n",
       "      <td>Jogeshwari Sun City4.4 ★</td>\n",
       "      <td>NaN</td>\n",
       "      <td>1,000 sq.ft. (93 sq.m.) Plot Area</td>\n",
       "      <td>Residential land / Plot in Wagholi</td>\n",
       "      <td>10</td>\n",
       "      <td>₹ 22 L₹ 2,200/sq.ft.</td>\n",
       "    </tr>\n",
       "    <tr>\n",
       "      <th>2</th>\n",
       "      <td>2</td>\n",
       "      <td>LMS Finswell Woods</td>\n",
       "      <td>2 BHK2 Baths</td>\n",
       "      <td>773-782 sq.ft. (72-73 sq.m.) Carpet Area</td>\n",
       "      <td>2 BHK Apartment in Viman Nagar</td>\n",
       "      <td>47</td>\n",
       "      <td>₹ 98  - 99 L₹ 12,668/sq.ft.</td>\n",
       "    </tr>\n",
       "    <tr>\n",
       "      <th>3</th>\n",
       "      <td>3</td>\n",
       "      <td>Mangal Shanti Mansha Phase 2</td>\n",
       "      <td>2 BHK2 Baths</td>\n",
       "      <td>640-700 sq.ft. (59-65 sq.m.) Carpet Area</td>\n",
       "      <td>2 BHK Apartment in Wagholi</td>\n",
       "      <td>13</td>\n",
       "      <td>₹ 45.21  - 49.07 L₹ 7,036/sq.ft.</td>\n",
       "    </tr>\n",
       "    <tr>\n",
       "      <th>4</th>\n",
       "      <td>4</td>\n",
       "      <td>Solitere Emerald Tower</td>\n",
       "      <td>2 BHK</td>\n",
       "      <td>741-805 sq.ft. (69-75 sq.m.) Carpet Area</td>\n",
       "      <td>2 BHK Apartment in Vadgaon Budruk</td>\n",
       "      <td>50</td>\n",
       "      <td>₹ 65  - 70.65 L</td>\n",
       "    </tr>\n",
       "  </tbody>\n",
       "</table>\n",
       "</div>"
      ],
      "text/plain": [
       "   Unnamed: 0                      Building          Flat  \\\n",
       "0           0              Miravet District         2 BHK   \n",
       "1           1      Jogeshwari Sun City4.4 ★           NaN   \n",
       "2           2            LMS Finswell Woods  2 BHK2 Baths   \n",
       "3           3  Mangal Shanti Mansha Phase 2  2 BHK2 Baths   \n",
       "4           4        Solitere Emerald Tower         2 BHK   \n",
       "\n",
       "                                       Area  \\\n",
       "0  842-869 sq.ft. (78-81 sq.m.) Carpet Area   \n",
       "1         1,000 sq.ft. (93 sq.m.) Plot Area   \n",
       "2  773-782 sq.ft. (72-73 sq.m.) Carpet Area   \n",
       "3  640-700 sq.ft. (59-65 sq.m.) Carpet Area   \n",
       "4  741-805 sq.ft. (69-75 sq.m.) Carpet Area   \n",
       "\n",
       "                             Location  Connectivity  \\\n",
       "0            2 BHK Apartment in Ravet            15   \n",
       "1  Residential land / Plot in Wagholi            10   \n",
       "2      2 BHK Apartment in Viman Nagar            47   \n",
       "3          2 BHK Apartment in Wagholi            13   \n",
       "4   2 BHK Apartment in Vadgaon Budruk            50   \n",
       "\n",
       "                              Price  \n",
       "0                ₹ 66.67  - 68.81 L  \n",
       "1              ₹ 22 L₹ 2,200/sq.ft.  \n",
       "2       ₹ 98  - 99 L₹ 12,668/sq.ft.  \n",
       "3  ₹ 45.21  - 49.07 L₹ 7,036/sq.ft.  \n",
       "4                   ₹ 65  - 70.65 L  "
      ]
     },
     "execution_count": 7,
     "metadata": {},
     "output_type": "execute_result"
    }
   ],
   "source": [
    "df.head()"
   ]
  },
  {
   "cell_type": "code",
   "execution_count": 8,
   "id": "9a3dfeac",
   "metadata": {},
   "outputs": [
    {
     "data": {
      "text/plain": [
       "(920, 7)"
      ]
     },
     "execution_count": 8,
     "metadata": {},
     "output_type": "execute_result"
    }
   ],
   "source": [
    "df.shape"
   ]
  },
  {
   "cell_type": "code",
   "execution_count": 9,
   "id": "bd9abec0",
   "metadata": {},
   "outputs": [
    {
     "data": {
      "text/plain": [
       "Unnamed: 0       0\n",
       "Building         0\n",
       "Flat            68\n",
       "Area             0\n",
       "Location         0\n",
       "Connectivity     0\n",
       "Price            0\n",
       "dtype: int64"
      ]
     },
     "execution_count": 9,
     "metadata": {},
     "output_type": "execute_result"
    }
   ],
   "source": [
    "df.isnull().sum()"
   ]
  },
  {
   "cell_type": "code",
   "execution_count": 10,
   "id": "4c5b15ef",
   "metadata": {},
   "outputs": [],
   "source": [
    "df.dropna(inplace=True)"
   ]
  },
  {
   "cell_type": "code",
   "execution_count": 12,
   "id": "6a9b93f5",
   "metadata": {},
   "outputs": [
    {
     "name": "stdout",
     "output_type": "stream",
     "text": [
      "<class 'pandas.core.frame.DataFrame'>\n",
      "Int64Index: 852 entries, 0 to 919\n",
      "Data columns (total 7 columns):\n",
      " #   Column        Non-Null Count  Dtype \n",
      "---  ------        --------------  ----- \n",
      " 0   Unnamed: 0    852 non-null    int64 \n",
      " 1   Building      852 non-null    object\n",
      " 2   Flat          852 non-null    object\n",
      " 3   Area          852 non-null    object\n",
      " 4   Location      852 non-null    object\n",
      " 5   Connectivity  852 non-null    int64 \n",
      " 6   Price         852 non-null    object\n",
      "dtypes: int64(2), object(5)\n",
      "memory usage: 53.2+ KB\n"
     ]
    }
   ],
   "source": [
    "df.info()"
   ]
  },
  {
   "cell_type": "code",
   "execution_count": 13,
   "id": "4291061c",
   "metadata": {},
   "outputs": [
    {
     "data": {
      "text/plain": [
       "(852, 7)"
      ]
     },
     "execution_count": 13,
     "metadata": {},
     "output_type": "execute_result"
    }
   ],
   "source": [
    "df.shape"
   ]
  },
  {
   "cell_type": "markdown",
   "id": "795f7ec0",
   "metadata": {},
   "source": [
    "#### Seperating BHK and Bath from Flat"
   ]
  },
  {
   "cell_type": "code",
   "execution_count": 14,
   "id": "935c9957",
   "metadata": {},
   "outputs": [],
   "source": [
    "df['tflat'] = df['Flat'].apply(lambda x:x.split('BHK')[0]).astype('int')\n",
    "df['tbath'] = df['Flat'].apply(lambda x:x.split('BHK')[1].strip('Baths'))"
   ]
  },
  {
   "cell_type": "code",
   "execution_count": 15,
   "id": "24f0325f",
   "metadata": {},
   "outputs": [],
   "source": [
    "df['tbath']=df['tbath'].replace(r'^\\s*$',np.nan,regex=True)"
   ]
  },
  {
   "cell_type": "code",
   "execution_count": 16,
   "id": "684fc79f",
   "metadata": {
    "scrolled": true
   },
   "outputs": [
    {
     "data": {
      "text/html": [
       "<div>\n",
       "<style scoped>\n",
       "    .dataframe tbody tr th:only-of-type {\n",
       "        vertical-align: middle;\n",
       "    }\n",
       "\n",
       "    .dataframe tbody tr th {\n",
       "        vertical-align: top;\n",
       "    }\n",
       "\n",
       "    .dataframe thead th {\n",
       "        text-align: right;\n",
       "    }\n",
       "</style>\n",
       "<table border=\"1\" class=\"dataframe\">\n",
       "  <thead>\n",
       "    <tr style=\"text-align: right;\">\n",
       "      <th></th>\n",
       "      <th>Unnamed: 0</th>\n",
       "      <th>Building</th>\n",
       "      <th>Flat</th>\n",
       "      <th>Area</th>\n",
       "      <th>Location</th>\n",
       "      <th>Connectivity</th>\n",
       "      <th>Price</th>\n",
       "      <th>tflat</th>\n",
       "      <th>tbath</th>\n",
       "    </tr>\n",
       "  </thead>\n",
       "  <tbody>\n",
       "    <tr>\n",
       "      <th>0</th>\n",
       "      <td>0</td>\n",
       "      <td>Miravet District</td>\n",
       "      <td>2 BHK</td>\n",
       "      <td>842-869 sq.ft. (78-81 sq.m.) Carpet Area</td>\n",
       "      <td>2 BHK Apartment in Ravet</td>\n",
       "      <td>15</td>\n",
       "      <td>₹ 66.67  - 68.81 L</td>\n",
       "      <td>2</td>\n",
       "      <td>NaN</td>\n",
       "    </tr>\n",
       "    <tr>\n",
       "      <th>2</th>\n",
       "      <td>2</td>\n",
       "      <td>LMS Finswell Woods</td>\n",
       "      <td>2 BHK2 Baths</td>\n",
       "      <td>773-782 sq.ft. (72-73 sq.m.) Carpet Area</td>\n",
       "      <td>2 BHK Apartment in Viman Nagar</td>\n",
       "      <td>47</td>\n",
       "      <td>₹ 98  - 99 L₹ 12,668/sq.ft.</td>\n",
       "      <td>2</td>\n",
       "      <td>2</td>\n",
       "    </tr>\n",
       "  </tbody>\n",
       "</table>\n",
       "</div>"
      ],
      "text/plain": [
       "   Unnamed: 0            Building          Flat  \\\n",
       "0           0    Miravet District         2 BHK   \n",
       "2           2  LMS Finswell Woods  2 BHK2 Baths   \n",
       "\n",
       "                                       Area                        Location  \\\n",
       "0  842-869 sq.ft. (78-81 sq.m.) Carpet Area        2 BHK Apartment in Ravet   \n",
       "2  773-782 sq.ft. (72-73 sq.m.) Carpet Area  2 BHK Apartment in Viman Nagar   \n",
       "\n",
       "   Connectivity                        Price  tflat tbath  \n",
       "0            15           ₹ 66.67  - 68.81 L      2   NaN  \n",
       "2            47  ₹ 98  - 99 L₹ 12,668/sq.ft.      2    2   "
      ]
     },
     "execution_count": 16,
     "metadata": {},
     "output_type": "execute_result"
    }
   ],
   "source": [
    "df.head(2)"
   ]
  },
  {
   "cell_type": "markdown",
   "id": "025cfe83",
   "metadata": {},
   "source": [
    "#### Price of the flat"
   ]
  },
  {
   "cell_type": "raw",
   "id": "18d1184e",
   "metadata": {},
   "source": [
    "1. Extracting Flat's price from Price Column\n",
    "2. Changing Cr. in L\n",
    "3. Cleaning the Flat's value and changing range value into there mean"
   ]
  },
  {
   "cell_type": "code",
   "execution_count": 17,
   "id": "6f906c05",
   "metadata": {},
   "outputs": [],
   "source": [
    "def val_ (x):\n",
    "    if 'L' in x:\n",
    "        y = x.split('L')[0]\n",
    "        if '-' in y:\n",
    "            z = y.split('-')\n",
    "            return ((float(z[0].strip('₹')) + float(z[1]))/2)\n",
    "        else:\n",
    "            return float(y.strip('₹'))\n",
    "    elif 'Cr' in x:\n",
    "        y=x.split('Cr')[0]\n",
    "        if '-' in y:\n",
    "            z = y.split('-')\n",
    "            return ((float(z[0].strip('₹')) + float(z[1]))/2)*100\n",
    "        else:\n",
    "            return float(y.strip('₹'))\n",
    "    elif x=='Price on Request':\n",
    "        return 0\n",
    "    else:\n",
    "        return float(x)"
   ]
  },
  {
   "cell_type": "code",
   "execution_count": 18,
   "id": "03c12c0b",
   "metadata": {},
   "outputs": [],
   "source": [
    "df['Value'] = df['Price'].apply(val_)"
   ]
  },
  {
   "cell_type": "code",
   "execution_count": 19,
   "id": "cde2b11f",
   "metadata": {},
   "outputs": [
    {
     "data": {
      "text/html": [
       "<div>\n",
       "<style scoped>\n",
       "    .dataframe tbody tr th:only-of-type {\n",
       "        vertical-align: middle;\n",
       "    }\n",
       "\n",
       "    .dataframe tbody tr th {\n",
       "        vertical-align: top;\n",
       "    }\n",
       "\n",
       "    .dataframe thead th {\n",
       "        text-align: right;\n",
       "    }\n",
       "</style>\n",
       "<table border=\"1\" class=\"dataframe\">\n",
       "  <thead>\n",
       "    <tr style=\"text-align: right;\">\n",
       "      <th></th>\n",
       "      <th>Unnamed: 0</th>\n",
       "      <th>Building</th>\n",
       "      <th>Flat</th>\n",
       "      <th>Area</th>\n",
       "      <th>Location</th>\n",
       "      <th>Connectivity</th>\n",
       "      <th>Price</th>\n",
       "      <th>tflat</th>\n",
       "      <th>tbath</th>\n",
       "      <th>Value</th>\n",
       "    </tr>\n",
       "  </thead>\n",
       "  <tbody>\n",
       "    <tr>\n",
       "      <th>0</th>\n",
       "      <td>0</td>\n",
       "      <td>Miravet District</td>\n",
       "      <td>2 BHK</td>\n",
       "      <td>842-869 sq.ft. (78-81 sq.m.) Carpet Area</td>\n",
       "      <td>2 BHK Apartment in Ravet</td>\n",
       "      <td>15</td>\n",
       "      <td>₹ 66.67  - 68.81 L</td>\n",
       "      <td>2</td>\n",
       "      <td>NaN</td>\n",
       "      <td>67.740</td>\n",
       "    </tr>\n",
       "    <tr>\n",
       "      <th>2</th>\n",
       "      <td>2</td>\n",
       "      <td>LMS Finswell Woods</td>\n",
       "      <td>2 BHK2 Baths</td>\n",
       "      <td>773-782 sq.ft. (72-73 sq.m.) Carpet Area</td>\n",
       "      <td>2 BHK Apartment in Viman Nagar</td>\n",
       "      <td>47</td>\n",
       "      <td>₹ 98  - 99 L₹ 12,668/sq.ft.</td>\n",
       "      <td>2</td>\n",
       "      <td>2</td>\n",
       "      <td>98.500</td>\n",
       "    </tr>\n",
       "    <tr>\n",
       "      <th>3</th>\n",
       "      <td>3</td>\n",
       "      <td>Mangal Shanti Mansha Phase 2</td>\n",
       "      <td>2 BHK2 Baths</td>\n",
       "      <td>640-700 sq.ft. (59-65 sq.m.) Carpet Area</td>\n",
       "      <td>2 BHK Apartment in Wagholi</td>\n",
       "      <td>13</td>\n",
       "      <td>₹ 45.21  - 49.07 L₹ 7,036/sq.ft.</td>\n",
       "      <td>2</td>\n",
       "      <td>2</td>\n",
       "      <td>47.140</td>\n",
       "    </tr>\n",
       "    <tr>\n",
       "      <th>4</th>\n",
       "      <td>4</td>\n",
       "      <td>Solitere Emerald Tower</td>\n",
       "      <td>2 BHK</td>\n",
       "      <td>741-805 sq.ft. (69-75 sq.m.) Carpet Area</td>\n",
       "      <td>2 BHK Apartment in Vadgaon Budruk</td>\n",
       "      <td>50</td>\n",
       "      <td>₹ 65  - 70.65 L</td>\n",
       "      <td>2</td>\n",
       "      <td>NaN</td>\n",
       "      <td>67.825</td>\n",
       "    </tr>\n",
       "    <tr>\n",
       "      <th>5</th>\n",
       "      <td>5</td>\n",
       "      <td>Kuber Antonia</td>\n",
       "      <td>2 BHK2 Baths</td>\n",
       "      <td>730 sq.ft. (68 sq.m.) Carpet Area</td>\n",
       "      <td>2 BHK Apartment in Wakad</td>\n",
       "      <td>48</td>\n",
       "      <td>₹ 66.57 L</td>\n",
       "      <td>2</td>\n",
       "      <td>2</td>\n",
       "      <td>66.570</td>\n",
       "    </tr>\n",
       "  </tbody>\n",
       "</table>\n",
       "</div>"
      ],
      "text/plain": [
       "   Unnamed: 0                      Building          Flat  \\\n",
       "0           0              Miravet District         2 BHK   \n",
       "2           2            LMS Finswell Woods  2 BHK2 Baths   \n",
       "3           3  Mangal Shanti Mansha Phase 2  2 BHK2 Baths   \n",
       "4           4        Solitere Emerald Tower         2 BHK   \n",
       "5           5                 Kuber Antonia  2 BHK2 Baths   \n",
       "\n",
       "                                       Area  \\\n",
       "0  842-869 sq.ft. (78-81 sq.m.) Carpet Area   \n",
       "2  773-782 sq.ft. (72-73 sq.m.) Carpet Area   \n",
       "3  640-700 sq.ft. (59-65 sq.m.) Carpet Area   \n",
       "4  741-805 sq.ft. (69-75 sq.m.) Carpet Area   \n",
       "5         730 sq.ft. (68 sq.m.) Carpet Area   \n",
       "\n",
       "                            Location  Connectivity  \\\n",
       "0           2 BHK Apartment in Ravet            15   \n",
       "2     2 BHK Apartment in Viman Nagar            47   \n",
       "3         2 BHK Apartment in Wagholi            13   \n",
       "4  2 BHK Apartment in Vadgaon Budruk            50   \n",
       "5           2 BHK Apartment in Wakad            48   \n",
       "\n",
       "                              Price  tflat tbath   Value  \n",
       "0                ₹ 66.67  - 68.81 L      2   NaN  67.740  \n",
       "2       ₹ 98  - 99 L₹ 12,668/sq.ft.      2    2   98.500  \n",
       "3  ₹ 45.21  - 49.07 L₹ 7,036/sq.ft.      2    2   47.140  \n",
       "4                   ₹ 65  - 70.65 L      2   NaN  67.825  \n",
       "5                         ₹ 66.57 L      2    2   66.570  "
      ]
     },
     "execution_count": 19,
     "metadata": {},
     "output_type": "execute_result"
    }
   ],
   "source": [
    "df.head()"
   ]
  },
  {
   "cell_type": "code",
   "execution_count": 20,
   "id": "3bab1485",
   "metadata": {},
   "outputs": [
    {
     "data": {
      "text/html": [
       "<div>\n",
       "<style scoped>\n",
       "    .dataframe tbody tr th:only-of-type {\n",
       "        vertical-align: middle;\n",
       "    }\n",
       "\n",
       "    .dataframe tbody tr th {\n",
       "        vertical-align: top;\n",
       "    }\n",
       "\n",
       "    .dataframe thead th {\n",
       "        text-align: right;\n",
       "    }\n",
       "</style>\n",
       "<table border=\"1\" class=\"dataframe\">\n",
       "  <thead>\n",
       "    <tr style=\"text-align: right;\">\n",
       "      <th></th>\n",
       "      <th>Unnamed: 0</th>\n",
       "      <th>Connectivity</th>\n",
       "      <th>tflat</th>\n",
       "      <th>Value</th>\n",
       "    </tr>\n",
       "  </thead>\n",
       "  <tbody>\n",
       "    <tr>\n",
       "      <th>count</th>\n",
       "      <td>852.000000</td>\n",
       "      <td>852.000000</td>\n",
       "      <td>852.000000</td>\n",
       "      <td>852.000000</td>\n",
       "    </tr>\n",
       "    <tr>\n",
       "      <th>mean</th>\n",
       "      <td>452.775822</td>\n",
       "      <td>15.454225</td>\n",
       "      <td>2.183099</td>\n",
       "      <td>69.134002</td>\n",
       "    </tr>\n",
       "    <tr>\n",
       "      <th>std</th>\n",
       "      <td>263.802209</td>\n",
       "      <td>12.271470</td>\n",
       "      <td>0.595159</td>\n",
       "      <td>55.315937</td>\n",
       "    </tr>\n",
       "    <tr>\n",
       "      <th>min</th>\n",
       "      <td>0.000000</td>\n",
       "      <td>4.000000</td>\n",
       "      <td>1.000000</td>\n",
       "      <td>0.000000</td>\n",
       "    </tr>\n",
       "    <tr>\n",
       "      <th>25%</th>\n",
       "      <td>224.750000</td>\n",
       "      <td>7.000000</td>\n",
       "      <td>2.000000</td>\n",
       "      <td>46.340000</td>\n",
       "    </tr>\n",
       "    <tr>\n",
       "      <th>50%</th>\n",
       "      <td>449.500000</td>\n",
       "      <td>14.000000</td>\n",
       "      <td>2.000000</td>\n",
       "      <td>65.000000</td>\n",
       "    </tr>\n",
       "    <tr>\n",
       "      <th>75%</th>\n",
       "      <td>677.250000</td>\n",
       "      <td>15.000000</td>\n",
       "      <td>3.000000</td>\n",
       "      <td>78.335000</td>\n",
       "    </tr>\n",
       "    <tr>\n",
       "      <th>max</th>\n",
       "      <td>919.000000</td>\n",
       "      <td>50.000000</td>\n",
       "      <td>3.000000</td>\n",
       "      <td>411.000000</td>\n",
       "    </tr>\n",
       "  </tbody>\n",
       "</table>\n",
       "</div>"
      ],
      "text/plain": [
       "       Unnamed: 0  Connectivity       tflat       Value\n",
       "count  852.000000    852.000000  852.000000  852.000000\n",
       "mean   452.775822     15.454225    2.183099   69.134002\n",
       "std    263.802209     12.271470    0.595159   55.315937\n",
       "min      0.000000      4.000000    1.000000    0.000000\n",
       "25%    224.750000      7.000000    2.000000   46.340000\n",
       "50%    449.500000     14.000000    2.000000   65.000000\n",
       "75%    677.250000     15.000000    3.000000   78.335000\n",
       "max    919.000000     50.000000    3.000000  411.000000"
      ]
     },
     "execution_count": 20,
     "metadata": {},
     "output_type": "execute_result"
    }
   ],
   "source": [
    "df.describe()"
   ]
  },
  {
   "cell_type": "markdown",
   "id": "08176ff2",
   "metadata": {},
   "source": [
    "#### OutLier in Value column"
   ]
  },
  {
   "cell_type": "code",
   "execution_count": 21,
   "id": "74ee5934",
   "metadata": {},
   "outputs": [
    {
     "data": {
      "text/plain": [
       "<AxesSubplot:xlabel='Value'>"
      ]
     },
     "execution_count": 21,
     "metadata": {},
     "output_type": "execute_result"
    },
    {
     "data": {
      "image/png": "[encoded data removed]",
      "text/plain": [
       "<Figure size 432x288 with 1 Axes>"
      ]
     },
     "metadata": {
      "needs_background": "light"
     },
     "output_type": "display_data"
    }
   ],
   "source": [
    "import seaborn as sns\n",
    "sns.boxplot(df['Value'])"
   ]
  },
  {
   "cell_type": "markdown",
   "id": "b4ebd614",
   "metadata": {},
   "source": [
    "#### Total Area of Flat"
   ]
  },
  {
   "cell_type": "code",
   "execution_count": 22,
   "id": "5423caab",
   "metadata": {},
   "outputs": [],
   "source": [
    "df['TArea'] = df['Price'].apply(lambda x:x.split('L')[-1])"
   ]
  },
  {
   "cell_type": "code",
   "execution_count": 23,
   "id": "8773e26c",
   "metadata": {},
   "outputs": [],
   "source": [
    "df['TArea']=df['TArea'].apply(lambda x:x.split('/')[0].strip('₹').replace(',',''))"
   ]
  },
  {
   "cell_type": "code",
   "execution_count": 24,
   "id": "b6ad2f67",
   "metadata": {},
   "outputs": [],
   "source": [
    "df['TArea']=df['TArea'].replace(r'^\\s*$',np.nan,regex=True)"
   ]
  },
  {
   "cell_type": "code",
   "execution_count": 25,
   "id": "ff4fdef2",
   "metadata": {},
   "outputs": [
    {
     "data": {
      "text/html": [
       "<div>\n",
       "<style scoped>\n",
       "    .dataframe tbody tr th:only-of-type {\n",
       "        vertical-align: middle;\n",
       "    }\n",
       "\n",
       "    .dataframe tbody tr th {\n",
       "        vertical-align: top;\n",
       "    }\n",
       "\n",
       "    .dataframe thead th {\n",
       "        text-align: right;\n",
       "    }\n",
       "</style>\n",
       "<table border=\"1\" class=\"dataframe\">\n",
       "  <thead>\n",
       "    <tr style=\"text-align: right;\">\n",
       "      <th></th>\n",
       "      <th>Unnamed: 0</th>\n",
       "      <th>Building</th>\n",
       "      <th>Flat</th>\n",
       "      <th>Area</th>\n",
       "      <th>Location</th>\n",
       "      <th>Connectivity</th>\n",
       "      <th>Price</th>\n",
       "      <th>tflat</th>\n",
       "      <th>tbath</th>\n",
       "      <th>Value</th>\n",
       "      <th>TArea</th>\n",
       "    </tr>\n",
       "  </thead>\n",
       "  <tbody>\n",
       "    <tr>\n",
       "      <th>0</th>\n",
       "      <td>0</td>\n",
       "      <td>Miravet District</td>\n",
       "      <td>2 BHK</td>\n",
       "      <td>842-869 sq.ft. (78-81 sq.m.) Carpet Area</td>\n",
       "      <td>2 BHK Apartment in Ravet</td>\n",
       "      <td>15</td>\n",
       "      <td>₹ 66.67  - 68.81 L</td>\n",
       "      <td>2</td>\n",
       "      <td>NaN</td>\n",
       "      <td>67.740</td>\n",
       "      <td>NaN</td>\n",
       "    </tr>\n",
       "    <tr>\n",
       "      <th>2</th>\n",
       "      <td>2</td>\n",
       "      <td>LMS Finswell Woods</td>\n",
       "      <td>2 BHK2 Baths</td>\n",
       "      <td>773-782 sq.ft. (72-73 sq.m.) Carpet Area</td>\n",
       "      <td>2 BHK Apartment in Viman Nagar</td>\n",
       "      <td>47</td>\n",
       "      <td>₹ 98  - 99 L₹ 12,668/sq.ft.</td>\n",
       "      <td>2</td>\n",
       "      <td>2</td>\n",
       "      <td>98.500</td>\n",
       "      <td>12668</td>\n",
       "    </tr>\n",
       "    <tr>\n",
       "      <th>3</th>\n",
       "      <td>3</td>\n",
       "      <td>Mangal Shanti Mansha Phase 2</td>\n",
       "      <td>2 BHK2 Baths</td>\n",
       "      <td>640-700 sq.ft. (59-65 sq.m.) Carpet Area</td>\n",
       "      <td>2 BHK Apartment in Wagholi</td>\n",
       "      <td>13</td>\n",
       "      <td>₹ 45.21  - 49.07 L₹ 7,036/sq.ft.</td>\n",
       "      <td>2</td>\n",
       "      <td>2</td>\n",
       "      <td>47.140</td>\n",
       "      <td>7036</td>\n",
       "    </tr>\n",
       "    <tr>\n",
       "      <th>4</th>\n",
       "      <td>4</td>\n",
       "      <td>Solitere Emerald Tower</td>\n",
       "      <td>2 BHK</td>\n",
       "      <td>741-805 sq.ft. (69-75 sq.m.) Carpet Area</td>\n",
       "      <td>2 BHK Apartment in Vadgaon Budruk</td>\n",
       "      <td>50</td>\n",
       "      <td>₹ 65  - 70.65 L</td>\n",
       "      <td>2</td>\n",
       "      <td>NaN</td>\n",
       "      <td>67.825</td>\n",
       "      <td>NaN</td>\n",
       "    </tr>\n",
       "    <tr>\n",
       "      <th>5</th>\n",
       "      <td>5</td>\n",
       "      <td>Kuber Antonia</td>\n",
       "      <td>2 BHK2 Baths</td>\n",
       "      <td>730 sq.ft. (68 sq.m.) Carpet Area</td>\n",
       "      <td>2 BHK Apartment in Wakad</td>\n",
       "      <td>48</td>\n",
       "      <td>₹ 66.57 L</td>\n",
       "      <td>2</td>\n",
       "      <td>2</td>\n",
       "      <td>66.570</td>\n",
       "      <td>NaN</td>\n",
       "    </tr>\n",
       "  </tbody>\n",
       "</table>\n",
       "</div>"
      ],
      "text/plain": [
       "   Unnamed: 0                      Building          Flat  \\\n",
       "0           0              Miravet District         2 BHK   \n",
       "2           2            LMS Finswell Woods  2 BHK2 Baths   \n",
       "3           3  Mangal Shanti Mansha Phase 2  2 BHK2 Baths   \n",
       "4           4        Solitere Emerald Tower         2 BHK   \n",
       "5           5                 Kuber Antonia  2 BHK2 Baths   \n",
       "\n",
       "                                       Area  \\\n",
       "0  842-869 sq.ft. (78-81 sq.m.) Carpet Area   \n",
       "2  773-782 sq.ft. (72-73 sq.m.) Carpet Area   \n",
       "3  640-700 sq.ft. (59-65 sq.m.) Carpet Area   \n",
       "4  741-805 sq.ft. (69-75 sq.m.) Carpet Area   \n",
       "5         730 sq.ft. (68 sq.m.) Carpet Area   \n",
       "\n",
       "                            Location  Connectivity  \\\n",
       "0           2 BHK Apartment in Ravet            15   \n",
       "2     2 BHK Apartment in Viman Nagar            47   \n",
       "3         2 BHK Apartment in Wagholi            13   \n",
       "4  2 BHK Apartment in Vadgaon Budruk            50   \n",
       "5           2 BHK Apartment in Wakad            48   \n",
       "\n",
       "                              Price  tflat tbath   Value   TArea  \n",
       "0                ₹ 66.67  - 68.81 L      2   NaN  67.740     NaN  \n",
       "2       ₹ 98  - 99 L₹ 12,668/sq.ft.      2    2   98.500   12668  \n",
       "3  ₹ 45.21  - 49.07 L₹ 7,036/sq.ft.      2    2   47.140    7036  \n",
       "4                   ₹ 65  - 70.65 L      2   NaN  67.825     NaN  \n",
       "5                         ₹ 66.57 L      2    2   66.570     NaN  "
      ]
     },
     "execution_count": 25,
     "metadata": {},
     "output_type": "execute_result"
    }
   ],
   "source": [
    "df.head()"
   ]
  },
  {
   "cell_type": "markdown",
   "id": "a05b5be2",
   "metadata": {},
   "source": [
    "### Carpet Area\n",
    "- in sq.m."
   ]
  },
  {
   "cell_type": "code",
   "execution_count": 26,
   "id": "5adc0853",
   "metadata": {},
   "outputs": [],
   "source": [
    "scale = ['sq.ft','sq.yards','sq.m.', 'grounds', 'aankadam', 'rood','chataks','perch','guntha','ares']\n",
    "\n",
    "def carea_ (x):\n",
    "    if '(' in x:\n",
    "        y = x.split('(')[1].split(')')[0].split(' ')[0].strip()\n",
    "        if '-' in y:\n",
    "            return (float(y.split('-')[0]) + float(y.split('-')[1]))/2\n",
    "        else:\n",
    "            return float(y)\n",
    "    else:\n",
    "        y = x.split(' ')[0]\n",
    "        if '-' in y:\n",
    "            return (float(y.split('-')[0]) + float(y.split('-')[1]))/2\n",
    "        else:\n",
    "            return float(y)"
   ]
  },
  {
   "cell_type": "code",
   "execution_count": 27,
   "id": "03f3ddfe",
   "metadata": {},
   "outputs": [],
   "source": [
    "df['CArea in Sq.m.']=df['Area'].apply(carea_)"
   ]
  },
  {
   "cell_type": "code",
   "execution_count": 28,
   "id": "74de54dd",
   "metadata": {},
   "outputs": [
    {
     "data": {
      "text/html": [
       "<div>\n",
       "<style scoped>\n",
       "    .dataframe tbody tr th:only-of-type {\n",
       "        vertical-align: middle;\n",
       "    }\n",
       "\n",
       "    .dataframe tbody tr th {\n",
       "        vertical-align: top;\n",
       "    }\n",
       "\n",
       "    .dataframe thead th {\n",
       "        text-align: right;\n",
       "    }\n",
       "</style>\n",
       "<table border=\"1\" class=\"dataframe\">\n",
       "  <thead>\n",
       "    <tr style=\"text-align: right;\">\n",
       "      <th></th>\n",
       "      <th>Unnamed: 0</th>\n",
       "      <th>Building</th>\n",
       "      <th>Flat</th>\n",
       "      <th>Area</th>\n",
       "      <th>Location</th>\n",
       "      <th>Connectivity</th>\n",
       "      <th>Price</th>\n",
       "      <th>tflat</th>\n",
       "      <th>tbath</th>\n",
       "      <th>Value</th>\n",
       "      <th>TArea</th>\n",
       "      <th>CArea in Sq.m.</th>\n",
       "    </tr>\n",
       "  </thead>\n",
       "  <tbody>\n",
       "    <tr>\n",
       "      <th>0</th>\n",
       "      <td>0</td>\n",
       "      <td>Miravet District</td>\n",
       "      <td>2 BHK</td>\n",
       "      <td>842-869 sq.ft. (78-81 sq.m.) Carpet Area</td>\n",
       "      <td>2 BHK Apartment in Ravet</td>\n",
       "      <td>15</td>\n",
       "      <td>₹ 66.67  - 68.81 L</td>\n",
       "      <td>2</td>\n",
       "      <td>NaN</td>\n",
       "      <td>67.740</td>\n",
       "      <td>NaN</td>\n",
       "      <td>79.5</td>\n",
       "    </tr>\n",
       "    <tr>\n",
       "      <th>2</th>\n",
       "      <td>2</td>\n",
       "      <td>LMS Finswell Woods</td>\n",
       "      <td>2 BHK2 Baths</td>\n",
       "      <td>773-782 sq.ft. (72-73 sq.m.) Carpet Area</td>\n",
       "      <td>2 BHK Apartment in Viman Nagar</td>\n",
       "      <td>47</td>\n",
       "      <td>₹ 98  - 99 L₹ 12,668/sq.ft.</td>\n",
       "      <td>2</td>\n",
       "      <td>2</td>\n",
       "      <td>98.500</td>\n",
       "      <td>12668</td>\n",
       "      <td>72.5</td>\n",
       "    </tr>\n",
       "    <tr>\n",
       "      <th>3</th>\n",
       "      <td>3</td>\n",
       "      <td>Mangal Shanti Mansha Phase 2</td>\n",
       "      <td>2 BHK2 Baths</td>\n",
       "      <td>640-700 sq.ft. (59-65 sq.m.) Carpet Area</td>\n",
       "      <td>2 BHK Apartment in Wagholi</td>\n",
       "      <td>13</td>\n",
       "      <td>₹ 45.21  - 49.07 L₹ 7,036/sq.ft.</td>\n",
       "      <td>2</td>\n",
       "      <td>2</td>\n",
       "      <td>47.140</td>\n",
       "      <td>7036</td>\n",
       "      <td>62.0</td>\n",
       "    </tr>\n",
       "    <tr>\n",
       "      <th>4</th>\n",
       "      <td>4</td>\n",
       "      <td>Solitere Emerald Tower</td>\n",
       "      <td>2 BHK</td>\n",
       "      <td>741-805 sq.ft. (69-75 sq.m.) Carpet Area</td>\n",
       "      <td>2 BHK Apartment in Vadgaon Budruk</td>\n",
       "      <td>50</td>\n",
       "      <td>₹ 65  - 70.65 L</td>\n",
       "      <td>2</td>\n",
       "      <td>NaN</td>\n",
       "      <td>67.825</td>\n",
       "      <td>NaN</td>\n",
       "      <td>72.0</td>\n",
       "    </tr>\n",
       "    <tr>\n",
       "      <th>5</th>\n",
       "      <td>5</td>\n",
       "      <td>Kuber Antonia</td>\n",
       "      <td>2 BHK2 Baths</td>\n",
       "      <td>730 sq.ft. (68 sq.m.) Carpet Area</td>\n",
       "      <td>2 BHK Apartment in Wakad</td>\n",
       "      <td>48</td>\n",
       "      <td>₹ 66.57 L</td>\n",
       "      <td>2</td>\n",
       "      <td>2</td>\n",
       "      <td>66.570</td>\n",
       "      <td>NaN</td>\n",
       "      <td>68.0</td>\n",
       "    </tr>\n",
       "  </tbody>\n",
       "</table>\n",
       "</div>"
      ],
      "text/plain": [
       "   Unnamed: 0                      Building          Flat  \\\n",
       "0           0              Miravet District         2 BHK   \n",
       "2           2            LMS Finswell Woods  2 BHK2 Baths   \n",
       "3           3  Mangal Shanti Mansha Phase 2  2 BHK2 Baths   \n",
       "4           4        Solitere Emerald Tower         2 BHK   \n",
       "5           5                 Kuber Antonia  2 BHK2 Baths   \n",
       "\n",
       "                                       Area  \\\n",
       "0  842-869 sq.ft. (78-81 sq.m.) Carpet Area   \n",
       "2  773-782 sq.ft. (72-73 sq.m.) Carpet Area   \n",
       "3  640-700 sq.ft. (59-65 sq.m.) Carpet Area   \n",
       "4  741-805 sq.ft. (69-75 sq.m.) Carpet Area   \n",
       "5         730 sq.ft. (68 sq.m.) Carpet Area   \n",
       "\n",
       "                            Location  Connectivity  \\\n",
       "0           2 BHK Apartment in Ravet            15   \n",
       "2     2 BHK Apartment in Viman Nagar            47   \n",
       "3         2 BHK Apartment in Wagholi            13   \n",
       "4  2 BHK Apartment in Vadgaon Budruk            50   \n",
       "5           2 BHK Apartment in Wakad            48   \n",
       "\n",
       "                              Price  tflat tbath   Value   TArea  \\\n",
       "0                ₹ 66.67  - 68.81 L      2   NaN  67.740     NaN   \n",
       "2       ₹ 98  - 99 L₹ 12,668/sq.ft.      2    2   98.500   12668   \n",
       "3  ₹ 45.21  - 49.07 L₹ 7,036/sq.ft.      2    2   47.140    7036   \n",
       "4                   ₹ 65  - 70.65 L      2   NaN  67.825     NaN   \n",
       "5                         ₹ 66.57 L      2    2   66.570     NaN   \n",
       "\n",
       "   CArea in Sq.m.  \n",
       "0            79.5  \n",
       "2            72.5  \n",
       "3            62.0  \n",
       "4            72.0  \n",
       "5            68.0  "
      ]
     },
     "execution_count": 28,
     "metadata": {},
     "output_type": "execute_result"
    }
   ],
   "source": [
    "df.head()"
   ]
  },
  {
   "cell_type": "code",
   "execution_count": 29,
   "id": "556da6aa",
   "metadata": {},
   "outputs": [
    {
     "data": {
      "text/plain": [
       "<AxesSubplot:xlabel='CArea in Sq.m.'>"
      ]
     },
     "execution_count": 29,
     "metadata": {},
     "output_type": "execute_result"
    },
    {
     "data": {
      "image/png": "[encoded data removed]",
      "text/plain": [
       "<Figure size 432x288 with 1 Axes>"
      ]
     },
     "metadata": {
      "needs_background": "light"
     },
     "output_type": "display_data"
    }
   ],
   "source": [
    "sns.boxplot(df['CArea in Sq.m.'])"
   ]
  },
  {
   "cell_type": "markdown",
   "id": "37027ffa",
   "metadata": {},
   "source": [
    "#### Location"
   ]
  },
  {
   "cell_type": "code",
   "execution_count": 30,
   "id": "78acbc9f",
   "metadata": {},
   "outputs": [],
   "source": [
    "df['Location'] = df['Location'].apply(lambda x: x.split(' ')[-1])"
   ]
  },
  {
   "cell_type": "code",
   "execution_count": 31,
   "id": "b9a59db8",
   "metadata": {},
   "outputs": [
    {
     "data": {
      "text/plain": [
       "0"
      ]
     },
     "execution_count": 31,
     "metadata": {},
     "output_type": "execute_result"
    }
   ],
   "source": [
    "df['Location'].isnull().sum()"
   ]
  },
  {
   "cell_type": "code",
   "execution_count": 32,
   "id": "33bf0ef6",
   "metadata": {},
   "outputs": [
    {
     "data": {
      "text/plain": [
       "26"
      ]
     },
     "execution_count": 32,
     "metadata": {},
     "output_type": "execute_result"
    }
   ],
   "source": [
    "df['Location'].nunique()"
   ]
  },
  {
   "cell_type": "markdown",
   "id": "b810fd60",
   "metadata": {},
   "source": [
    "#### Cheking Nan"
   ]
  },
  {
   "cell_type": "code",
   "execution_count": 33,
   "id": "c975eb02",
   "metadata": {},
   "outputs": [
    {
     "data": {
      "text/plain": [
       "Unnamed: 0          0\n",
       "Building            0\n",
       "Flat                0\n",
       "Area                0\n",
       "Location            0\n",
       "Connectivity        0\n",
       "Price               0\n",
       "tflat               0\n",
       "tbath             539\n",
       "Value               0\n",
       "TArea             558\n",
       "CArea in Sq.m.      0\n",
       "dtype: int64"
      ]
     },
     "execution_count": 33,
     "metadata": {},
     "output_type": "execute_result"
    }
   ],
   "source": [
    "df.isnull().sum()"
   ]
  },
  {
   "cell_type": "raw",
   "id": "70a7d1c5",
   "metadata": {},
   "source": [
    "Keeping only = ['Buiding','Location','tflat','CArea in Sq.m.','Connectivity','Value']"
   ]
  },
  {
   "cell_type": "code",
   "execution_count": 35,
   "id": "6b039519",
   "metadata": {},
   "outputs": [],
   "source": [
    "df = df[['Building','Location','tflat','CArea in Sq.m.','Connectivity','Value']]"
   ]
  },
  {
   "cell_type": "code",
   "execution_count": 36,
   "id": "713fdddd",
   "metadata": {},
   "outputs": [
    {
     "data": {
      "text/html": [
       "<div>\n",
       "<style scoped>\n",
       "    .dataframe tbody tr th:only-of-type {\n",
       "        vertical-align: middle;\n",
       "    }\n",
       "\n",
       "    .dataframe tbody tr th {\n",
       "        vertical-align: top;\n",
       "    }\n",
       "\n",
       "    .dataframe thead th {\n",
       "        text-align: right;\n",
       "    }\n",
       "</style>\n",
       "<table border=\"1\" class=\"dataframe\">\n",
       "  <thead>\n",
       "    <tr style=\"text-align: right;\">\n",
       "      <th></th>\n",
       "      <th>Building</th>\n",
       "      <th>Location</th>\n",
       "      <th>tflat</th>\n",
       "      <th>CArea in Sq.m.</th>\n",
       "      <th>Connectivity</th>\n",
       "      <th>Value</th>\n",
       "    </tr>\n",
       "  </thead>\n",
       "  <tbody>\n",
       "    <tr>\n",
       "      <th>0</th>\n",
       "      <td>Miravet District</td>\n",
       "      <td>Ravet</td>\n",
       "      <td>2</td>\n",
       "      <td>79.5</td>\n",
       "      <td>15</td>\n",
       "      <td>67.740</td>\n",
       "    </tr>\n",
       "    <tr>\n",
       "      <th>2</th>\n",
       "      <td>LMS Finswell Woods</td>\n",
       "      <td>Nagar</td>\n",
       "      <td>2</td>\n",
       "      <td>72.5</td>\n",
       "      <td>47</td>\n",
       "      <td>98.500</td>\n",
       "    </tr>\n",
       "    <tr>\n",
       "      <th>3</th>\n",
       "      <td>Mangal Shanti Mansha Phase 2</td>\n",
       "      <td>Wagholi</td>\n",
       "      <td>2</td>\n",
       "      <td>62.0</td>\n",
       "      <td>13</td>\n",
       "      <td>47.140</td>\n",
       "    </tr>\n",
       "    <tr>\n",
       "      <th>4</th>\n",
       "      <td>Solitere Emerald Tower</td>\n",
       "      <td>Budruk</td>\n",
       "      <td>2</td>\n",
       "      <td>72.0</td>\n",
       "      <td>50</td>\n",
       "      <td>67.825</td>\n",
       "    </tr>\n",
       "    <tr>\n",
       "      <th>5</th>\n",
       "      <td>Kuber Antonia</td>\n",
       "      <td>Wakad</td>\n",
       "      <td>2</td>\n",
       "      <td>68.0</td>\n",
       "      <td>48</td>\n",
       "      <td>66.570</td>\n",
       "    </tr>\n",
       "    <tr>\n",
       "      <th>...</th>\n",
       "      <td>...</td>\n",
       "      <td>...</td>\n",
       "      <td>...</td>\n",
       "      <td>...</td>\n",
       "      <td>...</td>\n",
       "      <td>...</td>\n",
       "    </tr>\n",
       "    <tr>\n",
       "      <th>914</th>\n",
       "      <td>Elated Khushvista</td>\n",
       "      <td>NIBM</td>\n",
       "      <td>2</td>\n",
       "      <td>66.0</td>\n",
       "      <td>15</td>\n",
       "      <td>49.140</td>\n",
       "    </tr>\n",
       "    <tr>\n",
       "      <th>915</th>\n",
       "      <td>Aishwaryam Insignia</td>\n",
       "      <td>Punawale</td>\n",
       "      <td>2</td>\n",
       "      <td>62.0</td>\n",
       "      <td>5</td>\n",
       "      <td>48.800</td>\n",
       "    </tr>\n",
       "    <tr>\n",
       "      <th>917</th>\n",
       "      <td>Leisure Town</td>\n",
       "      <td>Hadapsar</td>\n",
       "      <td>2</td>\n",
       "      <td>69.0</td>\n",
       "      <td>7</td>\n",
       "      <td>83.000</td>\n",
       "    </tr>\n",
       "    <tr>\n",
       "      <th>918</th>\n",
       "      <td>Park Titan</td>\n",
       "      <td>Marunji</td>\n",
       "      <td>3</td>\n",
       "      <td>102.5</td>\n",
       "      <td>9</td>\n",
       "      <td>94.000</td>\n",
       "    </tr>\n",
       "    <tr>\n",
       "      <th>919</th>\n",
       "      <td>Leisure Town</td>\n",
       "      <td>Hadapsar</td>\n",
       "      <td>1</td>\n",
       "      <td>43.0</td>\n",
       "      <td>7</td>\n",
       "      <td>49.000</td>\n",
       "    </tr>\n",
       "  </tbody>\n",
       "</table>\n",
       "<p>852 rows × 6 columns</p>\n",
       "</div>"
      ],
      "text/plain": [
       "                         Building  Location  tflat  CArea in Sq.m.  \\\n",
       "0                Miravet District     Ravet      2            79.5   \n",
       "2              LMS Finswell Woods     Nagar      2            72.5   \n",
       "3    Mangal Shanti Mansha Phase 2   Wagholi      2            62.0   \n",
       "4          Solitere Emerald Tower    Budruk      2            72.0   \n",
       "5                   Kuber Antonia     Wakad      2            68.0   \n",
       "..                            ...       ...    ...             ...   \n",
       "914             Elated Khushvista      NIBM      2            66.0   \n",
       "915           Aishwaryam Insignia  Punawale      2            62.0   \n",
       "917                  Leisure Town  Hadapsar      2            69.0   \n",
       "918                    Park Titan   Marunji      3           102.5   \n",
       "919                  Leisure Town  Hadapsar      1            43.0   \n",
       "\n",
       "     Connectivity   Value  \n",
       "0              15  67.740  \n",
       "2              47  98.500  \n",
       "3              13  47.140  \n",
       "4              50  67.825  \n",
       "5              48  66.570  \n",
       "..            ...     ...  \n",
       "914            15  49.140  \n",
       "915             5  48.800  \n",
       "917             7  83.000  \n",
       "918             9  94.000  \n",
       "919             7  49.000  \n",
       "\n",
       "[852 rows x 6 columns]"
      ]
     },
     "execution_count": 36,
     "metadata": {},
     "output_type": "execute_result"
    }
   ],
   "source": [
    "df"
   ]
  },
  {
   "cell_type": "code",
   "execution_count": 37,
   "id": "128eddb8",
   "metadata": {},
   "outputs": [
    {
     "data": {
      "text/plain": [
       "Building          0\n",
       "Location          0\n",
       "tflat             0\n",
       "CArea in Sq.m.    0\n",
       "Connectivity      0\n",
       "Value             0\n",
       "dtype: int64"
      ]
     },
     "execution_count": 37,
     "metadata": {},
     "output_type": "execute_result"
    }
   ],
   "source": [
    "df.isnull().sum()"
   ]
  },
  {
   "cell_type": "code",
   "execution_count": 38,
   "id": "4fee61ee",
   "metadata": {},
   "outputs": [
    {
     "data": {
      "text/html": [
       "<div>\n",
       "<style scoped>\n",
       "    .dataframe tbody tr th:only-of-type {\n",
       "        vertical-align: middle;\n",
       "    }\n",
       "\n",
       "    .dataframe tbody tr th {\n",
       "        vertical-align: top;\n",
       "    }\n",
       "\n",
       "    .dataframe thead th {\n",
       "        text-align: right;\n",
       "    }\n",
       "</style>\n",
       "<table border=\"1\" class=\"dataframe\">\n",
       "  <thead>\n",
       "    <tr style=\"text-align: right;\">\n",
       "      <th></th>\n",
       "      <th>tflat</th>\n",
       "      <th>CArea in Sq.m.</th>\n",
       "      <th>Connectivity</th>\n",
       "      <th>Value</th>\n",
       "    </tr>\n",
       "  </thead>\n",
       "  <tbody>\n",
       "    <tr>\n",
       "      <th>count</th>\n",
       "      <td>852.000000</td>\n",
       "      <td>852.000000</td>\n",
       "      <td>852.000000</td>\n",
       "      <td>852.000000</td>\n",
       "    </tr>\n",
       "    <tr>\n",
       "      <th>mean</th>\n",
       "      <td>2.183099</td>\n",
       "      <td>76.872066</td>\n",
       "      <td>15.454225</td>\n",
       "      <td>69.134002</td>\n",
       "    </tr>\n",
       "    <tr>\n",
       "      <th>std</th>\n",
       "      <td>0.595159</td>\n",
       "      <td>27.458666</td>\n",
       "      <td>12.271470</td>\n",
       "      <td>55.315937</td>\n",
       "    </tr>\n",
       "    <tr>\n",
       "      <th>min</th>\n",
       "      <td>1.000000</td>\n",
       "      <td>30.000000</td>\n",
       "      <td>4.000000</td>\n",
       "      <td>0.000000</td>\n",
       "    </tr>\n",
       "    <tr>\n",
       "      <th>25%</th>\n",
       "      <td>2.000000</td>\n",
       "      <td>62.000000</td>\n",
       "      <td>7.000000</td>\n",
       "      <td>46.340000</td>\n",
       "    </tr>\n",
       "    <tr>\n",
       "      <th>50%</th>\n",
       "      <td>2.000000</td>\n",
       "      <td>72.000000</td>\n",
       "      <td>14.000000</td>\n",
       "      <td>65.000000</td>\n",
       "    </tr>\n",
       "    <tr>\n",
       "      <th>75%</th>\n",
       "      <td>3.000000</td>\n",
       "      <td>90.000000</td>\n",
       "      <td>15.000000</td>\n",
       "      <td>78.335000</td>\n",
       "    </tr>\n",
       "    <tr>\n",
       "      <th>max</th>\n",
       "      <td>3.000000</td>\n",
       "      <td>234.500000</td>\n",
       "      <td>50.000000</td>\n",
       "      <td>411.000000</td>\n",
       "    </tr>\n",
       "  </tbody>\n",
       "</table>\n",
       "</div>"
      ],
      "text/plain": [
       "            tflat  CArea in Sq.m.  Connectivity       Value\n",
       "count  852.000000      852.000000    852.000000  852.000000\n",
       "mean     2.183099       76.872066     15.454225   69.134002\n",
       "std      0.595159       27.458666     12.271470   55.315937\n",
       "min      1.000000       30.000000      4.000000    0.000000\n",
       "25%      2.000000       62.000000      7.000000   46.340000\n",
       "50%      2.000000       72.000000     14.000000   65.000000\n",
       "75%      3.000000       90.000000     15.000000   78.335000\n",
       "max      3.000000      234.500000     50.000000  411.000000"
      ]
     },
     "execution_count": 38,
     "metadata": {},
     "output_type": "execute_result"
    }
   ],
   "source": [
    "df.describe()"
   ]
  },
  {
   "cell_type": "raw",
   "id": "98c8e967",
   "metadata": {},
   "source": [
    "QQ plot"
   ]
  },
  {
   "cell_type": "code",
   "execution_count": 39,
   "id": "94fbfcce",
   "metadata": {},
   "outputs": [],
   "source": [
    "import matplotlib.pyplot as plt\n",
    "import pylab\n",
    "import scipy.stats as stat\n",
    "\n",
    "def plot(df,feature):\n",
    "    plt.figure(figsize=(10,6))\n",
    "    plt.subplot(1,2,1)\n",
    "    df[feature].plot(kind='kde')\n",
    "    plt.subplot(1,2,2)\n",
    "    stat.probplot(df[feature],dist='norm',plot=pylab)\n",
    "    plt.show()"
   ]
  },
  {
   "cell_type": "code",
   "execution_count": 40,
   "id": "fbb361a2",
   "metadata": {},
   "outputs": [
    {
     "data": {
      "image/png": "[encoded data removed]",
      "text/plain": [
       "<Figure size 720x432 with 2 Axes>"
      ]
     },
     "metadata": {
      "needs_background": "light"
     },
     "output_type": "display_data"
    }
   ],
   "source": [
    "plot(df,'CArea in Sq.m.')"
   ]
  },
  {
   "cell_type": "code",
   "execution_count": 41,
   "id": "fe57d89c",
   "metadata": {},
   "outputs": [
    {
     "data": {
      "image/png": "[encoded data removed]",
      "text/plain": [
       "<Figure size 720x432 with 2 Axes>"
      ]
     },
     "metadata": {
      "needs_background": "light"
     },
     "output_type": "display_data"
    }
   ],
   "source": [
    "plot(df,'Value')"
   ]
  },
  {
   "cell_type": "markdown",
   "id": "0cb1d1cc",
   "metadata": {},
   "source": [
    "#### OUtlier Remove"
   ]
  },
  {
   "cell_type": "code",
   "execution_count": 42,
   "id": "786bb4c8",
   "metadata": {},
   "outputs": [
    {
     "data": {
      "text/plain": [
       "<AxesSubplot:xlabel='Value', ylabel='Density'>"
      ]
     },
     "execution_count": 42,
     "metadata": {},
     "output_type": "execute_result"
    },
    {
     "data": {
      "image/png": "[encoded data removed]",
      "text/plain": [
       "<Figure size 1080x360 with 2 Axes>"
      ]
     },
     "metadata": {
      "needs_background": "light"
     },
     "output_type": "display_data"
    }
   ],
   "source": [
    "plt.figure(figsize=(15,5))\n",
    "plt.subplot(1,2,1)\n",
    "sns.distplot(df['CArea in Sq.m.'],hist=False)\n",
    "plt.subplot(1,2,2)\n",
    "sns.distplot(df['Value'],hist=False)"
   ]
  },
  {
   "cell_type": "markdown",
   "id": "9c5a205a",
   "metadata": {},
   "source": [
    "#### Outlier Removal"
   ]
  },
  {
   "cell_type": "code",
   "execution_count": 43,
   "id": "65f40394",
   "metadata": {},
   "outputs": [],
   "source": [
    "Q1=df['CArea in Sq.m.'].quantile(0.25)\n",
    "Q3=df['CArea in Sq.m.'].quantile(0.75)\n",
    "\n",
    "IQR=Q3-Q1\n",
    "\n",
    "lower_limit=Q1-1.5*IQR\n",
    "upper_limit=Q3+1.5*IQR\n",
    "\n",
    "#### Trimming`\n",
    "\n",
    "df=df[(df['CArea in Sq.m.']>lower_limit) & (df['CArea in Sq.m.']<upper_limit)]"
   ]
  },
  {
   "cell_type": "code",
   "execution_count": 44,
   "id": "0c1ecddf",
   "metadata": {},
   "outputs": [
    {
     "data": {
      "text/plain": [
       "<AxesSubplot:>"
      ]
     },
     "execution_count": 44,
     "metadata": {},
     "output_type": "execute_result"
    },
    {
     "data": {
      "image/png": "[encoded data removed]",
      "text/plain": [
       "<Figure size 432x288 with 1 Axes>"
      ]
     },
     "metadata": {
      "needs_background": "light"
     },
     "output_type": "display_data"
    }
   ],
   "source": [
    "df[['CArea in Sq.m.']].boxplot()"
   ]
  },
  {
   "cell_type": "code",
   "execution_count": 45,
   "id": "bb0cc4b9",
   "metadata": {},
   "outputs": [
    {
     "data": {
      "text/plain": [
       "(823, 6)"
      ]
     },
     "execution_count": 45,
     "metadata": {},
     "output_type": "execute_result"
    }
   ],
   "source": [
    "df.shape"
   ]
  },
  {
   "cell_type": "code",
   "execution_count": 46,
   "id": "ba3d6dbe",
   "metadata": {},
   "outputs": [],
   "source": [
    "Q1=df['Value'].quantile(0.25)\n",
    "Q3=df['Value'].quantile(0.75)\n",
    "\n",
    "IQR=Q3-Q1\n",
    "\n",
    "lower_limit=Q1-1.5*IQR\n",
    "upper_limit=Q3+1.5*IQR\n",
    "\n",
    "#### Trimming`\n",
    "\n",
    "df=df[(df['Value']>lower_limit) & (df['Value']<upper_limit)]"
   ]
  },
  {
   "cell_type": "code",
   "execution_count": 47,
   "id": "8b70b189",
   "metadata": {},
   "outputs": [
    {
     "data": {
      "text/plain": [
       "<AxesSubplot:>"
      ]
     },
     "execution_count": 47,
     "metadata": {},
     "output_type": "execute_result"
    },
    {
     "data": {
      "image/png": "[encoded data removed]",
      "text/plain": [
       "<Figure size 432x288 with 1 Axes>"
      ]
     },
     "metadata": {
      "needs_background": "light"
     },
     "output_type": "display_data"
    }
   ],
   "source": [
    "df[['Value']].boxplot()"
   ]
  },
  {
   "cell_type": "code",
   "execution_count": 48,
   "id": "db633ef9",
   "metadata": {},
   "outputs": [
    {
     "data": {
      "text/plain": [
       "(806, 6)"
      ]
     },
     "execution_count": 48,
     "metadata": {},
     "output_type": "execute_result"
    }
   ],
   "source": [
    "df.shape"
   ]
  },
  {
   "cell_type": "code",
   "execution_count": 49,
   "id": "cc73d44f",
   "metadata": {},
   "outputs": [
    {
     "data": {
      "text/html": [
       "<div>\n",
       "<style scoped>\n",
       "    .dataframe tbody tr th:only-of-type {\n",
       "        vertical-align: middle;\n",
       "    }\n",
       "\n",
       "    .dataframe tbody tr th {\n",
       "        vertical-align: top;\n",
       "    }\n",
       "\n",
       "    .dataframe thead th {\n",
       "        text-align: right;\n",
       "    }\n",
       "</style>\n",
       "<table border=\"1\" class=\"dataframe\">\n",
       "  <thead>\n",
       "    <tr style=\"text-align: right;\">\n",
       "      <th></th>\n",
       "      <th>Building</th>\n",
       "      <th>Location</th>\n",
       "      <th>tflat</th>\n",
       "      <th>CArea in Sq.m.</th>\n",
       "      <th>Connectivity</th>\n",
       "      <th>Value</th>\n",
       "    </tr>\n",
       "  </thead>\n",
       "  <tbody>\n",
       "    <tr>\n",
       "      <th>0</th>\n",
       "      <td>Miravet District</td>\n",
       "      <td>Ravet</td>\n",
       "      <td>2</td>\n",
       "      <td>79.5</td>\n",
       "      <td>15</td>\n",
       "      <td>67.740</td>\n",
       "    </tr>\n",
       "    <tr>\n",
       "      <th>2</th>\n",
       "      <td>LMS Finswell Woods</td>\n",
       "      <td>Nagar</td>\n",
       "      <td>2</td>\n",
       "      <td>72.5</td>\n",
       "      <td>47</td>\n",
       "      <td>98.500</td>\n",
       "    </tr>\n",
       "    <tr>\n",
       "      <th>3</th>\n",
       "      <td>Mangal Shanti Mansha Phase 2</td>\n",
       "      <td>Wagholi</td>\n",
       "      <td>2</td>\n",
       "      <td>62.0</td>\n",
       "      <td>13</td>\n",
       "      <td>47.140</td>\n",
       "    </tr>\n",
       "    <tr>\n",
       "      <th>4</th>\n",
       "      <td>Solitere Emerald Tower</td>\n",
       "      <td>Budruk</td>\n",
       "      <td>2</td>\n",
       "      <td>72.0</td>\n",
       "      <td>50</td>\n",
       "      <td>67.825</td>\n",
       "    </tr>\n",
       "    <tr>\n",
       "      <th>5</th>\n",
       "      <td>Kuber Antonia</td>\n",
       "      <td>Wakad</td>\n",
       "      <td>2</td>\n",
       "      <td>68.0</td>\n",
       "      <td>48</td>\n",
       "      <td>66.570</td>\n",
       "    </tr>\n",
       "  </tbody>\n",
       "</table>\n",
       "</div>"
      ],
      "text/plain": [
       "                       Building Location  tflat  CArea in Sq.m.  Connectivity  \\\n",
       "0              Miravet District    Ravet      2            79.5            15   \n",
       "2            LMS Finswell Woods    Nagar      2            72.5            47   \n",
       "3  Mangal Shanti Mansha Phase 2  Wagholi      2            62.0            13   \n",
       "4        Solitere Emerald Tower   Budruk      2            72.0            50   \n",
       "5                 Kuber Antonia    Wakad      2            68.0            48   \n",
       "\n",
       "    Value  \n",
       "0  67.740  \n",
       "2  98.500  \n",
       "3  47.140  \n",
       "4  67.825  \n",
       "5  66.570  "
      ]
     },
     "execution_count": 49,
     "metadata": {},
     "output_type": "execute_result"
    }
   ],
   "source": [
    "df.head()"
   ]
  },
  {
   "cell_type": "markdown",
   "id": "e92f46e0",
   "metadata": {},
   "source": [
    "#### OneHotEncoder using get_dummy = in df"
   ]
  },
  {
   "cell_type": "code",
   "execution_count": 52,
   "id": "9b6843dc",
   "metadata": {},
   "outputs": [],
   "source": [
    "final_df= pd.get_dummies(data=df,columns=['Location','Building'])"
   ]
  },
  {
   "cell_type": "code",
   "execution_count": 53,
   "id": "2c4fb16d",
   "metadata": {},
   "outputs": [
    {
     "data": {
      "text/html": [
       "<div>\n",
       "<style scoped>\n",
       "    .dataframe tbody tr th:only-of-type {\n",
       "        vertical-align: middle;\n",
       "    }\n",
       "\n",
       "    .dataframe tbody tr th {\n",
       "        vertical-align: top;\n",
       "    }\n",
       "\n",
       "    .dataframe thead th {\n",
       "        text-align: right;\n",
       "    }\n",
       "</style>\n",
       "<table border=\"1\" class=\"dataframe\">\n",
       "  <thead>\n",
       "    <tr style=\"text-align: right;\">\n",
       "      <th></th>\n",
       "      <th>tflat</th>\n",
       "      <th>CArea in Sq.m.</th>\n",
       "      <th>Connectivity</th>\n",
       "      <th>Value</th>\n",
       "      <th>Location_Baner</th>\n",
       "      <th>Location_Bhosari</th>\n",
       "      <th>Location_Budruk</th>\n",
       "      <th>Location_Charholi</th>\n",
       "      <th>Location_Chinchwad</th>\n",
       "      <th>Location_Dhanori</th>\n",
       "      <th>...</th>\n",
       "      <th>Building_Samarth Mrudula Residency</th>\n",
       "      <th>Building_Shapoorji Joyville Hadapsar Annexe4.4 ★</th>\n",
       "      <th>Building_Shapoorji Joyville Sensorium</th>\n",
       "      <th>Building_Solitere Emerald Tower</th>\n",
       "      <th>Building_Tathawade Mhada</th>\n",
       "      <th>Building_Tirupati Nakshatra</th>\n",
       "      <th>Building_Townscape Sneh Mithila</th>\n",
       "      <th>Building_Unika</th>\n",
       "      <th>Building_Vansh Viva</th>\n",
       "      <th>Building_iLife Upper NIBM</th>\n",
       "    </tr>\n",
       "  </thead>\n",
       "  <tbody>\n",
       "    <tr>\n",
       "      <th>0</th>\n",
       "      <td>2</td>\n",
       "      <td>79.5</td>\n",
       "      <td>15</td>\n",
       "      <td>67.740</td>\n",
       "      <td>0</td>\n",
       "      <td>0</td>\n",
       "      <td>0</td>\n",
       "      <td>0</td>\n",
       "      <td>0</td>\n",
       "      <td>0</td>\n",
       "      <td>...</td>\n",
       "      <td>0</td>\n",
       "      <td>0</td>\n",
       "      <td>0</td>\n",
       "      <td>0</td>\n",
       "      <td>0</td>\n",
       "      <td>0</td>\n",
       "      <td>0</td>\n",
       "      <td>0</td>\n",
       "      <td>0</td>\n",
       "      <td>0</td>\n",
       "    </tr>\n",
       "    <tr>\n",
       "      <th>2</th>\n",
       "      <td>2</td>\n",
       "      <td>72.5</td>\n",
       "      <td>47</td>\n",
       "      <td>98.500</td>\n",
       "      <td>0</td>\n",
       "      <td>0</td>\n",
       "      <td>0</td>\n",
       "      <td>0</td>\n",
       "      <td>0</td>\n",
       "      <td>0</td>\n",
       "      <td>...</td>\n",
       "      <td>0</td>\n",
       "      <td>0</td>\n",
       "      <td>0</td>\n",
       "      <td>0</td>\n",
       "      <td>0</td>\n",
       "      <td>0</td>\n",
       "      <td>0</td>\n",
       "      <td>0</td>\n",
       "      <td>0</td>\n",
       "      <td>0</td>\n",
       "    </tr>\n",
       "    <tr>\n",
       "      <th>3</th>\n",
       "      <td>2</td>\n",
       "      <td>62.0</td>\n",
       "      <td>13</td>\n",
       "      <td>47.140</td>\n",
       "      <td>0</td>\n",
       "      <td>0</td>\n",
       "      <td>0</td>\n",
       "      <td>0</td>\n",
       "      <td>0</td>\n",
       "      <td>0</td>\n",
       "      <td>...</td>\n",
       "      <td>0</td>\n",
       "      <td>0</td>\n",
       "      <td>0</td>\n",
       "      <td>0</td>\n",
       "      <td>0</td>\n",
       "      <td>0</td>\n",
       "      <td>0</td>\n",
       "      <td>0</td>\n",
       "      <td>0</td>\n",
       "      <td>0</td>\n",
       "    </tr>\n",
       "    <tr>\n",
       "      <th>4</th>\n",
       "      <td>2</td>\n",
       "      <td>72.0</td>\n",
       "      <td>50</td>\n",
       "      <td>67.825</td>\n",
       "      <td>0</td>\n",
       "      <td>0</td>\n",
       "      <td>1</td>\n",
       "      <td>0</td>\n",
       "      <td>0</td>\n",
       "      <td>0</td>\n",
       "      <td>...</td>\n",
       "      <td>0</td>\n",
       "      <td>0</td>\n",
       "      <td>0</td>\n",
       "      <td>1</td>\n",
       "      <td>0</td>\n",
       "      <td>0</td>\n",
       "      <td>0</td>\n",
       "      <td>0</td>\n",
       "      <td>0</td>\n",
       "      <td>0</td>\n",
       "    </tr>\n",
       "    <tr>\n",
       "      <th>5</th>\n",
       "      <td>2</td>\n",
       "      <td>68.0</td>\n",
       "      <td>48</td>\n",
       "      <td>66.570</td>\n",
       "      <td>0</td>\n",
       "      <td>0</td>\n",
       "      <td>0</td>\n",
       "      <td>0</td>\n",
       "      <td>0</td>\n",
       "      <td>0</td>\n",
       "      <td>...</td>\n",
       "      <td>0</td>\n",
       "      <td>0</td>\n",
       "      <td>0</td>\n",
       "      <td>0</td>\n",
       "      <td>0</td>\n",
       "      <td>0</td>\n",
       "      <td>0</td>\n",
       "      <td>0</td>\n",
       "      <td>0</td>\n",
       "      <td>0</td>\n",
       "    </tr>\n",
       "  </tbody>\n",
       "</table>\n",
       "<p>5 rows × 74 columns</p>\n",
       "</div>"
      ],
      "text/plain": [
       "   tflat  CArea in Sq.m.  Connectivity   Value  Location_Baner  \\\n",
       "0      2            79.5            15  67.740               0   \n",
       "2      2            72.5            47  98.500               0   \n",
       "3      2            62.0            13  47.140               0   \n",
       "4      2            72.0            50  67.825               0   \n",
       "5      2            68.0            48  66.570               0   \n",
       "\n",
       "   Location_Bhosari  Location_Budruk  Location_Charholi  Location_Chinchwad  \\\n",
       "0                 0                0                  0                   0   \n",
       "2                 0                0                  0                   0   \n",
       "3                 0                0                  0                   0   \n",
       "4                 0                1                  0                   0   \n",
       "5                 0                0                  0                   0   \n",
       "\n",
       "   Location_Dhanori  ...  Building_Samarth Mrudula Residency  \\\n",
       "0                 0  ...                                   0   \n",
       "2                 0  ...                                   0   \n",
       "3                 0  ...                                   0   \n",
       "4                 0  ...                                   0   \n",
       "5                 0  ...                                   0   \n",
       "\n",
       "   Building_Shapoorji Joyville Hadapsar Annexe4.4 ★  \\\n",
       "0                                                 0   \n",
       "2                                                 0   \n",
       "3                                                 0   \n",
       "4                                                 0   \n",
       "5                                                 0   \n",
       "\n",
       "   Building_Shapoorji Joyville Sensorium  Building_Solitere Emerald Tower  \\\n",
       "0                                      0                                0   \n",
       "2                                      0                                0   \n",
       "3                                      0                                0   \n",
       "4                                      0                                1   \n",
       "5                                      0                                0   \n",
       "\n",
       "   Building_Tathawade Mhada  Building_Tirupati Nakshatra  \\\n",
       "0                         0                            0   \n",
       "2                         0                            0   \n",
       "3                         0                            0   \n",
       "4                         0                            0   \n",
       "5                         0                            0   \n",
       "\n",
       "   Building_Townscape Sneh Mithila  Building_Unika  Building_Vansh Viva  \\\n",
       "0                                0               0                    0   \n",
       "2                                0               0                    0   \n",
       "3                                0               0                    0   \n",
       "4                                0               0                    0   \n",
       "5                                0               0                    0   \n",
       "\n",
       "   Building_iLife Upper NIBM  \n",
       "0                          0  \n",
       "2                          0  \n",
       "3                          0  \n",
       "4                          0  \n",
       "5                          0  \n",
       "\n",
       "[5 rows x 74 columns]"
      ]
     },
     "execution_count": 53,
     "metadata": {},
     "output_type": "execute_result"
    }
   ],
   "source": [
    "final_df.head()"
   ]
  },
  {
   "cell_type": "markdown",
   "id": "e22c16d8",
   "metadata": {},
   "source": [
    "#### train test split"
   ]
  },
  {
   "cell_type": "code",
   "execution_count": 54,
   "id": "8859cc2f",
   "metadata": {},
   "outputs": [],
   "source": [
    "from sklearn.model_selection import train_test_split"
   ]
  },
  {
   "cell_type": "code",
   "execution_count": 55,
   "id": "7c3b0ffb",
   "metadata": {},
   "outputs": [],
   "source": [
    "X=final_df.drop(columns=['Value'])\n",
    "Y =final_df['Value']\n",
    "xtrain, xtest, ytrain, ytest = train_test_split(X,Y,test_size=0.3,random_state=1)"
   ]
  },
  {
   "cell_type": "markdown",
   "id": "86302db4",
   "metadata": {},
   "source": [
    "### LinearRegression"
   ]
  },
  {
   "cell_type": "code",
   "execution_count": 56,
   "id": "30fb056e",
   "metadata": {},
   "outputs": [
    {
     "data": {
      "text/plain": [
       "LinearRegression()"
      ]
     },
     "execution_count": 56,
     "metadata": {},
     "output_type": "execute_result"
    }
   ],
   "source": [
    "from sklearn.linear_model import LinearRegression\n",
    "from sklearn.metrics import r2_score, mean_absolute_error\n",
    "\n",
    "clf=LinearRegression()\n",
    "clf.fit(xtrain,ytrain)"
   ]
  },
  {
   "cell_type": "code",
   "execution_count": 57,
   "id": "20ecc1d9",
   "metadata": {},
   "outputs": [
    {
     "name": "stdout",
     "output_type": "stream",
     "text": [
      "r2_score =  0.6632372553009738\n",
      "mean_absolute_error =  8.108536175184014\n"
     ]
    }
   ],
   "source": [
    "ypred=clf.predict(xtest)\n",
    "print('r2_score = ',r2_score(ytest,ypred))\n",
    "print('mean_absolute_error = ',mean_absolute_error(ytest,ypred))"
   ]
  },
  {
   "cell_type": "code",
   "execution_count": 58,
   "id": "679fb680",
   "metadata": {},
   "outputs": [],
   "source": [
    "xtrain['lr_value'] = clf.predict(xtrain)\n",
    "xtest['lr_value']= ypred"
   ]
  },
  {
   "cell_type": "code",
   "execution_count": 59,
   "id": "70b7ed95",
   "metadata": {},
   "outputs": [],
   "source": [
    "lr_df=xtrain.append(xtest)['lr_value']"
   ]
  },
  {
   "cell_type": "code",
   "execution_count": 60,
   "id": "f5071d6e",
   "metadata": {},
   "outputs": [
    {
     "data": {
      "text/plain": [
       "(806,)"
      ]
     },
     "execution_count": 60,
     "metadata": {},
     "output_type": "execute_result"
    }
   ],
   "source": [
    "lr_df.shape"
   ]
  },
  {
   "cell_type": "markdown",
   "id": "761cf88e",
   "metadata": {},
   "source": [
    "#### logistic Regression Prediction for every Value"
   ]
  },
  {
   "cell_type": "code",
   "execution_count": 61,
   "id": "c50aabd2",
   "metadata": {},
   "outputs": [],
   "source": [
    "new_df=df.join(lr_df,on=df.index,how='left')"
   ]
  },
  {
   "cell_type": "code",
   "execution_count": 62,
   "id": "08fc109f",
   "metadata": {},
   "outputs": [
    {
     "data": {
      "text/html": [
       "<div>\n",
       "<style scoped>\n",
       "    .dataframe tbody tr th:only-of-type {\n",
       "        vertical-align: middle;\n",
       "    }\n",
       "\n",
       "    .dataframe tbody tr th {\n",
       "        vertical-align: top;\n",
       "    }\n",
       "\n",
       "    .dataframe thead th {\n",
       "        text-align: right;\n",
       "    }\n",
       "</style>\n",
       "<table border=\"1\" class=\"dataframe\">\n",
       "  <thead>\n",
       "    <tr style=\"text-align: right;\">\n",
       "      <th></th>\n",
       "      <th>Building</th>\n",
       "      <th>Location</th>\n",
       "      <th>tflat</th>\n",
       "      <th>CArea in Sq.m.</th>\n",
       "      <th>Connectivity</th>\n",
       "      <th>Value</th>\n",
       "      <th>lr_value</th>\n",
       "    </tr>\n",
       "  </thead>\n",
       "  <tbody>\n",
       "    <tr>\n",
       "      <th>0</th>\n",
       "      <td>Miravet District</td>\n",
       "      <td>Ravet</td>\n",
       "      <td>2</td>\n",
       "      <td>79.5</td>\n",
       "      <td>15</td>\n",
       "      <td>67.740</td>\n",
       "      <td>67.739609</td>\n",
       "    </tr>\n",
       "    <tr>\n",
       "      <th>2</th>\n",
       "      <td>LMS Finswell Woods</td>\n",
       "      <td>Nagar</td>\n",
       "      <td>2</td>\n",
       "      <td>72.5</td>\n",
       "      <td>47</td>\n",
       "      <td>98.500</td>\n",
       "      <td>98.499329</td>\n",
       "    </tr>\n",
       "    <tr>\n",
       "      <th>3</th>\n",
       "      <td>Mangal Shanti Mansha Phase 2</td>\n",
       "      <td>Wagholi</td>\n",
       "      <td>2</td>\n",
       "      <td>62.0</td>\n",
       "      <td>13</td>\n",
       "      <td>47.140</td>\n",
       "      <td>47.139847</td>\n",
       "    </tr>\n",
       "    <tr>\n",
       "      <th>4</th>\n",
       "      <td>Solitere Emerald Tower</td>\n",
       "      <td>Budruk</td>\n",
       "      <td>2</td>\n",
       "      <td>72.0</td>\n",
       "      <td>50</td>\n",
       "      <td>67.825</td>\n",
       "      <td>67.824661</td>\n",
       "    </tr>\n",
       "    <tr>\n",
       "      <th>5</th>\n",
       "      <td>Kuber Antonia</td>\n",
       "      <td>Wakad</td>\n",
       "      <td>2</td>\n",
       "      <td>68.0</td>\n",
       "      <td>48</td>\n",
       "      <td>66.570</td>\n",
       "      <td>66.569687</td>\n",
       "    </tr>\n",
       "  </tbody>\n",
       "</table>\n",
       "</div>"
      ],
      "text/plain": [
       "                       Building Location  tflat  CArea in Sq.m.  Connectivity  \\\n",
       "0              Miravet District    Ravet      2            79.5            15   \n",
       "2            LMS Finswell Woods    Nagar      2            72.5            47   \n",
       "3  Mangal Shanti Mansha Phase 2  Wagholi      2            62.0            13   \n",
       "4        Solitere Emerald Tower   Budruk      2            72.0            50   \n",
       "5                 Kuber Antonia    Wakad      2            68.0            48   \n",
       "\n",
       "    Value   lr_value  \n",
       "0  67.740  67.739609  \n",
       "2  98.500  98.499329  \n",
       "3  47.140  47.139847  \n",
       "4  67.825  67.824661  \n",
       "5  66.570  66.569687  "
      ]
     },
     "execution_count": 62,
     "metadata": {},
     "output_type": "execute_result"
    }
   ],
   "source": [
    "new_df.head()"
   ]
  },
  {
   "cell_type": "code",
   "execution_count": 63,
   "id": "8afa2cb0",
   "metadata": {},
   "outputs": [
    {
     "data": {
      "text/plain": [
       "(806, 7)"
      ]
     },
     "execution_count": 63,
     "metadata": {},
     "output_type": "execute_result"
    }
   ],
   "source": [
    "new_df.shape"
   ]
  },
  {
   "cell_type": "markdown",
   "id": "54363224",
   "metadata": {},
   "source": [
    "### DecisionTreeRegressor"
   ]
  },
  {
   "cell_type": "code",
   "execution_count": 64,
   "id": "a48ec887",
   "metadata": {},
   "outputs": [],
   "source": [
    "xtrain, xtest, ytrain, ytest = train_test_split(X,Y,test_size=0.3,random_state=1)"
   ]
  },
  {
   "cell_type": "code",
   "execution_count": 65,
   "id": "da7ffb40",
   "metadata": {},
   "outputs": [
    {
     "data": {
      "text/plain": [
       "DecisionTreeRegressor()"
      ]
     },
     "execution_count": 65,
     "metadata": {},
     "output_type": "execute_result"
    }
   ],
   "source": [
    "from sklearn.tree import DecisionTreeRegressor\n",
    "clf=DecisionTreeRegressor()\n",
    "clf.fit(xtrain,ytrain)"
   ]
  },
  {
   "cell_type": "code",
   "execution_count": 66,
   "id": "07fe90de",
   "metadata": {},
   "outputs": [],
   "source": [
    "ypred=clf.predict(xtest)\n",
    "# ypred"
   ]
  },
  {
   "cell_type": "code",
   "execution_count": 67,
   "id": "12687e88",
   "metadata": {},
   "outputs": [
    {
     "name": "stdout",
     "output_type": "stream",
     "text": [
      "r2_score =  1.0\n",
      "mean_absolute_error =  2.7305981167640214e-15\n"
     ]
    }
   ],
   "source": [
    "print('r2_score = ',r2_score(ytest,ypred))\n",
    "print('mean_absolute_error = ',mean_absolute_error(ytest,ypred))"
   ]
  },
  {
   "cell_type": "code",
   "execution_count": 68,
   "id": "836ee803",
   "metadata": {},
   "outputs": [],
   "source": [
    "xtrain['dt_value'] = clf.predict(xtrain)\n",
    "xtest['dt_value']= ypred"
   ]
  },
  {
   "cell_type": "code",
   "execution_count": 69,
   "id": "263c0769",
   "metadata": {},
   "outputs": [],
   "source": [
    "dt_df=xtrain.append(xtest)['dt_value']"
   ]
  },
  {
   "cell_type": "markdown",
   "id": "9a423319",
   "metadata": {},
   "source": [
    "#### DecisionTreeRegressor Prediction for every Value"
   ]
  },
  {
   "cell_type": "code",
   "execution_count": 70,
   "id": "39c54792",
   "metadata": {},
   "outputs": [],
   "source": [
    "new_df = new_df.join(dt_df,on=new_df.index,how='left')"
   ]
  },
  {
   "cell_type": "code",
   "execution_count": 71,
   "id": "005d3159",
   "metadata": {},
   "outputs": [
    {
     "data": {
      "text/html": [
       "<div>\n",
       "<style scoped>\n",
       "    .dataframe tbody tr th:only-of-type {\n",
       "        vertical-align: middle;\n",
       "    }\n",
       "\n",
       "    .dataframe tbody tr th {\n",
       "        vertical-align: top;\n",
       "    }\n",
       "\n",
       "    .dataframe thead th {\n",
       "        text-align: right;\n",
       "    }\n",
       "</style>\n",
       "<table border=\"1\" class=\"dataframe\">\n",
       "  <thead>\n",
       "    <tr style=\"text-align: right;\">\n",
       "      <th></th>\n",
       "      <th>Building</th>\n",
       "      <th>Location</th>\n",
       "      <th>tflat</th>\n",
       "      <th>CArea in Sq.m.</th>\n",
       "      <th>Connectivity</th>\n",
       "      <th>Value</th>\n",
       "      <th>lr_value</th>\n",
       "      <th>dt_value</th>\n",
       "    </tr>\n",
       "  </thead>\n",
       "  <tbody>\n",
       "    <tr>\n",
       "      <th>0</th>\n",
       "      <td>Miravet District</td>\n",
       "      <td>Ravet</td>\n",
       "      <td>2</td>\n",
       "      <td>79.5</td>\n",
       "      <td>15</td>\n",
       "      <td>67.740</td>\n",
       "      <td>67.739609</td>\n",
       "      <td>67.740</td>\n",
       "    </tr>\n",
       "    <tr>\n",
       "      <th>2</th>\n",
       "      <td>LMS Finswell Woods</td>\n",
       "      <td>Nagar</td>\n",
       "      <td>2</td>\n",
       "      <td>72.5</td>\n",
       "      <td>47</td>\n",
       "      <td>98.500</td>\n",
       "      <td>98.499329</td>\n",
       "      <td>98.500</td>\n",
       "    </tr>\n",
       "    <tr>\n",
       "      <th>3</th>\n",
       "      <td>Mangal Shanti Mansha Phase 2</td>\n",
       "      <td>Wagholi</td>\n",
       "      <td>2</td>\n",
       "      <td>62.0</td>\n",
       "      <td>13</td>\n",
       "      <td>47.140</td>\n",
       "      <td>47.139847</td>\n",
       "      <td>47.140</td>\n",
       "    </tr>\n",
       "    <tr>\n",
       "      <th>4</th>\n",
       "      <td>Solitere Emerald Tower</td>\n",
       "      <td>Budruk</td>\n",
       "      <td>2</td>\n",
       "      <td>72.0</td>\n",
       "      <td>50</td>\n",
       "      <td>67.825</td>\n",
       "      <td>67.824661</td>\n",
       "      <td>67.825</td>\n",
       "    </tr>\n",
       "    <tr>\n",
       "      <th>5</th>\n",
       "      <td>Kuber Antonia</td>\n",
       "      <td>Wakad</td>\n",
       "      <td>2</td>\n",
       "      <td>68.0</td>\n",
       "      <td>48</td>\n",
       "      <td>66.570</td>\n",
       "      <td>66.569687</td>\n",
       "      <td>66.570</td>\n",
       "    </tr>\n",
       "  </tbody>\n",
       "</table>\n",
       "</div>"
      ],
      "text/plain": [
       "                       Building Location  tflat  CArea in Sq.m.  Connectivity  \\\n",
       "0              Miravet District    Ravet      2            79.5            15   \n",
       "2            LMS Finswell Woods    Nagar      2            72.5            47   \n",
       "3  Mangal Shanti Mansha Phase 2  Wagholi      2            62.0            13   \n",
       "4        Solitere Emerald Tower   Budruk      2            72.0            50   \n",
       "5                 Kuber Antonia    Wakad      2            68.0            48   \n",
       "\n",
       "    Value   lr_value  dt_value  \n",
       "0  67.740  67.739609    67.740  \n",
       "2  98.500  98.499329    98.500  \n",
       "3  47.140  47.139847    47.140  \n",
       "4  67.825  67.824661    67.825  \n",
       "5  66.570  66.569687    66.570  "
      ]
     },
     "execution_count": 71,
     "metadata": {},
     "output_type": "execute_result"
    }
   ],
   "source": [
    "new_df.head()"
   ]
  },
  {
   "cell_type": "markdown",
   "id": "1b559a60",
   "metadata": {},
   "source": [
    "### RandomForestRegressor"
   ]
  },
  {
   "cell_type": "code",
   "execution_count": 72,
   "id": "7ea16c49",
   "metadata": {},
   "outputs": [],
   "source": [
    "xtrain, xtest, ytrain, ytest = train_test_split(X,Y,test_size=0.3,random_state=1)"
   ]
  },
  {
   "cell_type": "code",
   "execution_count": 73,
   "id": "ad27764e",
   "metadata": {},
   "outputs": [
    {
     "data": {
      "text/plain": [
       "RandomForestRegressor()"
      ]
     },
     "execution_count": 73,
     "metadata": {},
     "output_type": "execute_result"
    }
   ],
   "source": [
    "from sklearn.ensemble import RandomForestRegressor\n",
    "clf = RandomForestRegressor()\n",
    "clf.fit(xtrain,ytrain)"
   ]
  },
  {
   "cell_type": "code",
   "execution_count": 74,
   "id": "a5058e39",
   "metadata": {},
   "outputs": [
    {
     "name": "stdout",
     "output_type": "stream",
     "text": [
      "r2_score =  0.999235747976347\n",
      "mean_absolute_error =  0.21528842975210902\n"
     ]
    }
   ],
   "source": [
    "ypred = clf.predict(xtest)\n",
    "print('r2_score = ',r2_score(ytest,ypred))\n",
    "print('mean_absolute_error = ',mean_absolute_error(ytest,ypred))"
   ]
  },
  {
   "cell_type": "code",
   "execution_count": 75,
   "id": "449960c1",
   "metadata": {},
   "outputs": [],
   "source": [
    "xtrain['rf_value'] = clf.predict(xtrain)\n",
    "xtest['rf_value']= ypred\n",
    "\n",
    "rf_df=xtrain.append(xtest)['rf_value']\n",
    "\n",
    "# RandomForestRegressor Prediction for every Value\n",
    "\n",
    "new_df = new_df.join(rf_df,on=new_df.index,how='left')"
   ]
  },
  {
   "cell_type": "code",
   "execution_count": 76,
   "id": "bcf3874c",
   "metadata": {},
   "outputs": [
    {
     "data": {
      "text/html": [
       "<div>\n",
       "<style scoped>\n",
       "    .dataframe tbody tr th:only-of-type {\n",
       "        vertical-align: middle;\n",
       "    }\n",
       "\n",
       "    .dataframe tbody tr th {\n",
       "        vertical-align: top;\n",
       "    }\n",
       "\n",
       "    .dataframe thead th {\n",
       "        text-align: right;\n",
       "    }\n",
       "</style>\n",
       "<table border=\"1\" class=\"dataframe\">\n",
       "  <thead>\n",
       "    <tr style=\"text-align: right;\">\n",
       "      <th></th>\n",
       "      <th>Building</th>\n",
       "      <th>Location</th>\n",
       "      <th>tflat</th>\n",
       "      <th>CArea in Sq.m.</th>\n",
       "      <th>Connectivity</th>\n",
       "      <th>Value</th>\n",
       "      <th>lr_value</th>\n",
       "      <th>dt_value</th>\n",
       "      <th>rf_value</th>\n",
       "    </tr>\n",
       "  </thead>\n",
       "  <tbody>\n",
       "    <tr>\n",
       "      <th>0</th>\n",
       "      <td>Miravet District</td>\n",
       "      <td>Ravet</td>\n",
       "      <td>2</td>\n",
       "      <td>79.5</td>\n",
       "      <td>15</td>\n",
       "      <td>67.740</td>\n",
       "      <td>67.739609</td>\n",
       "      <td>67.740</td>\n",
       "      <td>67.740</td>\n",
       "    </tr>\n",
       "    <tr>\n",
       "      <th>2</th>\n",
       "      <td>LMS Finswell Woods</td>\n",
       "      <td>Nagar</td>\n",
       "      <td>2</td>\n",
       "      <td>72.5</td>\n",
       "      <td>47</td>\n",
       "      <td>98.500</td>\n",
       "      <td>98.499329</td>\n",
       "      <td>98.500</td>\n",
       "      <td>98.500</td>\n",
       "    </tr>\n",
       "    <tr>\n",
       "      <th>3</th>\n",
       "      <td>Mangal Shanti Mansha Phase 2</td>\n",
       "      <td>Wagholi</td>\n",
       "      <td>2</td>\n",
       "      <td>62.0</td>\n",
       "      <td>13</td>\n",
       "      <td>47.140</td>\n",
       "      <td>47.139847</td>\n",
       "      <td>47.140</td>\n",
       "      <td>47.140</td>\n",
       "    </tr>\n",
       "    <tr>\n",
       "      <th>4</th>\n",
       "      <td>Solitere Emerald Tower</td>\n",
       "      <td>Budruk</td>\n",
       "      <td>2</td>\n",
       "      <td>72.0</td>\n",
       "      <td>50</td>\n",
       "      <td>67.825</td>\n",
       "      <td>67.824661</td>\n",
       "      <td>67.825</td>\n",
       "      <td>67.825</td>\n",
       "    </tr>\n",
       "    <tr>\n",
       "      <th>5</th>\n",
       "      <td>Kuber Antonia</td>\n",
       "      <td>Wakad</td>\n",
       "      <td>2</td>\n",
       "      <td>68.0</td>\n",
       "      <td>48</td>\n",
       "      <td>66.570</td>\n",
       "      <td>66.569687</td>\n",
       "      <td>66.570</td>\n",
       "      <td>66.570</td>\n",
       "    </tr>\n",
       "  </tbody>\n",
       "</table>\n",
       "</div>"
      ],
      "text/plain": [
       "                       Building Location  tflat  CArea in Sq.m.  Connectivity  \\\n",
       "0              Miravet District    Ravet      2            79.5            15   \n",
       "2            LMS Finswell Woods    Nagar      2            72.5            47   \n",
       "3  Mangal Shanti Mansha Phase 2  Wagholi      2            62.0            13   \n",
       "4        Solitere Emerald Tower   Budruk      2            72.0            50   \n",
       "5                 Kuber Antonia    Wakad      2            68.0            48   \n",
       "\n",
       "    Value   lr_value  dt_value  rf_value  \n",
       "0  67.740  67.739609    67.740    67.740  \n",
       "2  98.500  98.499329    98.500    98.500  \n",
       "3  47.140  47.139847    47.140    47.140  \n",
       "4  67.825  67.824661    67.825    67.825  \n",
       "5  66.570  66.569687    66.570    66.570  "
      ]
     },
     "execution_count": 76,
     "metadata": {},
     "output_type": "execute_result"
    }
   ],
   "source": [
    "new_df.head()"
   ]
  },
  {
   "cell_type": "code",
   "execution_count": 77,
   "id": "73eb0beb",
   "metadata": {},
   "outputs": [],
   "source": [
    "new_df.reset_index(inplace=True,drop=True)"
   ]
  },
  {
   "cell_type": "code",
   "execution_count": 78,
   "id": "3ff28e69",
   "metadata": {},
   "outputs": [],
   "source": [
    "new_df.to_csv('PropertyValueML.csv')"
   ]
  },
  {
   "cell_type": "code",
   "execution_count": null,
   "id": "99a0909c",
   "metadata": {},
   "outputs": [],
   "source": []
  },
  {
   "cell_type": "code",
   "execution_count": null,
   "id": "00455571",
   "metadata": {},
   "outputs": [],
   "source": []
  },
  {
   "cell_type": "code",
   "execution_count": null,
   "id": "6802ba15",
   "metadata": {},
   "outputs": [],
   "source": []
  },
  {
   "cell_type": "markdown",
   "id": "da1212bc",
   "metadata": {},
   "source": [
    "##### PIPELINE"
   ]
  },
  {
   "cell_type": "code",
   "execution_count": 66,
   "id": "a8b0bda9",
   "metadata": {},
   "outputs": [],
   "source": [
    "from sklearn.pipeline import Pipeline, make_pipeline\n",
    "from sklearn.feature_selection import SelectKBest,chi2\n",
    "from sklearn.compose import ColumnTransformer\n",
    "from sklearn.preprocessing import OneHotEncoder,PowerTransformer, MinMaxScaler\n",
    "from sklearn.tree import DecisionTreeClassifier\n",
    "from sklearn.model_selection import train_test_split"
   ]
  },
  {
   "cell_type": "code",
   "execution_count": 67,
   "id": "7d9c26c0",
   "metadata": {},
   "outputs": [],
   "source": [
    "X = final_df.drop(columns=['Value'])\n",
    "Y = final_df['Value']"
   ]
  },
  {
   "cell_type": "code",
   "execution_count": 68,
   "id": "1a7049e5",
   "metadata": {},
   "outputs": [
    {
     "data": {
      "text/html": [
       "<div>\n",
       "<style scoped>\n",
       "    .dataframe tbody tr th:only-of-type {\n",
       "        vertical-align: middle;\n",
       "    }\n",
       "\n",
       "    .dataframe tbody tr th {\n",
       "        vertical-align: top;\n",
       "    }\n",
       "\n",
       "    .dataframe thead th {\n",
       "        text-align: right;\n",
       "    }\n",
       "</style>\n",
       "<table border=\"1\" class=\"dataframe\">\n",
       "  <thead>\n",
       "    <tr style=\"text-align: right;\">\n",
       "      <th></th>\n",
       "      <th>tflat</th>\n",
       "      <th>CArea in Sq.m.</th>\n",
       "      <th>Location_Baner</th>\n",
       "      <th>Location_Bhosari</th>\n",
       "      <th>Location_Bhukum</th>\n",
       "      <th>Location_Budruk</th>\n",
       "      <th>Location_Charholi</th>\n",
       "      <th>Location_Chinchwad</th>\n",
       "      <th>Location_Chowk</th>\n",
       "      <th>Location_Dhanori</th>\n",
       "      <th>...</th>\n",
       "      <th>Buiding_Shapoorji Joyville Sensorium</th>\n",
       "      <th>Buiding_Shivam 19 Grand West</th>\n",
       "      <th>Buiding_Shree Enterprises Sparsh</th>\n",
       "      <th>Buiding_Tathawade Mhada</th>\n",
       "      <th>Buiding_Townscape Sneh Mithila</th>\n",
       "      <th>Buiding_Unika</th>\n",
       "      <th>Buiding_VTP Euphoria</th>\n",
       "      <th>Buiding_Vansh Viva</th>\n",
       "      <th>Buiding_Waghere Subhadra Heights</th>\n",
       "      <th>Buiding_iLife Upper NIBM</th>\n",
       "    </tr>\n",
       "  </thead>\n",
       "  <tbody>\n",
       "    <tr>\n",
       "      <th>0</th>\n",
       "      <td>2</td>\n",
       "      <td>79.5</td>\n",
       "      <td>0</td>\n",
       "      <td>0</td>\n",
       "      <td>0</td>\n",
       "      <td>0</td>\n",
       "      <td>0</td>\n",
       "      <td>0</td>\n",
       "      <td>0</td>\n",
       "      <td>0</td>\n",
       "      <td>...</td>\n",
       "      <td>0</td>\n",
       "      <td>0</td>\n",
       "      <td>0</td>\n",
       "      <td>0</td>\n",
       "      <td>0</td>\n",
       "      <td>0</td>\n",
       "      <td>0</td>\n",
       "      <td>0</td>\n",
       "      <td>0</td>\n",
       "      <td>0</td>\n",
       "    </tr>\n",
       "    <tr>\n",
       "      <th>1</th>\n",
       "      <td>2</td>\n",
       "      <td>72.5</td>\n",
       "      <td>0</td>\n",
       "      <td>0</td>\n",
       "      <td>0</td>\n",
       "      <td>0</td>\n",
       "      <td>0</td>\n",
       "      <td>0</td>\n",
       "      <td>0</td>\n",
       "      <td>0</td>\n",
       "      <td>...</td>\n",
       "      <td>0</td>\n",
       "      <td>0</td>\n",
       "      <td>0</td>\n",
       "      <td>0</td>\n",
       "      <td>0</td>\n",
       "      <td>0</td>\n",
       "      <td>0</td>\n",
       "      <td>0</td>\n",
       "      <td>0</td>\n",
       "      <td>0</td>\n",
       "    </tr>\n",
       "    <tr>\n",
       "      <th>2</th>\n",
       "      <td>2</td>\n",
       "      <td>62.0</td>\n",
       "      <td>0</td>\n",
       "      <td>0</td>\n",
       "      <td>0</td>\n",
       "      <td>0</td>\n",
       "      <td>0</td>\n",
       "      <td>0</td>\n",
       "      <td>0</td>\n",
       "      <td>0</td>\n",
       "      <td>...</td>\n",
       "      <td>0</td>\n",
       "      <td>0</td>\n",
       "      <td>0</td>\n",
       "      <td>0</td>\n",
       "      <td>0</td>\n",
       "      <td>0</td>\n",
       "      <td>0</td>\n",
       "      <td>0</td>\n",
       "      <td>0</td>\n",
       "      <td>0</td>\n",
       "    </tr>\n",
       "    <tr>\n",
       "      <th>3</th>\n",
       "      <td>2</td>\n",
       "      <td>60.0</td>\n",
       "      <td>0</td>\n",
       "      <td>0</td>\n",
       "      <td>0</td>\n",
       "      <td>0</td>\n",
       "      <td>0</td>\n",
       "      <td>0</td>\n",
       "      <td>0</td>\n",
       "      <td>0</td>\n",
       "      <td>...</td>\n",
       "      <td>0</td>\n",
       "      <td>0</td>\n",
       "      <td>0</td>\n",
       "      <td>0</td>\n",
       "      <td>0</td>\n",
       "      <td>0</td>\n",
       "      <td>0</td>\n",
       "      <td>0</td>\n",
       "      <td>0</td>\n",
       "      <td>0</td>\n",
       "    </tr>\n",
       "    <tr>\n",
       "      <th>4</th>\n",
       "      <td>2</td>\n",
       "      <td>69.0</td>\n",
       "      <td>0</td>\n",
       "      <td>0</td>\n",
       "      <td>0</td>\n",
       "      <td>0</td>\n",
       "      <td>0</td>\n",
       "      <td>0</td>\n",
       "      <td>0</td>\n",
       "      <td>0</td>\n",
       "      <td>...</td>\n",
       "      <td>0</td>\n",
       "      <td>0</td>\n",
       "      <td>0</td>\n",
       "      <td>0</td>\n",
       "      <td>0</td>\n",
       "      <td>0</td>\n",
       "      <td>0</td>\n",
       "      <td>0</td>\n",
       "      <td>0</td>\n",
       "      <td>0</td>\n",
       "    </tr>\n",
       "  </tbody>\n",
       "</table>\n",
       "<p>5 rows × 89 columns</p>\n",
       "</div>"
      ],
      "text/plain": [
       "   tflat  CArea in Sq.m.  Location_Baner  Location_Bhosari  Location_Bhukum  \\\n",
       "0      2            79.5               0                 0                0   \n",
       "1      2            72.5               0                 0                0   \n",
       "2      2            62.0               0                 0                0   \n",
       "3      2            60.0               0                 0                0   \n",
       "4      2            69.0               0                 0                0   \n",
       "\n",
       "   Location_Budruk  Location_Charholi  Location_Chinchwad  Location_Chowk  \\\n",
       "0                0                  0                   0               0   \n",
       "1                0                  0                   0               0   \n",
       "2                0                  0                   0               0   \n",
       "3                0                  0                   0               0   \n",
       "4                0                  0                   0               0   \n",
       "\n",
       "   Location_Dhanori  ...  Buiding_Shapoorji Joyville Sensorium  \\\n",
       "0                 0  ...                                     0   \n",
       "1                 0  ...                                     0   \n",
       "2                 0  ...                                     0   \n",
       "3                 0  ...                                     0   \n",
       "4                 0  ...                                     0   \n",
       "\n",
       "   Buiding_Shivam 19 Grand West  Buiding_Shree Enterprises Sparsh  \\\n",
       "0                             0                                 0   \n",
       "1                             0                                 0   \n",
       "2                             0                                 0   \n",
       "3                             0                                 0   \n",
       "4                             0                                 0   \n",
       "\n",
       "   Buiding_Tathawade Mhada  Buiding_Townscape Sneh Mithila  Buiding_Unika  \\\n",
       "0                        0                               0              0   \n",
       "1                        0                               0              0   \n",
       "2                        0                               0              0   \n",
       "3                        0                               0              0   \n",
       "4                        0                               0              0   \n",
       "\n",
       "   Buiding_VTP Euphoria  Buiding_Vansh Viva  Buiding_Waghere Subhadra Heights  \\\n",
       "0                     0                   0                                 0   \n",
       "1                     0                   0                                 0   \n",
       "2                     0                   0                                 0   \n",
       "3                     0                   0                                 0   \n",
       "4                     0                   0                                 0   \n",
       "\n",
       "   Buiding_iLife Upper NIBM  \n",
       "0                         0  \n",
       "1                         0  \n",
       "2                         0  \n",
       "3                         0  \n",
       "4                         0  \n",
       "\n",
       "[5 rows x 89 columns]"
      ]
     },
     "execution_count": 68,
     "metadata": {},
     "output_type": "execute_result"
    }
   ],
   "source": [
    "X.head()"
   ]
  },
  {
   "cell_type": "code",
   "execution_count": 69,
   "id": "0cbd773c",
   "metadata": {},
   "outputs": [
    {
     "data": {
      "text/plain": [
       "0      67.740\n",
       "1      98.500\n",
       "2      47.140\n",
       "3      46.340\n",
       "4      55.000\n",
       "        ...  \n",
       "705    59.130\n",
       "706    88.810\n",
       "707    75.805\n",
       "708    55.080\n",
       "709    27.030\n",
       "Name: Value, Length: 710, dtype: float64"
      ]
     },
     "execution_count": 69,
     "metadata": {},
     "output_type": "execute_result"
    }
   ],
   "source": [
    "Y"
   ]
  },
  {
   "cell_type": "code",
   "execution_count": 70,
   "id": "b3cd6d43",
   "metadata": {},
   "outputs": [],
   "source": [
    "xtrain, xtest, ytrain, ytest = train_test_split(X,Y,test_size=0.3,random_state=42)"
   ]
  },
  {
   "cell_type": "code",
   "execution_count": 71,
   "id": "fb50fb4e",
   "metadata": {},
   "outputs": [],
   "source": [
    "trf1=ColumnTransformer(transformers=[\n",
    "    ('scaler', MinMaxScaler(),slice(1,10))\n",
    "])"
   ]
  },
  {
   "cell_type": "code",
   "execution_count": 72,
   "id": "107c81bb",
   "metadata": {},
   "outputs": [],
   "source": [
    "trf2=DecisionTreeRegressor()"
   ]
  },
  {
   "cell_type": "code",
   "execution_count": 73,
   "id": "d280ba4d",
   "metadata": {},
   "outputs": [],
   "source": [
    "pipe=make_pipeline(trf1,trf2)"
   ]
  },
  {
   "cell_type": "code",
   "execution_count": 74,
   "id": "de4303ad",
   "metadata": {},
   "outputs": [
    {
     "data": {
      "text/plain": [
       "Pipeline(steps=[('columntransformer',\n",
       "                 ColumnTransformer(transformers=[('scaler', MinMaxScaler(),\n",
       "                                                  slice(1, 10, None))])),\n",
       "                ('decisiontreeregressor', DecisionTreeRegressor())])"
      ]
     },
     "execution_count": 74,
     "metadata": {},
     "output_type": "execute_result"
    }
   ],
   "source": [
    "pipe.fit(xtrain,ytrain)"
   ]
  },
  {
   "cell_type": "code",
   "execution_count": 75,
   "id": "15d13b31",
   "metadata": {},
   "outputs": [],
   "source": [
    "ypred=pipe.predict(xtest)"
   ]
  },
  {
   "cell_type": "code",
   "execution_count": 76,
   "id": "b9d6e8df",
   "metadata": {},
   "outputs": [
    {
     "data": {
      "text/plain": [
       "0.8394996331538339"
      ]
     },
     "execution_count": 76,
     "metadata": {},
     "output_type": "execute_result"
    }
   ],
   "source": [
    "from sklearn.metrics import r2_score\n",
    "r2_score(ytest,ypred)"
   ]
  },
  {
   "cell_type": "code",
   "execution_count": 77,
   "id": "642e7d33",
   "metadata": {},
   "outputs": [
    {
     "data": {
      "text/plain": [
       "0.829323057673492"
      ]
     },
     "execution_count": 77,
     "metadata": {},
     "output_type": "execute_result"
    }
   ],
   "source": [
    "trf2=RandomForestRegressor()\n",
    "pipe=make_pipeline(trf1,trf2)\n",
    "pipe.fit(xtrain,ytrain)\n",
    "ypred=pipe.predict(xtest)\n",
    "r2_score(ytest,ypred)"
   ]
  },
  {
   "cell_type": "code",
   "execution_count": null,
   "id": "ac03d6d4",
   "metadata": {},
   "outputs": [],
   "source": []
  }
 ],
 "metadata": {
  "kernelspec": {
   "display_name": "Python 3",
   "language": "python",
   "name": "python3"
  },
  "language_info": {
   "codemirror_mode": {
    "name": "ipython",
    "version": 3
   },
   "file_extension": ".py",
   "mimetype": "text/x-python",
   "name": "python",
   "nbconvert_exporter": "python",
   "pygments_lexer": "ipython3",
   "version": "3.8.8"
  }
 },
 "nbformat": 4,
 "nbformat_minor": 5
}
