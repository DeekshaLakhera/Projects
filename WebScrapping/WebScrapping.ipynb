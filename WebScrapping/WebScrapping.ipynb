{
 "cells": [
  {
   "cell_type": "code",
   "execution_count": 1,
   "id": "cb8fc4e2",
   "metadata": {},
   "outputs": [],
   "source": [
    "import numpy as np\n",
    "import pandas as pd\n",
    "import requests\n",
    "from bs4 import BeautifulSoup\n",
    "from selenium import webdriver"
   ]
  },
  {
   "cell_type": "code",
   "execution_count": 2,
   "id": "98c00712",
   "metadata": {},
   "outputs": [],
   "source": [
    "import time\n",
    "from selenium import webdriver\n",
    "from bs4 import BeautifulSoup\n",
    "from urllib.parse import urljoin\n",
    "\n",
    "##### Web scrapper for infinite scrolling page #####\n",
    "def soup_(x):    \n",
    "    driver = webdriver.Chrome(executable_path=r\"C:\\Chrome\\chromedriver_win32\\chromedriver.exe\")\n",
    "    driver.get(f'https://www.99acres.com/search/property/buy/pune?city=19&preference=S&area_unit={x}&res_com=R')\n",
    "    time.sleep(2)\n",
    "    scroll_pause_time = 1 \n",
    "    screen_height = driver.execute_script(\"return window.screen.height;\")   # get the screen height of the web\n",
    "    i = 1\n",
    "    count = 0\n",
    "    while True:\n",
    "        count+=1\n",
    "        # scroll one screen height each time\n",
    "        driver.execute_script(\"window.scrollTo(0, {screen_height}*{i});\".format(screen_height=screen_height, i=i))  \n",
    "        i += 1\n",
    "        time.sleep(scroll_pause_time)\n",
    "        # update scroll height each time after scrolled, as the scroll height can change after we scrolled the page\n",
    "        scroll_height = driver.execute_script(\"return document.body.scrollHeight;\")  \n",
    "        # Break the loop when the height we need to scroll to is larger than the total scroll height\n",
    "        if count==30:\n",
    "            break \n",
    "\n",
    "    ##### Extract Reddit URLs #####\n",
    "    # print(count)\n",
    "    urls = []\n",
    "    soup = BeautifulSoup(driver.page_source, \"html.parser\")\n",
    "    return soup\n"
   ]
  },
  {
   "cell_type": "code",
   "execution_count": 5,
   "id": "0a970476",
   "metadata": {},
   "outputs": [
    {
     "name": "stderr",
     "output_type": "stream",
     "text": [
      "<ipython-input-2-74e489657dc6>:8: DeprecationWarning: executable_path has been deprecated, please pass in a Service object\n",
      "  driver = webdriver.Chrome(executable_path=r\"C:\\Chrome\\chromedriver_win32\\chromedriver.exe\")\n"
     ]
    }
   ],
   "source": [
    "loc = []\n",
    "buiding = []\n",
    "value = []\n",
    "Area=[]\n",
    "flat = []\n",
    "connectivity = []\n",
    "\n",
    "w=1\n",
    "for k in range(3):\n",
    "    for j in range(w,w+10): #r every pages\n",
    "        soup = soup_(j)\n",
    "        contain = soup.find_all('div', class_ = 'srpTuple__descCont false srpTuple__descContNoUspWithLandmark false')\n",
    "        for i in contain:\n",
    "        #     print('__________________________________________________________________')\n",
    "\n",
    "        #     print(i.find('h2').text)\n",
    "            loc.append(i.find('h2').text)\n",
    "\n",
    "        #     print(i.find('a', class_ = 'srpTuple__dFlex').text)\n",
    "            buiding.append(i.find('a', class_ = 'srpTuple__dFlex').text)\n",
    "\n",
    "        #     print(i.find_all('td', class_ = 'srpTuple__col title_semiBold')[0].text)\n",
    "            value.append(i.find_all('td', class_ = 'srpTuple__col title_semiBold')[0].text)\n",
    "\n",
    "        #     print(i.find_all('td', class_ = 'srpTuple__col title_semiBold')[1].text)\n",
    "            Area.append(i.find_all('td', class_ = 'srpTuple__col title_semiBold')[1].text)\n",
    "\n",
    "        #     print(i.find_all('td', class_ = 'srpTuple__col title_semiBold')[2].text)\n",
    "            flat.append(i.find_all('td', class_ = 'srpTuple__col title_semiBold')[2].text)\n",
    "\n",
    "        #     print(i.find('div', class_ = 'SliderTagsAndChips__tagCount').text)\n",
    "            connectivity.append(i.find('div', class_ = 'SliderTagsAndChips__tagCount').text)\n",
    "        w+=10"
   ]
  },
  {
   "cell_type": "code",
   "execution_count": 13,
   "id": "ed4acd5a",
   "metadata": {},
   "outputs": [],
   "source": [
    "Data = {'Building':buiding, 'Flat':flat, 'Area': Area, 'Location':loc,'Price':value}"
   ]
  },
  {
   "cell_type": "code",
   "execution_count": 14,
   "id": "6e9578e8",
   "metadata": {},
   "outputs": [],
   "source": [
    "df = pd.DataFrame(Data)"
   ]
  },
  {
   "cell_type": "code",
   "execution_count": 15,
   "id": "9d160bb3",
   "metadata": {},
   "outputs": [
    {
     "data": {
      "text/html": [
       "<div>\n",
       "<style scoped>\n",
       "    .dataframe tbody tr th:only-of-type {\n",
       "        vertical-align: middle;\n",
       "    }\n",
       "\n",
       "    .dataframe tbody tr th {\n",
       "        vertical-align: top;\n",
       "    }\n",
       "\n",
       "    .dataframe thead th {\n",
       "        text-align: right;\n",
       "    }\n",
       "</style>\n",
       "<table border=\"1\" class=\"dataframe\">\n",
       "  <thead>\n",
       "    <tr style=\"text-align: right;\">\n",
       "      <th></th>\n",
       "      <th>Building</th>\n",
       "      <th>Flat</th>\n",
       "      <th>Area</th>\n",
       "      <th>Location</th>\n",
       "      <th>Price</th>\n",
       "    </tr>\n",
       "  </thead>\n",
       "  <tbody>\n",
       "    <tr>\n",
       "      <th>0</th>\n",
       "      <td>Miravet District</td>\n",
       "      <td>2 BHK</td>\n",
       "      <td>842-869 sq.ft. (78-81 sq.m.) Carpet Area</td>\n",
       "      <td>2 BHK Apartment in Ravet</td>\n",
       "      <td>₹ 66.67  - 68.81 L</td>\n",
       "    </tr>\n",
       "    <tr>\n",
       "      <th>1</th>\n",
       "      <td>Jogeshwari Sun City4.4 ★</td>\n",
       "      <td></td>\n",
       "      <td>1,000 sq.ft. (93 sq.m.) Plot Area</td>\n",
       "      <td>Residential land / Plot in Wagholi</td>\n",
       "      <td>₹ 22 L₹ 2,200/sq.ft.</td>\n",
       "    </tr>\n",
       "    <tr>\n",
       "      <th>2</th>\n",
       "      <td>LMS Finswell Woods</td>\n",
       "      <td>2 BHK2 Baths</td>\n",
       "      <td>773-782 sq.ft. (72-73 sq.m.) Carpet Area</td>\n",
       "      <td>2 BHK Apartment in Viman Nagar</td>\n",
       "      <td>₹ 98  - 99 L₹ 12,668/sq.ft.</td>\n",
       "    </tr>\n",
       "    <tr>\n",
       "      <th>3</th>\n",
       "      <td>Mangal Shanti Mansha Phase 2</td>\n",
       "      <td>2 BHK2 Baths</td>\n",
       "      <td>640-700 sq.ft. (59-65 sq.m.) Carpet Area</td>\n",
       "      <td>2 BHK Apartment in Wagholi</td>\n",
       "      <td>₹ 45.21  - 49.07 L₹ 7,036/sq.ft.</td>\n",
       "    </tr>\n",
       "    <tr>\n",
       "      <th>4</th>\n",
       "      <td>Kuber Antonia</td>\n",
       "      <td>2 BHK2 Baths</td>\n",
       "      <td>730 sq.ft. (68 sq.m.) Carpet Area</td>\n",
       "      <td>2 BHK Apartment in Wakad</td>\n",
       "      <td>₹ 66.57 L</td>\n",
       "    </tr>\n",
       "  </tbody>\n",
       "</table>\n",
       "</div>"
      ],
      "text/plain": [
       "                       Building          Flat  \\\n",
       "0              Miravet District         2 BHK   \n",
       "1      Jogeshwari Sun City4.4 ★                 \n",
       "2            LMS Finswell Woods  2 BHK2 Baths   \n",
       "3  Mangal Shanti Mansha Phase 2  2 BHK2 Baths   \n",
       "4                 Kuber Antonia  2 BHK2 Baths   \n",
       "\n",
       "                                       Area  \\\n",
       "0  842-869 sq.ft. (78-81 sq.m.) Carpet Area   \n",
       "1         1,000 sq.ft. (93 sq.m.) Plot Area   \n",
       "2  773-782 sq.ft. (72-73 sq.m.) Carpet Area   \n",
       "3  640-700 sq.ft. (59-65 sq.m.) Carpet Area   \n",
       "4         730 sq.ft. (68 sq.m.) Carpet Area   \n",
       "\n",
       "                             Location                             Price  \n",
       "0            2 BHK Apartment in Ravet                ₹ 66.67  - 68.81 L  \n",
       "1  Residential land / Plot in Wagholi              ₹ 22 L₹ 2,200/sq.ft.  \n",
       "2      2 BHK Apartment in Viman Nagar       ₹ 98  - 99 L₹ 12,668/sq.ft.  \n",
       "3          2 BHK Apartment in Wagholi  ₹ 45.21  - 49.07 L₹ 7,036/sq.ft.  \n",
       "4            2 BHK Apartment in Wakad                         ₹ 66.57 L  "
      ]
     },
     "execution_count": 15,
     "metadata": {},
     "output_type": "execute_result"
    }
   ],
   "source": [
    "df.head()"
   ]
  },
  {
   "cell_type": "code",
   "execution_count": 16,
   "id": "ede46294",
   "metadata": {},
   "outputs": [],
   "source": [
    "df.to_csv('PropertyValue.csv')"
   ]
  },
  {
   "cell_type": "code",
   "execution_count": null,
   "id": "d89043b5",
   "metadata": {},
   "outputs": [],
   "source": []
  }
 ],
 "metadata": {
  "kernelspec": {
   "display_name": "Python 3",
   "language": "python",
   "name": "python3"
  },
  "language_info": {
   "codemirror_mode": {
    "name": "ipython",
    "version": 3
   },
   "file_extension": ".py",
   "mimetype": "text/x-python",
   "name": "python",
   "nbconvert_exporter": "python",
   "pygments_lexer": "ipython3",
   "version": "3.8.8"
  }
 },
 "nbformat": 4,
 "nbformat_minor": 5
}
